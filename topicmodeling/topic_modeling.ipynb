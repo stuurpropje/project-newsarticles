{
 "cells": [
  {
   "attachments": {},
   "cell_type": "markdown",
   "metadata": {},
   "source": [
    "# Wrangling the data.\n",
    "In this notebook, several functions are defined which can be used to take a better look at the information created through the data processing, and the final implementation solutions which can be used by a user.\n",
    "\n",
    "The functions are designed to be imported to the final results.ipynb notebook."
   ]
  },
  {
   "cell_type": "code",
   "execution_count": 33,
   "metadata": {},
   "outputs": [],
   "source": [
    "from scipy.spatial.distance import jensenshannon\n",
    "from IPython.display import HTML, display\n",
    "from ipywidgets import interact, Layout, HBox, VBox, Box\n",
    "from IPython.display import clear_output\n",
    "import numpy as np\n",
    "import pandas as pd\n",
    "import sys\n",
    "import joblib\n",
    "import matplotlib.pyplot as plt\n",
    "import ipywidgets as widgets\n",
    "\n",
    "sys.path.append(\"../datacleaning\")\n",
    "from load import load_years"
   ]
  },
  {
   "cell_type": "code",
   "execution_count": 10,
   "metadata": {},
   "outputs": [],
   "source": [
    "years: list[int] = load_years(\"../years.txt\")"
   ]
  },
  {
   "cell_type": "code",
   "execution_count": 30,
   "metadata": {},
   "outputs": [],
   "source": [
    "def load_all_files(path: str, csv_path: str, years: list[int]) -> dict[str, dict[str, pd.DataFrame]]:\n",
    "    \"\"\"Load all topic modelling files into a dictionary.\n",
    "\n",
    "    Args:\n",
    "        path (str): Path to the data directory.\n",
    "        csv_path (str): Path to the unprocssed csv file.\n",
    "        years (list[int]): Years to load.\n",
    "\n",
    "    Returns:\n",
    "        A dictionary containing the LDA, the vectorized data, the vectorizer and\n",
    "            the dataframe containing the unmodified articles.\n",
    "    \"\"\"\n",
    "    lda: dict[str, pd.DataFrame] = {}\n",
    "    data_vectorized: dict[str, pd.DataFrame] = {}\n",
    "    vectorizer: dict[str, pd.DataFrame] = {}\n",
    "    df : dict[str, pd.DataFrame] = {}\n",
    "    doc_topic_dist: dict[str, pd.DataFrame] = {}\n",
    "\n",
    "    # Update the files year by year.\n",
    "    for year in years:\n",
    "        lda.update({year: joblib.load(f\"{path}/lda_{year}.csv\")})\n",
    "        data_vectorized.update(\n",
    "            {year: joblib.load(f\"{path}/data_vectorized_{year}.csv\")}\n",
    "        )\n",
    "        vectorizer.update({year: joblib.load(f\"{path}/vectorizer_{year}.csv\")})\n",
    "        df.update({year: pd.read_csv(f\"{csv_path}/{year}_03.csv\")})\n",
    "        doc_topic_dist.update(\n",
    "            {year: joblib.load(f\"{path}/doc_topic_dist_{year}.csv\")}\n",
    "        )\n",
    "        print(f\"{year} done.\")\n",
    "\n",
    "    # Place the data in a dictionary.\n",
    "    #   This is done to limit the number of variables to pass in function arguments.\n",
    "    file_values: tuple[dict[str, pd.DataFrame]] = lda, data_vectorized, vectorizer, df, doc_topic_dist\n",
    "    file_keys: list[str] = [\"lda\", \"data_vectorized\", \"vectorizer\", \"df\", \"doc_topic_dist\"]\n",
    "    topic_modelling_files: dict[str, dict[str, pd.DataFrame]] = dict(zip(file_keys, file_values))\n",
    "\n",
    "    return topic_modelling_files"
   ]
  },
  {
   "cell_type": "code",
   "execution_count": 12,
   "metadata": {},
   "outputs": [
    {
     "name": "stdout",
     "output_type": "stream",
     "text": [
      "2016 done.\n",
      "2017 done.\n",
      "2018 done.\n",
      "2019 done.\n",
      "2020 done.\n"
     ]
    }
   ],
   "source": [
    "topic_modelling_files = load_all_files(\"./csv/\", \"../csv\", years)"
   ]
  },
  {
   "cell_type": "code",
   "execution_count": 13,
   "metadata": {},
   "outputs": [],
   "source": [
    "def print_top_words(lda: pd.DataFrame, vectorizer: pd.DataFrame, n_top_words: int=10, n_topics: int=3) -> None:\n",
    "    \"\"\"Print the top words for each topic.\n",
    "     \n",
    "     Args:\n",
    "        topic_modelling_files (dict[str, dict[str, pd.DataFrame]]): Dictionary containing topic modelling data.\n",
    "        year (int): Year to be printed.\n",
    "        n_top_words (int): Number of words printed per topic. Defaults to 10.\n",
    "        n_topics (int): Number of topics to print. Defaults to 3.\n",
    "    \"\"\"\n",
    "    feature_names = vectorizer.get_feature_names_out()\n",
    "    dist = list(enumerate(lda.components_))\n",
    "\n",
    "    for topic_id, topic in dist[:n_topics]:\n",
    "        message = f\"Topic {topic_id}: \"\n",
    "        message += \" \".join([feature_names[i] for i in topic.argsort()[: -n_top_words - 1 : -1]])\n",
    "        print(message)\n",
    "    print()"
   ]
  },
  {
   "cell_type": "code",
   "execution_count": 14,
   "metadata": {},
   "outputs": [
    {
     "name": "stdout",
     "output_type": "stream",
     "text": [
      "Topic 0: use like make new not technology one also design camera get work app look system vr you device well car google even video build way\n",
      "Topic 1: say police court case officer charge judge report law arrest lawyer crime justice attorney accord lawsuit tell prosecutor claim file investigation statement prison trial department\n",
      "Topic 2: song music album band record space release year new track time not first one video last show make singer take fight like go fan tour\n",
      "Topic 3: health say drug study patient use medical people dr care research doctor find one year also not disease researcher cancer treatment new may percent would\n",
      "Topic 4: zika option next section indicate icon previous menu sometimes virus chevron navigation expandable case outbreak mosquito say health spread pregnant disease woman infection microcephaly infect\n",
      "\n",
      "Topic 0: like not make get one go do good music sound time say come know play well you thing he new back re la way song\n",
      "Topic 1: percent price stock say high oil rise market north we report fall year korea index low analyst week gain month barrel since crude last us\n",
      "Topic 2: 2017 music song album band singer release year video record fan new twitter perform artist swift rock pop anthem tour performance one concert post take\n",
      "Topic 3: court judge order case law ban say justice legal supreme immigration federal rule lawyer right decision appeal state would executive country us immigrant states lawsuit\n",
      "Topic 4: trump say president we north senate nuclear would state administration korea united military secretary house states senator defense us republican trumps washington sen leader official\n",
      "\n",
      "Topic 0: woman man people one not sex many say study find make sexual work change black female even also university way white often young experience gender\n",
      "Topic 1: not do get go like think people say re know thing make want one you really that would time well ve way see good they\n",
      "Topic 2: 2018 get star year not good film show award like time one movie make go fan new video actor song music say look hollywood first\n",
      "Topic 3: game player season team play first point two score lead run second league hit win three field make one last coach third four year leave\n",
      "Topic 4: trump hill north say president korea we washington kim dc site news tel publishing suite corp discussion 900 communications subsidiary fax nw 1625 nuclear 20006\n",
      "\n",
      "Topic 0: year growth economy say rate percent month economic increase last job market we report cut quarter slow trade consumer show economist business low since fall\n",
      "Topic 1: health say drug care patient medical study people use disease doctor dr hospital treatment year cancer report risk also case new find cause product researcher\n",
      "Topic 2: woman film show black story say people book man year movie first also one write award actor gay series good make role play not star\n",
      "Topic 3: say hotel dog one video sex find animal woman room restaurant new make photo insider post tell epstein also take man girl like see sexual\n",
      "Topic 4: card movie credit disney film get star make one pay series marvel netflix also money year fee war new like earn not offer show time\n",
      "\n",
      "Topic 0: de la que en el los un del una se las para con por al es su más lo como le ha sus estado pero\n",
      "Topic 1: iran we say iranian united states kill military iraq attack us strike saudi soleimani trump american force irans war missile president middle east oil report\n",
      "Topic 2: datum company say business use technology customer access service network firm information tech consumer data digital cloud huawei privacy help work microsoft also could product\n",
      "Topic 3: say event tokyo japan world postpone olympic space game cancel team march schedule sport would japanese international year ghosn hong race taiwan kong hold launch\n",
      "Topic 4: company say business year investor market new make million one fund investment startup ceo also get like big well not time firm go work last\n",
      "\n"
     ]
    }
   ],
   "source": [
    "for year in years:\n",
    "    print_top_words(topic_modelling_files[\"lda\"][year], topic_modelling_files[\"vectorizer\"][year], n_top_words=25, n_topics=5)"
   ]
  },
  {
   "cell_type": "code",
   "execution_count": 37,
   "metadata": {},
   "outputs": [],
   "source": [
    "def get_n_nearest_docs(doc_topic_dist: pd.DataFrame, doc_dist: pd.Series, number_of_articles: int = 5, get_dist: bool = True) -> pd.Series | tuple[pd.Series, pd.Series.index]:\n",
    "    \"\"\"Retrieve the related articles for a specified article.\n",
    "\n",
    "    Retrieval is based on the Jensen-Shannon divergence in topic space.\n",
    "\n",
    "    Args:\n",
    "        doc_topic_dist (pd.DataFrame): Topic distribution of all articles.\n",
    "        doc_dist: Topic distribution of specified article.\n",
    "        number_of_articles (int): Number of nearest articles to return.\n",
    "        get_dist (bool): Whether to return the distances or not. Defaults to True.\n",
    "\n",
    "    Returns:\n",
    "        Index of the k nearest articles (as by Jensen-Shannon divergence in topic space).\n",
    "    \"\"\"\n",
    "    # Assigned as temp as apply occurs in-place.\n",
    "    temp = doc_topic_dist\n",
    "    distances = temp.apply(lambda x: jensenshannon(x, doc_dist), axis=1)\n",
    "    k_nearest = distances[distances != 0].nsmallest(n=number_of_articles).index\n",
    "\n",
    "    if get_dist:\n",
    "        # Get nearest neighbor distance to given article.\n",
    "        k_distances = distances[distances != 0].nsmallest(n=number_of_articles)\n",
    "        return k_nearest, k_distances\n",
    "    else:\n",
    "        return k_nearest"
   ]
  },
  {
   "cell_type": "code",
   "execution_count": 31,
   "metadata": {},
   "outputs": [],
   "source": [
    "def compare_topic(df: pd.DataFrame, doc_topic_dist: pd.DataFrame, title: str, recommendation_title: str, width: int = 20) -> None:\n",
    "    \"\"\"Plot topic distribution between articles.\n",
    "\n",
    "    Args:\n",
    "        df (pd.Dataframe): Dataframe containing corpus of articles.\n",
    "        doc_topic_dist (pd.DataFrame): Topic distribution of all articles.\n",
    "        title (str): Title of the topic to compare against.\n",
    "        recommendation_title (str): Title of the recommended article.\n",
    "        width (int): Width of the figure.\n",
    "    \"\"\"\n",
    "    recommended_title = df[df[\"title\"] == recommendation_title].title.values[0]\n",
    "    temp = doc_topic_dist[df[\"title\"] == title]\n",
    "    ymax = temp.max(axis=1).values[0] * 1.5\n",
    "    temp = pd.concat([temp, doc_topic_dist[df[\"title\"] == recommendation_title]])\n",
    "    temp.T.plot(kind=\"bar\", title=recommended_title, figsize=(width, 4), ylim=[0, ymax], ylabel=\"Density of topic\")\n",
    "    plt.xlabel(\"Topic\")\n",
    "    plt.legend([\"Selection\", \"Recommendation\"])"
   ]
  },
  {
   "cell_type": "code",
   "execution_count": 23,
   "metadata": {},
   "outputs": [],
   "source": [
    "def compare_tabs(df: pd.DataFrame, doc_topic_dist: pd.DataFrame, title: str, recommendation_titles: np.ndarray) -> None:\n",
    "    \"\"\"Compare topic distribution between articles in tabs.\n",
    "\n",
    "    Args:\n",
    "        df (pd.Dataframe): Dataframe containing corpus of articles.\n",
    "        doc_topic_dist (pd.DataFrame): Topic distribution of all articles.\n",
    "        title (str): Title of seeding article.\n",
    "        recommendation_ids (np.ndarray): Array of recommended articles.\n",
    "    \"\"\"\n",
    "    number_of_compared_articles = len(recommendation_titles)\n",
    "    outs = [widgets.Output() for i in range(number_of_compared_articles)]\n",
    "    tab = widgets.Tab(children = outs)\n",
    "    tab_titles = [f\"Paper {str(i + 1)}\" for i in range(number_of_compared_articles)]\n",
    "\n",
    "    # Set the title of each tab.\n",
    "    for i, tab_title in enumerate(tab_titles):\n",
    "        tab.set_title(i, tab_title)\n",
    "    display(tab)\n",
    "\n",
    "    # Plot the topic distribution of the specified and recommended articles.\n",
    "    for i in range(number_of_compared_articles):\n",
    "        with outs[i]:\n",
    "            ax = compare_topic(df, doc_topic_dist, title, recommendation_titles[i])\n",
    "            plt.show(ax)       "
   ]
  },
  {
   "cell_type": "code",
   "execution_count": 39,
   "metadata": {},
   "outputs": [],
   "source": [
    "def recommendation(topic_modelling_files: dict[str, dict[str, pd.DataFrame]], year: int, title: str, number_of_related_articles: int=5, plot_topics: bool=True) -> None:\n",
    "    \"\"\"Return the articles that are closest to the given paper.\n",
    "\n",
    "    Args:\n",
    "        topic_modelling_files (dict[str, dict[str, pd.DataFrame]]): Dictionary containing topic modelling data.\n",
    "        year (int): Publishing year of the seeding article.\n",
    "        title (str): Title of seeding article.\n",
    "        number_of_related_articles (int): Number nearest articles to return. Defaults to 5.\n",
    "        plot_dna (bool): Plot topic distribution of seeding and recommended articles. Defaults to True.\n",
    "    \"\"\"\n",
    "    df: pd.DataFrame = topic_modelling_files[\"df\"][year]\n",
    "    doc_topic_dist: pd.DataFrame = topic_modelling_files[\"doc_topic_dist\"][year]\n",
    "    display(df[df[\"title\"] == title])\n",
    "\n",
    "    recommended, dist = get_n_nearest_docs(\n",
    "        doc_topic_dist,\n",
    "        doc_topic_dist[df[\"title\"] == title].iloc[0],\n",
    "        number_of_related_articles,\n",
    "        get_dist=True,\n",
    "    )\n",
    "    recommended = df.iloc[recommended].copy()\n",
    "    recommended[\"similarity\"] = 1 - dist\n",
    "\n",
    "    link = \"<br/>\".join(['<a href=\"'+ l + '\" target=\"_blank\">'+ n + \"</a>\" + \" (Similarity: \" + \"{:.2f}%\".format(s * 100) + \")\" for l, n, s in recommended[[\"url\", \"title\", \"similarity\"]].values])\n",
    "    display(HTML(link))\n",
    "\n",
    "    # Plot tabs to compare topic distribution of seed and recommended articles.\n",
    "    if plot_topics is True:\n",
    "        compare_tabs(df, doc_topic_dist, title, recommended[\"title\"].values)"
   ]
  },
  {
   "cell_type": "code",
   "execution_count": 40,
   "metadata": {},
   "outputs": [
    {
     "data": {
      "text/html": [
       "<div>\n",
       "<style scoped>\n",
       "    .dataframe tbody tr th:only-of-type {\n",
       "        vertical-align: middle;\n",
       "    }\n",
       "\n",
       "    .dataframe tbody tr th {\n",
       "        vertical-align: top;\n",
       "    }\n",
       "\n",
       "    .dataframe thead th {\n",
       "        text-align: right;\n",
       "    }\n",
       "</style>\n",
       "<table border=\"1\" class=\"dataframe\">\n",
       "  <thead>\n",
       "    <tr style=\"text-align: right;\">\n",
       "      <th></th>\n",
       "      <th>year</th>\n",
       "      <th>date</th>\n",
       "      <th>month</th>\n",
       "      <th>day</th>\n",
       "      <th>author</th>\n",
       "      <th>title</th>\n",
       "      <th>article</th>\n",
       "      <th>url</th>\n",
       "      <th>section</th>\n",
       "      <th>publication</th>\n",
       "    </tr>\n",
       "  </thead>\n",
       "  <tbody>\n",
       "    <tr>\n",
       "      <th>14610</th>\n",
       "      <td>2020</td>\n",
       "      <td>2020-03-14 00:00:00</td>\n",
       "      <td>3.0</td>\n",
       "      <td>14</td>\n",
       "      <td>NaN</td>\n",
       "      <td>Russia faces 2020 budget deficit of 0.9% of GD...</td>\n",
       "      <td>moscow march 14 reuter russia budget deficit c...</td>\n",
       "      <td>https://www.reuters.com/article/russia-gdp-oil...</td>\n",
       "      <td>Credit RSS</td>\n",
       "      <td>Reuters</td>\n",
       "    </tr>\n",
       "  </tbody>\n",
       "</table>\n",
       "</div>"
      ],
      "text/plain": [
       "       year                 date  month  day author  \\\n",
       "14610  2020  2020-03-14 00:00:00    3.0   14    NaN   \n",
       "\n",
       "                                                   title  \\\n",
       "14610  Russia faces 2020 budget deficit of 0.9% of GD...   \n",
       "\n",
       "                                                 article  \\\n",
       "14610  moscow march 14 reuter russia budget deficit c...   \n",
       "\n",
       "                                                     url     section  \\\n",
       "14610  https://www.reuters.com/article/russia-gdp-oil...  Credit RSS   \n",
       "\n",
       "      publication  \n",
       "14610     Reuters  "
      ]
     },
     "metadata": {},
     "output_type": "display_data"
    },
    {
     "data": {
      "text/html": [
       "<a href=\"https://www.reuters.com/article/us-usa-economy-output/us-manufacturing-output-rises-unexpectedly-idUSKBN1ZG1OL\" target=\"_blank\">U.S. manufacturing output rises unexpectedly</a> (Similarity: 76.03%)<br/><a href=\"https://www.reuters.com/article/europe-vehicleregistrations-january/european-new-car-sales-down-74-in-january-acea-idUSF9N1W001A\" target=\"_blank\">European new car sales down 7.4% in January: ACEA</a> (Similarity: 75.54%)<br/><a href=\"https://www.reuters.com/article/us-mexico-autos/mexican-truck-and-bus-output-backfires-on-doubts-over-diesel-rule-idUSKBN20E090\" target=\"_blank\">Mexican truck and bus output backfires on doubts over diesel rule</a> (Similarity: 73.26%)<br/><a href=\"https://www.reuters.com/article/kyrgyzstan-rates/kyrgyzstans-central-bank-raises-policy-rate-to-50-idUSR4N23502A\" target=\"_blank\">Kyrgyzstan's central bank raises policy rate to 5.0%</a> (Similarity: 72.58%)<br/><a href=\"https://www.reuters.com/article/mexico-inflation/update-1-mexico-inflation-in-december-was-lowest-in-more-than-3-years-idUSL1N29E0IO\" target=\"_blank\">UPDATE 1-Mexico inflation in December was lowest in more than 3 years</a> (Similarity: 68.45%)<br/><a href=\"https://www.cnbc.com/2020/02/06/reuters-america-german-industrial-orders-slump-in-december-on-weak-euro-zone-demand.html\" target=\"_blank\">German industrial orders slump in December on weak euro zone demand</a> (Similarity: 67.80%)<br/><a href=\"https://www.reuters.com/article/us-eurozone-economy/euro-zone-gdp-slows-as-expected-in-fourth-quarter-but-employment-beats-consensus-idUSKBN20815B\" target=\"_blank\">Euro zone GDP slows as expected in fourth-quarter but employment beats consensus</a> (Similarity: 67.59%)<br/><a href=\"https://www.reuters.com/article/thailand-economy/thailands-q1-gdp-will-not-be-good-govt-official-idUSL4N2AZ1Q4\" target=\"_blank\">Thailand's Q1 GDP will 'not be good' - govt official</a> (Similarity: 67.52%)<br/><a href=\"https://www.reuters.com/article/us-turkey-economy-inflation-poll/turkish-annual-inflation-seen-flat-near-12-in-january-reuters-poll-idUSKBN1ZS216\" target=\"_blank\">Turkish annual inflation seen flat near 12% in January- Reuters poll</a> (Similarity: 66.92%)<br/><a href=\"https://www.reuters.com/article/volkswagen-deliveries/volkswagen-says-its-2019-vehicle-deliveries-were-slightly-above-prior-year-idUSL8N29E3VZ\" target=\"_blank\">Volkswagen says its 2019 vehicle deliveries were slightly above prior year</a> (Similarity: 66.73%)"
      ],
      "text/plain": [
       "<IPython.core.display.HTML object>"
      ]
     },
     "metadata": {},
     "output_type": "display_data"
    },
    {
     "data": {
      "application/vnd.jupyter.widget-view+json": {
       "model_id": "99ad60ed66354eacbd978c722bd746a3",
       "version_major": 2,
       "version_minor": 0
      },
      "text/plain": [
       "Tab(children=(Output(), Output(), Output(), Output(), Output(), Output(), Output(), Output(), Output(), Output…"
      ]
     },
     "metadata": {},
     "output_type": "display_data"
    }
   ],
   "source": [
    "recommendation(topic_modelling_files, 2020, \"Russia faces 2020 budget deficit of 0.9% of GDP at current oil prices\", number_of_related_articles=10)"
   ]
  },
  {
   "cell_type": "code",
   "execution_count": 43,
   "metadata": {},
   "outputs": [],
   "source": [
    "def task_recommendation(topic_modelling_files: dict[str, dict[str, pd.DataFrame]], search_query: str, year: int, number_of_articles: int = 5) -> None:\n",
    "    \"\"\"Find recommendations for articles based on user input.\n",
    "     \n",
    "    User input can be of any length i.e. keywords, paragraphs,\n",
    "\n",
    "     Args:\n",
    "        topic_modelling_files (dict[str, dict[str, pd.DataFrame]]): Dictionary containing topic modelling data.\n",
    "        search_query (str): User specified text to search.\n",
    "        year (int): Year in which search should be performed.\n",
    "        number_of_articles (int): The number of articles to return. Defaults to 5.\n",
    "    \"\"\"\n",
    "    search_query = [search_query]\n",
    "    vectorizer: pd.DataFrame = topic_modelling_files[\"vectorizer\"][year]\n",
    "    lda: pd.DataFrame = topic_modelling_files[\"lda\"][year]\n",
    "    doc_topic_dist: pd.DataFrame = topic_modelling_files[\"doc_topic_dist\"][year]\n",
    "    df: pd.DataFrame = topic_modelling_files[\"df\"][year]\n",
    "\n",
    "    tasks_vectorized = vectorizer.transform(search_query)\n",
    "    tasks_topic_dist: pd.DataFrame = pd.DataFrame(lda.transform(tasks_vectorized))\n",
    "\n",
    "    # Display a list of recommended articles.\n",
    "    for index, bullet in enumerate(search_query):\n",
    "        print(bullet)\n",
    "        recommended, dist = get_n_nearest_docs(doc_topic_dist, tasks_topic_dist.iloc[index], number_of_articles)\n",
    "        recommended = df.iloc[recommended].copy()\n",
    "        recommended[\"similarity\"] = 1 - dist\n",
    "\n",
    "        h = \"<br/>\".join(['<a href=\"' + l + '\" target=\"_blank\">' + n + \"</a>\" + \" (Similarity: \" + \"{:.2f}%\".format(s * 100) + \")\" for l, n, s in recommended[[\"url\", \"title\", \"similarity\"]].values])\n",
    "        display(HTML(h))"
   ]
  },
  {
   "cell_type": "code",
   "execution_count": 41,
   "metadata": {},
   "outputs": [],
   "source": [
    "def recommendation_widget(topic_modelling_files: dict[str, dict[str, pd.DataFrame]]) -> None:\n",
    "    \"\"\"Widget to recommended articles based on search query.\n",
    "    \n",
    "    Args:\n",
    "        topic_modelling_files (dict[str, dict[str, pd.DataFrame]]): Dictionary containing topic modelling data.\n",
    "    \"\"\"\n",
    "\n",
    "    textW = widgets.Textarea(value=\"\", placeholder=\"Type something\", description=\"\", disabled=False, layout=Layout(width=\"90%\", height=\"200px\"))\n",
    "    yearW = widgets.IntSlider(value=2018, description=\"Year\", max=2020, min=2016, layout=Layout(width=\"40%\"))\n",
    "    kWidget = widgets.IntSlider(value=10, description=\"Number of articles\", max=50, min=1, layout=Layout(width=\"40%\"), style= {'description_width': 'initial'})\n",
    "    button = widgets.Button(description=\"Search\")\n",
    "\n",
    "    display(VBox([HBox([kWidget, yearW],layout=Layout(width=\"90%\", justify_content=\"space-around\")), textW, button], layout=Layout(align_items=\"center\")))\n",
    "\n",
    "    def on_button_clicked(b) -> None:\n",
    "        \"\"\"Display recommended articles on button click.\"\"\"\n",
    "        clear_output()\n",
    "        display(VBox([HBox([kWidget, yearW], layout=Layout(width=\"90%\", justify_content=\"space-around\")), textW, button], layout=Layout(align_items=\"center\")))\n",
    "        task_recommendation(topic_modelling_files, textW.value, yearW.value, kWidget.value)\n",
    "\n",
    "    button.on_click(on_button_clicked)"
   ]
  },
  {
   "cell_type": "code",
   "execution_count": 44,
   "metadata": {},
   "outputs": [
    {
     "data": {
      "application/vnd.jupyter.widget-view+json": {
       "model_id": "3ade84a537e24499b4a0bb80b5f90f44",
       "version_major": 2,
       "version_minor": 0
      },
      "text/plain": [
       "VBox(children=(HBox(children=(IntSlider(value=10, description='Number of articles', layout=Layout(width='40%')…"
      ]
     },
     "metadata": {},
     "output_type": "display_data"
    },
    {
     "name": "stdout",
     "output_type": "stream",
     "text": [
      "trump\n"
     ]
    },
    {
     "data": {
      "text/html": [
       "<a href=\"https://www.axios.com/trump-on-russia-meddling-ask-jeff-session-4b124448-856e-4b17-8148-e87997c84776.html\" target=\"_blank\">Trump: \"Why aren't Dem crimes under investigation? Ask Jeff Sessions!\"</a> (Similarity: 71.08%)<br/><a href=\"https://www.axios.com/pro-rata-podcast-trump-hushmoney-peter-stris-karen-mcdougal-c59c34a1-dd91-4ea3-8b69-b808364931a0.html\" target=\"_blank\">Podcast: Trump's hush-money headache</a> (Similarity: 63.31%)<br/><a href=\"https://www.axios.com/trump-tweets-michael-cohen-good-lawyer-61fc8b87-8868-4be0-ab79-f56b351aa3df.html\" target=\"_blank\">Trump breaks silence on Michael Cohen by tweeting that he's a bad lawyer</a> (Similarity: 61.71%)<br/><a href=\"https://www.businessinsider.com/stormy-daniels-lawyer-michael-avenatti-trump-michael-cohen-warning-2018-4\" target=\"_blank\">Stormy Daniels' lawyer Michael Avenatti warns Michael Cohen associates</a> (Similarity: 60.57%)<br/><a href=\"https://www.axios.com/senate-intelligence-committee-staffer-being-investigated-by-doj-ff6117f2-3b91-4ede-af14-a9691060543d.html\" target=\"_blank\">Senate Intelligence Committee staffer being investigated by Justice Department</a> (Similarity: 60.41%)<br/><a href=\"https://www.axios.com/former-cia-director-brennan-calls-trump-a-paranoid-charlatan-121d786e-b432-463e-a746-a5a9e18928c4.html\" target=\"_blank\">Former CIA Director Brennan calls Trump a paranoid \"charlatan\"</a> (Similarity: 60.23%)<br/><a href=\"https://www.axios.com/rudy-giuliani-demands-mueller-suspension-tomorrow-after-justice-department-ig-report-91f71b17-966d-4ee3-8e40-f3c473dbb4df.html\" target=\"_blank\">Giuliani demands Mueller suspension “tomorrow” after Justice Department report</a> (Similarity: 59.85%)<br/><a href=\"https://www.axios.com/read-michael-cohen-guilty-plea-mueller-investigation-54a30d48-9a38-4ce6-942f-ac60a172925e.html\" target=\"_blank\">Read Michael Cohen's guilty plea</a> (Similarity: 59.74%)<br/><a href=\"https://www.axios.com/comey-alludes-to-wraywhite-house-standoff-in-tweet-1516681562-bddba4ea-dc4e-4113-8d30-a55eb37ae5d9.html\" target=\"_blank\">Comey alludes to Wray resignation threat in tweet</a> (Similarity: 59.55%)<br/><a href=\"https://www.axios.com/steve-bannon-1515690981-5e947c74-09e0-4534-9468-e997e1838a4a.html\" target=\"_blank\">Bannon hires a lawyer as he's dragged into the Russia investigation</a> (Similarity: 59.39%)"
      ],
      "text/plain": [
       "<IPython.core.display.HTML object>"
      ]
     },
     "metadata": {},
     "output_type": "display_data"
    }
   ],
   "source": [
    "recommendation_widget(topic_modelling_files)"
   ]
  }
 ],
 "metadata": {
  "kernelspec": {
   "display_name": "Python 3",
   "language": "python",
   "name": "python3"
  },
  "language_info": {
   "codemirror_mode": {
    "name": "ipython",
    "version": 3
   },
   "file_extension": ".py",
   "mimetype": "text/x-python",
   "name": "python",
   "nbconvert_exporter": "python",
   "pygments_lexer": "ipython3",
   "version": "3.10.6"
  },
  "orig_nbformat": 4
 },
 "nbformat": 4,
 "nbformat_minor": 2
}
