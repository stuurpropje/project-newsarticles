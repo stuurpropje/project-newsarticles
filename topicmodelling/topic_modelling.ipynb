{
 "cells": [
  {
   "attachments": {},
   "cell_type": "markdown",
   "metadata": {},
   "source": [
    "# Picking related articles."
   ]
  },
  {
   "cell_type": "code",
   "execution_count": 13,
   "metadata": {},
   "outputs": [],
   "source": [
    "import pandas as pd\n",
    "\n",
    "from scipy.spatial.distance import jensenshannon\n",
    "\n",
    "\n",
    "from IPython.display import HTML, display\n",
    "from ipywidgets import interact, Layout, HBox, VBox, Box\n",
    "from IPython.display import clear_output\n",
    "import sys\n",
    "import joblib\n",
    "import matplotlib.pyplot as plt\n",
    "import ipywidgets as widgets\n",
    "\n",
    "sys.path.append(\"../datacleaning\")\n",
    "from load import load_years\n",
    "\n",
    "plt.style.use(\"dark_background\")"
   ]
  },
  {
   "cell_type": "code",
   "execution_count": 14,
   "metadata": {},
   "outputs": [],
   "source": [
    "years: list[int] = load_years(\"../years.txt\")"
   ]
  },
  {
   "cell_type": "code",
   "execution_count": 15,
   "metadata": {},
   "outputs": [],
   "source": [
    "def load_all_files(path: str, csv_path: str, years: list[int]):\n",
    "    lda = {}\n",
    "    data_vectorized = {}\n",
    "    vectorizer = {}\n",
    "    df = {}\n",
    "    doc_topic_dist = {}\n",
    "\n",
    "    for year in years:\n",
    "        lda.update({year: joblib.load(f'{path}/lda_{year}.csv')})\n",
    "        data_vectorized.update({year: joblib.load(f'{path}/data_vectorized_{year}.csv')})\n",
    "        vectorizer.update({year: joblib.load(f'{path}/vectorizer_{year}.csv')})\n",
    "        df.update({year: pd.read_csv(f\"{csv_path}/{year}_03.csv\")})\n",
    "        doc_topic_dist.update({year: joblib.load(f\"{path}/doc_topic_dist_{year}.csv\")})\n",
    "        print(f\"{year} done.\")\n",
    "\n",
    "    return lda, data_vectorized, vectorizer, df, doc_topic_dist"
   ]
  },
  {
   "cell_type": "code",
   "execution_count": 16,
   "metadata": {},
   "outputs": [
    {
     "name": "stdout",
     "output_type": "stream",
     "text": [
      "2016 done.\n",
      "2017 done.\n",
      "2018 done.\n",
      "2019 done.\n",
      "2020 done.\n"
     ]
    }
   ],
   "source": [
    "lda, data_vectorized, vectorizer, df, doc_topic_dist = load_all_files(\"./csv/\", \"../csv\", years)"
   ]
  },
  {
   "cell_type": "code",
   "execution_count": 17,
   "metadata": {},
   "outputs": [],
   "source": [
    "def print_top_words(model, vectorizer, n_top_words, n_topics=3):\n",
    "    feature_names = vectorizer.get_feature_names_out()\n",
    "    dist = list(enumerate(model.components_))\n",
    "    for topic_id, topic in dist[:n_topics]:\n",
    "        message = f\"Topic {topic_id}: \"\n",
    "        message += \" \".join([feature_names[i] for i in topic.argsort()[:-n_top_words - 1:-1]])\n",
    "        print(message)\n",
    "    print()"
   ]
  },
  {
   "cell_type": "code",
   "execution_count": 18,
   "metadata": {},
   "outputs": [
    {
     "name": "stdout",
     "output_type": "stream",
     "text": [
      "Topic 0: use like make new not technology one also design camera get work app look system vr you device well car google even video build way\n",
      "Topic 1: say police court case officer charge judge report law arrest lawyer crime justice attorney accord lawsuit tell prosecutor claim file investigation statement prison trial department\n",
      "Topic 2: song music album band record space release year new track time not first one video last show make singer take fight like go fan tour\n",
      "Topic 3: health say drug study patient use medical people dr care research doctor find one year also not disease researcher cancer treatment new may percent would\n",
      "Topic 4: zika option next section indicate icon previous menu sometimes virus chevron navigation expandable case outbreak mosquito say health spread pregnant disease woman infection microcephaly infect\n",
      "\n",
      "Topic 0: like not make get one go do good music sound time say come know play well you thing he new back re la way song\n",
      "Topic 1: percent price stock say high oil rise market north we report fall year korea index low analyst week gain month barrel since crude last us\n",
      "Topic 2: 2017 music song album band singer release year video record fan new twitter perform artist swift rock pop anthem tour performance one concert post take\n",
      "Topic 3: court judge order case law ban say justice legal supreme immigration federal rule lawyer right decision appeal state would executive country us immigrant states lawsuit\n",
      "Topic 4: trump say president we north senate nuclear would state administration korea united military secretary house states senator defense us republican trumps washington sen leader official\n",
      "\n",
      "Topic 0: woman man people one not sex many say study find make sexual work change black female even also university way white often young experience gender\n",
      "Topic 1: not do get go like think people say re know thing make want one you really that would time well ve way see good they\n",
      "Topic 2: 2018 get star year not good film show award like time one movie make go fan new video actor song music say look hollywood first\n",
      "Topic 3: game player season team play first point two score lead run second league hit win three field make one last coach third four year leave\n",
      "Topic 4: trump hill north say president korea we washington kim dc site news tel publishing suite corp discussion 900 communications subsidiary fax nw 1625 nuclear 20006\n",
      "\n",
      "Topic 0: year growth economy say rate percent month economic increase last job market we report cut quarter slow trade consumer show economist business low since fall\n",
      "Topic 1: health say drug care patient medical study people use disease doctor dr hospital treatment year cancer report risk also case new find cause product researcher\n",
      "Topic 2: woman film show black story say people book man year movie first also one write award actor gay series good make role play not star\n",
      "Topic 3: say hotel dog one video sex find animal woman room restaurant new make photo insider post tell epstein also take man girl like see sexual\n",
      "Topic 4: card movie credit disney film get star make one pay series marvel netflix also money year fee war new like earn not offer show time\n",
      "\n",
      "Topic 0: de la que en el los un del una se las para con por al es su más lo como le ha sus estado pero\n",
      "Topic 1: iran we say iranian united states kill military iraq attack us strike saudi soleimani trump american force irans war missile president middle east oil report\n",
      "Topic 2: datum company say business use technology customer access service network firm information tech consumer data digital cloud huawei privacy help work microsoft also could product\n",
      "Topic 3: say event tokyo japan world postpone olympic space game cancel team march schedule sport would japanese international year ghosn hong race taiwan kong hold launch\n",
      "Topic 4: company say business year investor market new make million one fund investment startup ceo also get like big well not time firm go work last\n",
      "\n"
     ]
    }
   ],
   "source": [
    "for year in years:\n",
    "    print_top_words(lda[year], vectorizer[year], n_top_words=25, n_topics=5)"
   ]
  },
  {
   "cell_type": "code",
   "execution_count": 19,
   "metadata": {},
   "outputs": [],
   "source": [
    "def get_k_nearest_docs(doc_dist, k=5, get_dist=False):\n",
    "    '''\n",
    "    doc_dist: topic distribution (sums to 1) of one article\n",
    "    \n",
    "    Returns the index of the k nearest articles (as by Jensen–Shannon divergence in topic space). \n",
    "    '''\n",
    "    temp = doc_topic_dist[year]\n",
    "         \n",
    "    distances = temp.apply(lambda x: jensenshannon(x, doc_dist), axis=1)\n",
    "    k_nearest = distances[distances != 0].nsmallest(n=k).index\n",
    "    \n",
    "    if get_dist:\n",
    "        k_distances = distances[distances != 0].nsmallest(n=k)\n",
    "        return k_nearest, k_distances\n",
    "    else:\n",
    "        return k_nearest"
   ]
  },
  {
   "cell_type": "code",
   "execution_count": 20,
   "metadata": {},
   "outputs": [],
   "source": [
    "def compare_dnas(title, year, recommendation_title, width=20):\n",
    "    t = df[year][df[year]['title'] == recommendation_title].title.values[0]\n",
    "    temp = doc_topic_dist[year][df[year]['title'] == title]\n",
    "    ymax = temp.max(axis=1).values[0]*1.25\n",
    "    temp = pd.concat([temp, doc_topic_dist[year][df[year]['title'] == recommendation_title]])\n",
    "    temp.T.plot(kind='bar', title=t, figsize=(width, 4), ylim= [0, ymax])\n",
    "    plt.xlabel('Topic')\n",
    "    plt.legend(['Selection', 'Recommendation'])\n",
    "\n",
    "def compare_tabs(title, year, recommendation_ids):\n",
    "    k = len(recommendation_ids)\n",
    "    outs = [widgets.Output() for i in range(k)]\n",
    "\n",
    "    tab = widgets.Tab(children = outs)\n",
    "    tab_titles = ['Paper ' + str(i+1) for i in range(k)]\n",
    "    for i, t in enumerate(tab_titles):\n",
    "        tab.set_title(i, t)\n",
    "    display(tab)\n",
    "\n",
    "    for i, t in enumerate(tab_titles):\n",
    "        with outs[i]:\n",
    "            ax = compare_dnas(title, year, recommendation_ids[i])\n",
    "            plt.show(ax)\n",
    "\n"
   ]
  },
  {
   "cell_type": "code",
   "execution_count": 31,
   "metadata": {},
   "outputs": [],
   "source": [
    "def recommendation(df, doc_topic_dist, title: str, year: int, k: int=5, plot_dna=False):\n",
    "    '''\n",
    "    Returns the title of the k papers that are closest (topic-wise) to the paper given through title.\n",
    "    '''\n",
    "    display(df[year][df[year]['title'] == title])\n",
    "\n",
    "    recommended, dist = get_k_nearest_docs(doc_topic_dist[year][df[year]['title'] == title].iloc[0], k, get_dist=True)\n",
    "    recommended = df[year].iloc[recommended].copy()\n",
    "    recommended['similarity'] = 1 - dist \n",
    "    \n",
    "    h = '<br/>'.join(['<a href=\"' + l + '\" target=\"_blank\">'+ n + '</a>' +' (Similarity: ' + \"{:.2f}\".format(s) + ')' for l, n, s in recommended[['url','title', 'similarity']].values])\n",
    "    display(HTML(h))\n",
    "    \n",
    "    if plot_dna:\n",
    "        compare_tabs(title, year, recommended['title'].values)"
   ]
  },
  {
   "cell_type": "code",
   "execution_count": 32,
   "metadata": {},
   "outputs": [
    {
     "data": {
      "text/html": [
       "<div>\n",
       "<style scoped>\n",
       "    .dataframe tbody tr th:only-of-type {\n",
       "        vertical-align: middle;\n",
       "    }\n",
       "\n",
       "    .dataframe tbody tr th {\n",
       "        vertical-align: top;\n",
       "    }\n",
       "\n",
       "    .dataframe thead th {\n",
       "        text-align: right;\n",
       "    }\n",
       "</style>\n",
       "<table border=\"1\" class=\"dataframe\">\n",
       "  <thead>\n",
       "    <tr style=\"text-align: right;\">\n",
       "      <th></th>\n",
       "      <th>year</th>\n",
       "      <th>date</th>\n",
       "      <th>month</th>\n",
       "      <th>day</th>\n",
       "      <th>author</th>\n",
       "      <th>title</th>\n",
       "      <th>article</th>\n",
       "      <th>url</th>\n",
       "      <th>section</th>\n",
       "      <th>publication</th>\n",
       "    </tr>\n",
       "  </thead>\n",
       "  <tbody>\n",
       "    <tr>\n",
       "      <th>3</th>\n",
       "      <td>2020</td>\n",
       "      <td>2020-01-17 00:00:00</td>\n",
       "      <td>1.0</td>\n",
       "      <td>17</td>\n",
       "      <td>NaN</td>\n",
       "      <td>U.S. manufacturing output rises unexpectedly</td>\n",
       "      <td>washington reuter we manufacture output rise u...</td>\n",
       "      <td>https://www.reuters.com/article/us-usa-economy...</td>\n",
       "      <td>Business News</td>\n",
       "      <td>Reuters</td>\n",
       "    </tr>\n",
       "  </tbody>\n",
       "</table>\n",
       "</div>"
      ],
      "text/plain": [
       "   year                 date  month  day author  \\\n",
       "3  2020  2020-01-17 00:00:00    1.0   17    NaN   \n",
       "\n",
       "                                          title  \\\n",
       "3  U.S. manufacturing output rises unexpectedly   \n",
       "\n",
       "                                             article  \\\n",
       "3  washington reuter we manufacture output rise u...   \n",
       "\n",
       "                                                 url        section  \\\n",
       "3  https://www.reuters.com/article/us-usa-economy...  Business News   \n",
       "\n",
       "  publication  \n",
       "3     Reuters  "
      ]
     },
     "metadata": {},
     "output_type": "display_data"
    },
    {
     "data": {
      "text/html": [
       "<a href=\"https://www.reuters.com/article/russia-gdp-oil/russia-faces-2020-budget-deficit-of-09-of-gdp-at-current-oil-prices-idUSL8N2B708D\" target=\"_blank\">Russia faces 2020 budget deficit of 0.9% of GDP at current oil prices</a> (Similarity: 0.76)<br/><a href=\"https://www.reuters.com/article/mexico-inflation/update-1-mexico-inflation-in-december-was-lowest-in-more-than-3-years-idUSL1N29E0IO\" target=\"_blank\">UPDATE 1-Mexico inflation in December was lowest in more than 3 years</a> (Similarity: 0.74)<br/><a href=\"https://www.cnbc.com/2020/03/16/reuters-america-world-looking-at-possible-buildup-of-the-most-extreme-oil-surplus-ever-recorded--ihs-markit.html\" target=\"_blank\">World looking at possible buildup of the most extreme oil surplus ever recorded - IHS Markit</a> (Similarity: 0.73)<br/><a href=\"https://www.reuters.com/article/us-japan-economy-spending/japan-household-spending-falls-again-in-november-gloom-may-persist-idUSKBN1Z82UD\" target=\"_blank\">Japan household spending falls again in November gloom may persist</a> (Similarity: 0.73)<br/><a href=\"https://www.reuters.com/article/brazil-economy-retail-sales/brazil-retail-sales-fall-1-in-january-ibge-idUSS0N2AV01U\" target=\"_blank\">Brazil retail sales fall 1% in January - IBGE</a> (Similarity: 0.73)<br/><a href=\"https://www.reuters.com/article/kyrgyzstan-rates/kyrgyzstans-central-bank-raises-policy-rate-to-50-idUSR4N23502A\" target=\"_blank\">Kyrgyzstan's central bank raises policy rate to 5.0%</a> (Similarity: 0.72)<br/><a href=\"https://www.reuters.com/article/saudi-economy-imf/imf-trims-2020-saudi-growth-forecast-to-19-on-lower-oil-output-idUSL8N29O0CL\" target=\"_blank\">IMF trims 2020 Saudi growth forecast to 1.9% on lower oil output</a> (Similarity: 0.72)<br/><a href=\"https://www.cnbc.com/2020/01/29/reuters-america-u-s-goods-trade-deficit-jumps-in-december.html\" target=\"_blank\">U.S. goods trade deficit jumps in December</a> (Similarity: 0.71)<br/><a href=\"https://www.reuters.com/article/germany-economy-industrialoutput/german-industry-output-suffers-biggest-slump-since-2009-idUSL8N2A71JD\" target=\"_blank\">German industry output suffers biggest slump since 2009</a> (Similarity: 0.71)<br/><a href=\"https://www.cnbc.com/2020/03/13/reuters-america-u-s-import-prices-fall-in-february.html\" target=\"_blank\">U.S. import prices fall in February</a> (Similarity: 0.70)"
      ],
      "text/plain": [
       "<IPython.core.display.HTML object>"
      ]
     },
     "metadata": {},
     "output_type": "display_data"
    },
    {
     "data": {
      "application/vnd.jupyter.widget-view+json": {
       "model_id": "24efc5bbc8234afeaf460029a48d9d58",
       "version_major": 2,
       "version_minor": 0
      },
      "text/plain": [
       "Tab(children=(Output(), Output(), Output(), Output(), Output(), Output(), Output(), Output(), Output(), Output…"
      ]
     },
     "metadata": {},
     "output_type": "display_data"
    }
   ],
   "source": [
    "recommendation(df, doc_topic_dist, \"U.S. manufacturing output rises unexpectedly\", 2020, k=10, plot_dna=True)"
   ]
  },
  {
   "cell_type": "code",
   "execution_count": null,
   "metadata": {},
   "outputs": [],
   "source": [
    "def relevant_articles(tasks, year, k=5):\n",
    "    tasks = [tasks] if type(tasks) is str else tasks \n",
    "    \n",
    "    tasks_vectorized = vectorizer[year].transform(tasks)\n",
    "    tasks_topic_dist = pd.DataFrame(lda[year].transform(tasks_vectorized))\n",
    "\n",
    "    for index, bullet in enumerate(tasks):\n",
    "        print(bullet)\n",
    "        recommended, dist = get_k_nearest_docs(tasks_topic_dist.iloc[index], k, get_dist=True)\n",
    "        recommended = df[year].iloc[recommended].copy()\n",
    "        recommended['similarity'] = 1 - dist \n",
    "\n",
    "        h = '<br/>'.join(['<a href=\"' + l + '\" target=\"_blank\">'+ n + '</a>' +' (Similarity: ' + \"{:.2f}\".format(s) + ')' for l, n, s in recommended[['url','title', 'similarity']].values])\n",
    "        display(HTML(h))"
   ]
  },
  {
   "cell_type": "code",
   "execution_count": null,
   "metadata": {},
   "outputs": [],
   "source": [
    "def relevant_articles_for_text():    \n",
    "    textW = widgets.Textarea(\n",
    "        value='',\n",
    "        placeholder='Type something',\n",
    "        description='',\n",
    "        disabled=False,\n",
    "        layout=Layout(width='90%', height='200px')\n",
    "    )\n",
    "\n",
    "    yearW = widgets.IntSlider(value=2018, description='Year', max=2020, min=2016, layout=Layout(width='40%'))\n",
    "\n",
    "    kWidget = widgets.IntSlider(value=10, description='Number of articles', max=50, min=1, layout=Layout(width='40%'))\n",
    "\n",
    "    button = widgets.Button(description=\"Search\")\n",
    "\n",
    "    display(VBox([HBox([kWidget, yearW], layout=Layout(width='90%', justify_content='space-around')),\n",
    "        textW, button], layout=Layout(align_items='center')))\n",
    "\n",
    "    def on_button_clicked(b):\n",
    "        clear_output()\n",
    "        display(VBox([HBox([kWidget, yearW], layout=Layout(width='90%', justify_content='space-around')),\n",
    "            textW, button], layout=Layout(align_items='center')))        \n",
    "        relevant_articles(textW.value, yearW.value, kWidget.value)\n",
    "\n",
    "    button.on_click(on_button_clicked)"
   ]
  },
  {
   "cell_type": "code",
   "execution_count": null,
   "metadata": {},
   "outputs": [
    {
     "data": {
      "application/vnd.jupyter.widget-view+json": {
       "model_id": "3c8f374b950148c9be380b25cb24d7e9",
       "version_major": 2,
       "version_minor": 0
      },
      "text/plain": [
       "VBox(children=(HBox(children=(IntSlider(value=10, description='Number of articles', layout=Layout(width='40%')…"
      ]
     },
     "metadata": {},
     "output_type": "display_data"
    },
    {
     "name": "stdout",
     "output_type": "stream",
     "text": [
      "covid19\n"
     ]
    },
    {
     "data": {
      "text/html": [
       "<a href=\"https://techcrunch.com/2019/04/24/indian-court-lifts-ban-on-tiktok-in-india/\" target=\"_blank\">Indian court lifts ban on TikTok in India – TechCrunch</a> (Similarity: 0.57)<br/><a href=\"https://www.refinery29.com/en-us/2019/05/231590/lucy-hale-zodiac-tattoo-gemini\" target=\"_blank\">Lucy Hale Gets A Gemini Constellation Tattoo </a> (Similarity: 0.57)<br/><a href=\"https://www.reuters.com/article/adani-trans-investment-qatar/update-2-qatar-wealth-fund-to-invest-450-mln-in-adani-power-distribution-arm-idUSL4N28L1O3\" target=\"_blank\">UPDATE 2-Qatar wealth fund to invest $450 mln in Adani power distribution arm</a> (Similarity: 0.57)<br/><a href=\"https://www.reuters.com/article/us-oil-prices/rpt-update-1-cme-plans-to-launch-e-auction-for-us-crude-oil-exports-idUSL3N1ZF1KF\" target=\"_blank\">RPT-UPDATE 1-CME plans to launch e-auction for U.S. crude oil exports</a> (Similarity: 0.50)<br/><a href=\"https://www.cnbc.com/2019/03/14/reuters-america-update-2-googles-work-in-china-benefiting-chinas-military-u-s-general.html\" target=\"_blank\">UPDATE 2-Google's work in China benefiting China's military -U.S. general</a> (Similarity: 0.49)<br/><a href=\"https://www.reuters.com/article/us-usa-trump-storch/white-house-picks-thomas-storch-as-new-senior-trade-adviser-idUSKBN1XA2PQ\" target=\"_blank\">White House picks Thomas Storch as new senior trade adviser</a> (Similarity: 0.49)<br/><a href=\"https://www.cnbc.com/2019/03/28/reuters-america-analysis-no-call-for-simulators-in-new-boeing-737-max-training-proposals.html\" target=\"_blank\">ANALYSIS-No call for simulators in new Boeing 737 MAX training proposals</a> (Similarity: 0.49)<br/><a href=\"https://www.reuters.com/article/malaysia-singapore-railway/malaysia-singapore-rail-link-back-on-at-lower-cost-mahathir-idUSS7N20U00Z\" target=\"_blank\">Malaysia-Singapore rail link back on at lower cost - Mahathir</a> (Similarity: 0.49)<br/><a href=\"https://www.tmz.com/2019/12/19/international-soccer-player-shahdon-winchester-trinidad-tobago-dead-car-accident/\" target=\"_blank\">International Soccer Player Shahdon Winchester Dead At 27 After Car Crash</a> (Similarity: 0.48)<br/><a href=\"https://www.reuters.com/article/us-wikileaks-assange/us-extradition-request-for-julian-assange-to-be-heard-on-thursday-idUSKCN1S61WG\" target=\"_blank\">U.S. extradition request for Julian Assange to be heard on Thursday</a> (Similarity: 0.47)"
      ],
      "text/plain": [
       "<IPython.core.display.HTML object>"
      ]
     },
     "metadata": {},
     "output_type": "display_data"
    }
   ],
   "source": [
    "relevant_articles_for_text()"
   ]
  }
 ],
 "metadata": {
  "kernelspec": {
   "display_name": "Python 3",
   "language": "python",
   "name": "python3"
  },
  "language_info": {
   "codemirror_mode": {
    "name": "ipython",
    "version": 3
   },
   "file_extension": ".py",
   "mimetype": "text/x-python",
   "name": "python",
   "nbconvert_exporter": "python",
   "pygments_lexer": "ipython3",
   "version": "3.10.6"
  },
  "orig_nbformat": 4
 },
 "nbformat": 4,
 "nbformat_minor": 2
}
