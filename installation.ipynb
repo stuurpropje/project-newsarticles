{
 "cells": [
  {
   "attachments": {},
   "cell_type": "markdown",
   "metadata": {},
   "source": [
    "# Jupyter Notebook introduction\n",
    "\n",
    "This notebook contains a very brief introduction on the basics of using Jupyter Notebooks. *If you are already comfortable with Jupyter Notebooks you can skip this and go to **lab 1**.\n",
    "\n",
    "### Notebook cells\n",
    "\n",
    "A notebook consists of a sequence of cells. A cell is a multi-line text input field, and its contents can be executed by typing `Shift-Enter`, or by clicking the `Run` button in the toolbar. What exactly this does depends on the type of cell. There are four types of cells: *code cells*, *markdown cells*, *raw cells* and *heading cells*. We will only focus on the first 2; code and markdown. Every cell starts off being a code cell, but its type can be changed by using a dropdown on the toolbar (which will be `Code`, initially).\n",
    "\n",
    "In a code cell you can write *Python* code. When you run that cell (click on it and press `Shift-Enter`) the code in the cell will run, and the output of the cell will be displayed beneath the cell. Lets try out a very simple code cell below"
   ]
  },
  {
   "cell_type": "code",
   "execution_count": null,
   "metadata": {},
   "outputs": [],
   "source": [
    "x = 5\n",
    "x = x + 2\n",
    "print(x)"
   ]
  },
  {
   "cell_type": "markdown",
   "metadata": {},
   "source": [
    "This produces the output you might expect, the exact the same result as executing that bit of *Python* code in a terminal. You can modify the contents of the code cell and run it again with `Shift-Enter` to see how the output changes.\n",
    "\n",
    "Global variables are shared between cells. This means we can still use variables or functions from the first cell in a second cell, like so"
   ]
  },
  {
   "cell_type": "code",
   "execution_count": null,
   "metadata": {},
   "outputs": [],
   "source": [
    "y = 2 * x\n",
    "print(y)"
   ]
  },
  {
   "cell_type": "markdown",
   "metadata": {},
   "source": [
    "Notebooks are expected to be run top to bottom, starting with the first cell and ending with the last. **Failing to run some cells or running cells out of order is likely to result in errors.** For example, if we were to run the second cell before the first has been run the first, we would get an error saying `x` is not defined.\n",
    "\n",
    "Before you hand in this exercise, make sure that it can run without errors from top to bottom. Test this by selecting *Kernel -> Restart & Run All* in the menu."
   ]
  },
  {
   "attachments": {},
   "cell_type": "markdown",
   "metadata": {},
   "source": [
    "### Jupyter tips\n",
    "\n",
    "* You can easily access the documentation of built-in functions with the ? character. Test this by running the following code cell (to run a cell do `Shift+Enter`):"
   ]
  },
  {
   "cell_type": "code",
   "execution_count": null,
   "metadata": {},
   "outputs": [],
   "source": [
    "len?"
   ]
  },
  {
   "cell_type": "markdown",
   "metadata": {},
   "source": [
    "* You can use the Tab key for autocompletion. You can access the methods avaible for a given object by pressing Tab. Place your cursor after <code>name.</code> and press Tab. Can you see a drop-down menu with options?\n",
    "> Note: In VS Code you don't have to press tab to see the drop-down menu."
   ]
  },
  {
   "cell_type": "code",
   "execution_count": null,
   "metadata": {},
   "outputs": [],
   "source": [
    "name = \"Test\"\n",
    "name.\n",
    "\n",
    "# Note: Run this cell without adding a function after . will lead to a SyntaxError"
   ]
  },
  {
   "cell_type": "markdown",
   "metadata": {},
   "source": [
    "* You can use _ to access the last output (or __ for the second last, and so on)."
   ]
  },
  {
   "cell_type": "code",
   "execution_count": null,
   "metadata": {},
   "outputs": [],
   "source": [
    "2+2"
   ]
  },
  {
   "cell_type": "code",
   "execution_count": null,
   "metadata": {},
   "outputs": [],
   "source": [
    "5+5"
   ]
  },
  {
   "cell_type": "code",
   "execution_count": null,
   "metadata": {},
   "outputs": [],
   "source": [
    "print(_)\n",
    "print(__)"
   ]
  },
  {
   "cell_type": "markdown",
   "metadata": {},
   "source": [
    "* If you face errors (exceptions) that are hard to understand, you can use the `%debug` tool. Bellow you can find a rather obvious example. Once you run `%debug` an ipdb (IPython-enabled Python Debugger) shell appears and you can inspect the value of different variables. Try `print(i)` or `p(i)` and confirm that variable `i`was 0. To quit the ipdb shell type `quit` or  `q`."
   ]
  },
  {
   "cell_type": "code",
   "execution_count": null,
   "metadata": {},
   "outputs": [],
   "source": [
    "for i in range(10,-1,-1):\n",
    "    c = 10 / i"
   ]
  },
  {
   "cell_type": "code",
   "execution_count": null,
   "metadata": {},
   "outputs": [],
   "source": [
    "%debug\n",
    "\n",
    "# Goal: confirm what was the last value of i withut using any print(). "
   ]
  }
 ],
 "metadata": {
  "kernelspec": {
   "display_name": "Python 3.10.6 64-bit",
   "language": "python",
   "name": "python3"
  },
  "language_info": {
   "codemirror_mode": {
    "name": "ipython",
    "version": 3
   },
   "file_extension": ".py",
   "mimetype": "text/x-python",
   "name": "python",
   "nbconvert_exporter": "python",
   "pygments_lexer": "ipython3",
   "version": "3.10.6"
  },
  "orig_nbformat": 4,
  "vscode": {
   "interpreter": {
    "hash": "aee8b7b246df8f9039afb4144a1f6fd8d2ca17a180786b69acc140d282b71a49"
   }
  }
 },
 "nbformat": 4,
 "nbformat_minor": 2
}
