{
 "cells": [
  {
   "attachments": {},
   "cell_type": "markdown",
   "metadata": {},
   "source": [
    "# Making a search engine to query articles over a large dataframe.\n",
    "This notebook discusses the steps taken to process a very large .csv file for querying. Such an implementation allows for efficient navigation of vast datasets, improving efficiency and providing valuable insights to their contents.\n",
    "\n",
    "### Step 1: Loading\n",
    "Before starting all other steps, it is important to have the ability to load the .csv file. A large datafile takes a long time to load into memory and is prone to cause errors and crashes due to requiring more memory than is physically available. By splitting up this singular large .csv file into multiple smaller files, it becomes easier to iteratively make changes. This occurs in load.py\n",
    "\n",
    "### Step 2: Cleaning the data\n",
    "After ensuring the new .csv files do not cause crashes due to their size, it is time to make them easier for a computer to understand. This is done through removal of information which is interesting for humans, but useless for statistical analysis. Think of punctuation or filler words like \"the, a or an\". This is all done in data_cleaning.py. \n",
    "\n",
    "Another important step is the reduction of word variants back to their dictionary form (the 'lemma' of a word). This is called \"lemmatization\". 'Rocks' would become 'rock' and 'standing' would become 'stand' for example. Note the ambiguity of the word standing, which refer to both standing up and the societal status of a person. Making this information unambiguous to a computer allows it to better categorize words and find patterns. \n",
    "\n",
    "This is a very computing-intensive process as to understand whether a 'standing' means one or the other requires contextual clues. Therefore, a random sample is first taken to reduce processing time. This sample is taken in random_sample.py. Afterwards, lemmatization.py is run. To lemmatize 2.8 million articles, it is required for a computer containing 10 cores with a processing speed of 2.1 GHz to run approximately 55 hours. The sample in contrast 'only' needs 5.5 hours to be lemmatized. This leads to step 3.\n",
    "\n",
    "### Step 3: Converting the data into numbers\n",
    "While words are interesting, they aren't numbers on which math can be performed. Therefore, lemmatized texts need to be vectorized. This vectorization allows for an extraction of prominent words which indicate the topic of their corpus (body of text). This is done through a Latent Dirichlet Allocation (LDA). By finding a Dirichlet distribution of a document, it attempts to categorize each set of vectors into a group (also known as the topic of the corpus) ([Harsh Bansal, 2020](https://medium.com/analytics-vidhya/latent-dirichelt-allocation-1ec8729589d4)). This is done in vectorizer.py.\n",
    "\n",
    "After groups have been formed and the text has been transposed into vectors, it is possible to normalize the topic counts of each corpus and find their distribution. This allows for a comparison of an article against other articles through their similarity and differences in topic counts. This is done in doc_topic_distribution.py\n",
    "\n",
    "### Step 4: Finding results\n",
    "After the other steps are done, it is possible to search through the articles. This is done in topic_modelling.ipynb. Through a seeding article it is possible to find other articles which share a common topic space with the seed. It is also possible to input a query which the program then uses to search for articles in the topic as the query."
   ]
  },
  {
   "cell_type": "code",
   "execution_count": 1,
   "metadata": {},
   "outputs": [],
   "source": [
    "import pandas as pd\n",
    "import numpy as np\n",
    "import string\n",
    "import os\n",
    "import sys\n",
    "import matplotlib.pyplot as plt\n",
    "from nltk.corpus import stopwords\n",
    "from sklearn.feature_extraction.text import CountVectorizer\n",
    "from sklearn.decomposition import LatentDirichletAllocation\n",
    "\n",
    "sys.path.append(\"./datacleaning\")\n",
    "from load import load_years\n",
    "from data_cleaning import remove_stopwords, remove_punctuation\n",
    "from lemmatization import lemmatizer\n",
    "\n",
    "sys.path.pop()\n",
    "sys.path.append(\"./topicmodeling\")\n",
    "from ipynb.fs.defs.topic_modeling import print_top_words, recommendation, load_all_files, recommendation_widget\n",
    "\n",
    "pd.options.display.max_colwidth = 100"
   ]
  },
  {
   "attachments": {},
   "cell_type": "markdown",
   "metadata": {},
   "source": [
    "## Step 1: Loading"
   ]
  },
  {
   "attachments": {},
   "cell_type": "markdown",
   "metadata": {},
   "source": [
    "### Load.py\n",
    "\n",
    "Load.py takes [all-the-news-2-1.csv created by Andrew Thompson (2022)](https://components.one/datasets/all-the-news-2-news-articles-dataset/), and splits it into 5 seperate CSV files based on the publishing year of each article. \n",
    "\n",
    "The all-the-news-2-1.csv as the main file has a size of 8.8 GB resulting in long loading times. To address this, the file will be split into individual sub-files based on the year of publication. Each sub-file will contain roughly 1/5th of the data, making the processing faster and allowing for better compartmentalization. This main csv file consists of information such as publishing date, the article, its title, its writer, and the publishing url. Note that it consists mostly of American based articles, and that 2020 has only been recorded up to the month of April.\n",
    "\n",
    "The process can be summarized as follows:\n",
    "\n",
    "* Read the main CSV file using the pandas library.\n",
    "* Split the data into separate DataFrames based on the publishing year, ranging from 2016 to 2020.\n",
    "* Write the seperate Dataframes to their respective csv files."
   ]
  },
  {
   "attachments": {},
   "cell_type": "markdown",
   "metadata": {},
   "source": [
    "Loading the original data"
   ]
  },
  {
   "cell_type": "code",
   "execution_count": 2,
   "metadata": {},
   "outputs": [],
   "source": [
    "main_file_path = \"./csv/all-the-news-2-1.csv\"\n",
    "years = load_years(\"years.txt\")\n",
    "\n",
    "def sub_file_path(year: int, version: int=0):\n",
    "    \"\"\"Return path to sub file.\n",
    "     \n",
    "     Args:\n",
    "     \t year (int): year of file name.\n",
    "     \t version (str): version to use for sub file. Defaults to first version.\n",
    "     \n",
    "     Returns: \n",
    "     \t path to sub file for given year and version.\n",
    "    \"\"\"\n",
    "    suffix: str = \"\"\n",
    "    if version != 0:\n",
    "        suffix = \"_0\" + str(version)\n",
    "    return f\"./csv/{year}{suffix}.csv\"\n",
    "\n",
    "\n",
    "def convert_to_gb(value: int):\n",
    "    return round(value / (1024 ** 3), 2)\n",
    "\n",
    "\n",
    "def file_size(year: int, version: int=0) -> int:\n",
    "    return os.stat(sub_file_path(year, version)).st_size\n",
    "\n",
    "\n",
    "def load_df_version(version: int=0):\n",
    "    df = {}\n",
    "    for year in years:\n",
    "        df.update({year: pd.read_csv(sub_file_path(year, version), nrows=10)})\n",
    "\n",
    "    return df"
   ]
  },
  {
   "attachments": {},
   "cell_type": "markdown",
   "metadata": {},
   "source": [
    "A size comparison of the original .csv file and the divisions formed from it. It is possible to see that no information is lost."
   ]
  },
  {
   "cell_type": "code",
   "execution_count": 3,
   "metadata": {},
   "outputs": [
    {
     "name": "stdout",
     "output_type": "stream",
     "text": [
      "./csv/all-the-news-2-1.csv size: 8.16 GB\n",
      "./csv/2016.csv 1.74 GB\n",
      "./csv/2017.csv 1.86 GB\n",
      "./csv/2018.csv 1.82 GB\n",
      "./csv/2019.csv 2.12 GB\n",
      "./csv/2020.csv 0.63 GB\n",
      "Cumulative size: 8.16 GB\n"
     ]
    }
   ],
   "source": [
    "main_files_size = convert_to_gb(os.stat(main_file_path).st_size)\n",
    "\n",
    "print(f\"{main_file_path} size: {main_files_size} GB\")\n",
    "\n",
    "cum_size = 0\n",
    "for year in years:\n",
    "    file = file_size(year)\n",
    "    cum_size += file\n",
    "    print(f\"{sub_file_path(year)} {convert_to_gb(file)} GB\")\n",
    "\n",
    "print(f\"Cumulative size: {convert_to_gb(cum_size)} GB\")"
   ]
  },
  {
   "attachments": {},
   "cell_type": "markdown",
   "metadata": {},
   "source": [
    "An example of how information is correctly transferred fro the main file to its sub-file."
   ]
  },
  {
   "cell_type": "code",
   "execution_count": 4,
   "metadata": {},
   "outputs": [
    {
     "data": {
      "text/html": [
       "<div>\n",
       "<style scoped>\n",
       "    .dataframe tbody tr th:only-of-type {\n",
       "        vertical-align: middle;\n",
       "    }\n",
       "\n",
       "    .dataframe tbody tr th {\n",
       "        vertical-align: top;\n",
       "    }\n",
       "\n",
       "    .dataframe thead th {\n",
       "        text-align: right;\n",
       "    }\n",
       "</style>\n",
       "<table border=\"1\" class=\"dataframe\">\n",
       "  <thead>\n",
       "    <tr style=\"text-align: right;\">\n",
       "      <th></th>\n",
       "      <th>date</th>\n",
       "      <th>year</th>\n",
       "      <th>month</th>\n",
       "      <th>day</th>\n",
       "      <th>author</th>\n",
       "      <th>title</th>\n",
       "      <th>article</th>\n",
       "      <th>url</th>\n",
       "      <th>section</th>\n",
       "      <th>publication</th>\n",
       "    </tr>\n",
       "  </thead>\n",
       "  <tbody>\n",
       "    <tr>\n",
       "      <th>0</th>\n",
       "      <td>2016-12-09 18:31:00</td>\n",
       "      <td>2016</td>\n",
       "      <td>12.0</td>\n",
       "      <td>9</td>\n",
       "      <td>Lee Drutman</td>\n",
       "      <td>We should take concerns about the health of liberal democracy seriously</td>\n",
       "      <td>This post is part of Polyarchy, an independent blog produced by the political reform program at ...</td>\n",
       "      <td>https://www.vox.com/polyarchy/2016/12/9/13898340/democracy-warning-signs</td>\n",
       "      <td>NaN</td>\n",
       "      <td>Vox</td>\n",
       "    </tr>\n",
       "  </tbody>\n",
       "</table>\n",
       "</div>"
      ],
      "text/plain": [
       "                  date  year  month  day       author  \\\n",
       "0  2016-12-09 18:31:00  2016   12.0    9  Lee Drutman   \n",
       "\n",
       "                                                                     title  \\\n",
       "0  We should take concerns about the health of liberal democracy seriously   \n",
       "\n",
       "                                                                                               article  \\\n",
       "0  This post is part of Polyarchy, an independent blog produced by the political reform program at ...   \n",
       "\n",
       "                                                                        url  \\\n",
       "0  https://www.vox.com/polyarchy/2016/12/9/13898340/democracy-warning-signs   \n",
       "\n",
       "  section publication  \n",
       "0     NaN         Vox  "
      ]
     },
     "metadata": {},
     "output_type": "display_data"
    },
    {
     "data": {
      "text/html": [
       "<div>\n",
       "<style scoped>\n",
       "    .dataframe tbody tr th:only-of-type {\n",
       "        vertical-align: middle;\n",
       "    }\n",
       "\n",
       "    .dataframe tbody tr th {\n",
       "        vertical-align: top;\n",
       "    }\n",
       "\n",
       "    .dataframe thead th {\n",
       "        text-align: right;\n",
       "    }\n",
       "</style>\n",
       "<table border=\"1\" class=\"dataframe\">\n",
       "  <thead>\n",
       "    <tr style=\"text-align: right;\">\n",
       "      <th></th>\n",
       "      <th>year</th>\n",
       "      <th>date</th>\n",
       "      <th>month</th>\n",
       "      <th>day</th>\n",
       "      <th>author</th>\n",
       "      <th>title</th>\n",
       "      <th>article</th>\n",
       "      <th>url</th>\n",
       "      <th>section</th>\n",
       "      <th>publication</th>\n",
       "    </tr>\n",
       "  </thead>\n",
       "  <tbody>\n",
       "    <tr>\n",
       "      <th>0</th>\n",
       "      <td>2016</td>\n",
       "      <td>2016-12-09 18:31:00</td>\n",
       "      <td>12.0</td>\n",
       "      <td>9</td>\n",
       "      <td>Lee Drutman</td>\n",
       "      <td>We should take concerns about the health of liberal democracy seriously</td>\n",
       "      <td>This post is part of Polyarchy, an independent blog produced by the political reform program at ...</td>\n",
       "      <td>https://www.vox.com/polyarchy/2016/12/9/13898340/democracy-warning-signs</td>\n",
       "      <td>NaN</td>\n",
       "      <td>Vox</td>\n",
       "    </tr>\n",
       "  </tbody>\n",
       "</table>\n",
       "</div>"
      ],
      "text/plain": [
       "   year                 date  month  day       author  \\\n",
       "0  2016  2016-12-09 18:31:00   12.0    9  Lee Drutman   \n",
       "\n",
       "                                                                     title  \\\n",
       "0  We should take concerns about the health of liberal democracy seriously   \n",
       "\n",
       "                                                                                               article  \\\n",
       "0  This post is part of Polyarchy, an independent blog produced by the political reform program at ...   \n",
       "\n",
       "                                                                        url  \\\n",
       "0  https://www.vox.com/polyarchy/2016/12/9/13898340/democracy-warning-signs   \n",
       "\n",
       "  section publication  \n",
       "0     NaN         Vox  "
      ]
     },
     "metadata": {},
     "output_type": "display_data"
    }
   ],
   "source": [
    "df_main = pd.read_csv(main_file_path, nrows=10)\n",
    "df = load_df_version()\n",
    "\n",
    "display(df_main.head(1), df[2016].head(1))"
   ]
  },
  {
   "attachments": {},
   "cell_type": "markdown",
   "metadata": {},
   "source": [
    "## Step 2: Cleaning the Data"
   ]
  },
  {
   "attachments": {},
   "cell_type": "markdown",
   "metadata": {},
   "source": [
    "### Data_cleaning.py\n",
    "\n",
    "As has been said in the introduction, multiple steps have to be performed so the data is interpretable by a computer. Those are all the steps in detail to understand the process.\n",
    "\n",
    "* Articles are cast to lowercase.\n",
    "    - This happens because text containing both upper and lower cases are recognized as different words.\n",
    "* Commas are removed from article titles and author names.\n",
    "    - Superfluous commas cause problems reading the articles. By removing them no information is lost, but processing the csv files (and each subsequent step) becauses significantly easier.\n",
    "* All punctuation is removed from articles.\n",
    "    - For the same reason as removing commas and casting text to lowercase.\n",
    "* All stop words are removed from articles.\n",
    "    - To reduce the processing power requirements for words with no inherent meaning."
   ]
  },
  {
   "attachments": {},
   "cell_type": "markdown",
   "metadata": {},
   "source": [
    "#### An example of the datacleaning process\n",
    "Let's take a look at the cleaning and lemmatization of a text generated through ChatGPT. First all punctuation is removed as they do not represent any interesting information. Afterwards, superfluous words (also known as stop words) are removed so there are less words to discern meaning from. Finally, the text (also known as the corpus) is reduced to their lemma."
   ]
  },
  {
   "attachments": {},
   "cell_type": "markdown",
   "metadata": {},
   "source": [
    "#### Removed punctuation and stop words\n",
    "This is an example of a small sample of the superfluous information contained within the datafiles that is removed."
   ]
  },
  {
   "cell_type": "code",
   "execution_count": 5,
   "metadata": {},
   "outputs": [
    {
     "data": {
      "text/plain": [
       "'!\"#$%&\\'()*+,-./:;<=>?@[\\\\]^_`{|}~\"“‘—’”\"'"
      ]
     },
     "metadata": {},
     "output_type": "display_data"
    },
    {
     "data": {
      "text/plain": [
       "['i', 'me', 'my', 'myself', 'we', 'our', 'ours', 'ourselves', 'you', \"you're\"]"
      ]
     },
     "metadata": {},
     "output_type": "display_data"
    }
   ],
   "source": [
    "display(string.punctuation + '\"“‘—’”\"', stopwords.words(\"english\")[:10])"
   ]
  },
  {
   "cell_type": "code",
   "execution_count": 6,
   "metadata": {},
   "outputs": [
    {
     "name": "stdout",
     "output_type": "stream",
     "text": [
      "Unprocessed corpus:\tThe quick brown foxes jumped over the lazy dogs. They were all running and playing in the open field. The foxes' tails were bushy, and the dogs wagged their tails happily. Suddenly, a loud noise startled them, and they quickly scattered in different directions.\n",
      "Punctuation removed:\tThe quick brown foxes jumped over the lazy dogs They were all running and playing in the open field The foxes tails were bushy and the dogs wagged their tails happily Suddenly a loud noise startled them and they quickly scattered in different directions\n",
      "Stop words removed:\tThe quick brown foxes jumped lazy dogs They running playing open field The foxes tails bushy dogs wagged tails happily Suddenly loud noise startled quickly scattered different directions\n",
      "Lemmatized form:\tthe quick brown fox jump lazy dog they run play open field the fox tail bushy dog wag tail happily suddenly loud noise startle quickly scatter different direction\n"
     ]
    }
   ],
   "source": [
    "example_text = \"The quick brown foxes jumped over the lazy dogs. They were all running and playing in the open field. The foxes' tails were bushy, and the dogs wagged their tails happily. Suddenly, a loud noise startled them, and they quickly scattered in different directions.\"\n",
    "example_text_2 = remove_punctuation(example_text)\n",
    "example_text_3 = remove_stopwords(example_text_2)\n",
    "lemmatized_text = lemmatizer(example_text_3)\n",
    "\n",
    "print(f\"Unprocessed corpus:\\t{example_text}\\nPunctuation removed:\\t{example_text_2}\\nStop words removed:\\t{example_text_3}\\nLemmatized form:\\t{lemmatized_text}\")"
   ]
  },
  {
   "attachments": {},
   "cell_type": "markdown",
   "metadata": {},
   "source": [
    "#### A demonstration through the project data\n",
    "It becomes clear that while the text becomes less readable for people, but more readable for a computer."
   ]
  },
  {
   "cell_type": "code",
   "execution_count": 7,
   "metadata": {},
   "outputs": [
    {
     "name": "stdout",
     "output_type": "stream",
     "text": [
      "A comparison between processed and unprocessed texts of 2016:\n"
     ]
    },
    {
     "data": {
      "text/plain": [
       "'0    This post is part of Polyarchy, an independent blog produced by the political reform program at ...\\nName: article, dtype: object'"
      ]
     },
     "metadata": {},
     "output_type": "display_data"
    },
    {
     "data": {
      "text/plain": [
       "'0    post part polyarchy independent blog produced political reform program new america washington th...\\nName: article, dtype: object'"
      ]
     },
     "metadata": {},
     "output_type": "display_data"
    },
    {
     "name": "stdout",
     "output_type": "stream",
     "text": [
      "\n",
      "A comparison between processed and unprocessed texts of 2017:\n"
     ]
    },
    {
     "data": {
      "text/plain": [
       "'0    China is dismissing unfavorable media reports as fake news because that’s what Trump does  China...\\nName: article, dtype: object'"
      ]
     },
     "metadata": {},
     "output_type": "display_data"
    },
    {
     "data": {
      "text/plain": [
       "'0    china dismissing unfavorable media reports fake news thats trump china dismissing unfavorable me...\\nName: article, dtype: object'"
      ]
     },
     "metadata": {},
     "output_type": "display_data"
    },
    {
     "name": "stdout",
     "output_type": "stream",
     "text": [
      "\n",
      "A comparison between processed and unprocessed texts of 2018:\n"
     ]
    },
    {
     "data": {
      "text/plain": [
       "'0    DAVOS, Switzerland (Reuters) - U.S. President Donald Trump denied a report on Friday that he had...\\nName: article, dtype: object'"
      ]
     },
     "metadata": {},
     "output_type": "display_data"
    },
    {
     "data": {
      "text/plain": [
       "'0    davos switzerland reuters us president donald trump denied report friday ordered special counsel...\\nName: article, dtype: object'"
      ]
     },
     "metadata": {},
     "output_type": "display_data"
    },
    {
     "name": "stdout",
     "output_type": "stream",
     "text": [
      "\n",
      "A comparison between processed and unprocessed texts of 2019:\n"
     ]
    },
    {
     "data": {
      "text/plain": [
       "'0    PARIS (Reuters) - Former French president Nicolas Sarkozy published a new memoir on Thursday but...\\nName: article, dtype: object'"
      ]
     },
     "metadata": {},
     "output_type": "display_data"
    },
    {
     "data": {
      "text/plain": [
       "'0    paris reuters former french president nicolas sarkozy published new memoir thursday quick dismis...\\nName: article, dtype: object'"
      ]
     },
     "metadata": {},
     "output_type": "display_data"
    },
    {
     "name": "stdout",
     "output_type": "stream",
     "text": [
      "\n",
      "A comparison between processed and unprocessed texts of 2020:\n"
     ]
    },
    {
     "data": {
      "text/plain": [
       "'0    The lowland gorillas at the  Bronx Zoo  tend to congregate indoors during the winter rather than...\\nName: article, dtype: object'"
      ]
     },
     "metadata": {},
     "output_type": "display_data"
    },
    {
     "data": {
      "text/plain": [
       "'0    lowland gorillas bronx zoo tend congregate indoors winter rather roam around outside forest habi...\\nName: article, dtype: object'"
      ]
     },
     "metadata": {},
     "output_type": "display_data"
    },
    {
     "name": "stdout",
     "output_type": "stream",
     "text": [
      "\n"
     ]
    }
   ],
   "source": [
    "df_cleaned = load_df_version(1)\n",
    "\n",
    "for year in years:\n",
    "    print(f\"A comparison between processed and unprocessed texts of {year}:\")\n",
    "    display(str(df[year]['article'].head(1)), str(df_cleaned[year]['article'].head(1)))\n",
    "    print(\"\")"
   ]
  },
  {
   "attachments": {},
   "cell_type": "markdown",
   "metadata": {},
   "source": [
    "This notably reduces the size of the file, which reduces the processing time of lemmatization. As lemmatization is the primary bottleneck of the data cleaning, it is paramount that as much redundant information is removed as possible. Let's take a look at the difference in file size after this data cleaning"
   ]
  },
  {
   "cell_type": "code",
   "execution_count": 8,
   "metadata": {},
   "outputs": [],
   "source": [
    "def size_comparison(version: int) -> None:\n",
    "    \"\"\"Compare the file size of two iterations of the data files.\n",
    "    \n",
    "    Always compares sizes with the previous iteration.\n",
    "\n",
    "    Args:\n",
    "        version (int): Version of new data file to compare size against.\n",
    "    \"\"\"\n",
    "    old_cum, new_cum = 0, 0\n",
    "    for year in years:\n",
    "        old_file_size = file_size(year, version - 1)\n",
    "        new_file_size = file_size(year, version)\n",
    "        old_cum += old_file_size\n",
    "        new_cum += new_file_size\n",
    "        print(f\"{sub_file_path(year, version - 1)} was {convert_to_gb(file_size(year, version - 1))} GB, {sub_file_path(year, version)} is {convert_to_gb(file_size(year, version))} GB. The size has been decreased to {round((new_file_size/old_file_size * 100), 2)}% of the previous file.\")\n",
    "\n",
    "    print(\"\")\n",
    "    print(f\"The cumulative size of the old versions was {convert_to_gb(old_cum)} GB, the new versions has a cumulative size of {convert_to_gb(new_cum)} GB.\")"
   ]
  },
  {
   "cell_type": "code",
   "execution_count": 9,
   "metadata": {},
   "outputs": [
    {
     "name": "stdout",
     "output_type": "stream",
     "text": [
      "./csv/2016.csv was 1.74 GB, ./csv/2016_01.csv is 1.24 GB. The size has been decreased to 71.57% of the previous file.\n",
      "./csv/2017.csv was 1.86 GB, ./csv/2017_01.csv is 1.33 GB. The size has been decreased to 71.87% of the previous file.\n",
      "./csv/2018.csv was 1.82 GB, ./csv/2018_01.csv is 1.3 GB. The size has been decreased to 71.69% of the previous file.\n",
      "./csv/2019.csv was 2.12 GB, ./csv/2019_01.csv is 1.53 GB. The size has been decreased to 72.22% of the previous file.\n",
      "./csv/2020.csv was 0.63 GB, ./csv/2020_01.csv is 0.45 GB. The size has been decreased to 71.6% of the previous file.\n",
      "\n",
      "The cumulative size of the old versions was 8.16 GB, the new versions has a cumulative size of 5.86 GB.\n"
     ]
    }
   ],
   "source": [
    "size_comparison(1)"
   ]
  },
  {
   "attachments": {},
   "cell_type": "markdown",
   "metadata": {},
   "source": [
    "### Random_sample.py\n",
    "\n",
    "As has been mentioned before, the lemmatization process requires a large amount of processing power and time. The lemmatization function would require 55 hours to completely process all 5 csv files, even after reducing their contents through data_cleaning.py. Therefore, a random sample of 10% of all articles is taken from from each file and written to a new file. The smaller files require 'only' ~5-6 hours to be processed."
   ]
  },
  {
   "cell_type": "code",
   "execution_count": 10,
   "metadata": {},
   "outputs": [
    {
     "name": "stdout",
     "output_type": "stream",
     "text": [
      "./csv/2016_01.csv was 1.24 GB, ./csv/2016_02.csv is 0.12 GB. The size has been decreased to 10.0% of the previous file.\n",
      "./csv/2017_01.csv was 1.33 GB, ./csv/2017_02.csv is 0.13 GB. The size has been decreased to 10.06% of the previous file.\n",
      "./csv/2018_01.csv was 1.3 GB, ./csv/2018_02.csv is 0.13 GB. The size has been decreased to 9.99% of the previous file.\n",
      "./csv/2019_01.csv was 1.53 GB, ./csv/2019_02.csv is 0.15 GB. The size has been decreased to 10.01% of the previous file.\n",
      "./csv/2020_01.csv was 0.45 GB, ./csv/2020_02.csv is 0.05 GB. The size has been decreased to 10.21% of the previous file.\n",
      "\n",
      "The cumulative size of the old versions was 5.86 GB, the new versions has a cumulative size of 0.59 GB.\n"
     ]
    }
   ],
   "source": [
    "df_sampled = load_df_version(2)\n",
    "\n",
    "size_comparison(2)"
   ]
  },
  {
   "attachments": {},
   "cell_type": "markdown",
   "metadata": {},
   "source": [
    "### Lemmatization.py\n",
    "Lemmatization is a process in which words are reduced to their base dictionary form of a word (also known as their lemma) [(Stanford, 2008)](https://nlp.stanford.edu/IR-book/html/htmledition/stemming-and-lemmatization-1.html). This reduces the dimensionality of text, which allows for an easier classification through vectorisation [(MathWorks, 2023)](https://nl.mathworks.com/discovery/lemmatization.html). It is a very time and power intensive method but results in a trimmed text. Words which have been reduced to their lemma are more easily grouped for statistical analysis and classification as the computer reads less ambiguity.\n"
   ]
  },
  {
   "attachments": {},
   "cell_type": "markdown",
   "metadata": {},
   "source": [
    "The same is done on the articles stored in the various csv files. Due to the multi-core processing without storing original index values, the order of original has been lost after lemmatization. The articles however have been succesfully lemmatized, further reducing their size. An example of each article in their lemmatized form and the reduction in file size as an indication of superfluous information that has been removed."
   ]
  },
  {
   "cell_type": "code",
   "execution_count": 11,
   "metadata": {},
   "outputs": [
    {
     "data": {
      "text/plain": [
       "0    recent rumor potential apple car may massive waste anticipatory energy well direct toward levita...\n",
       "Name: article, dtype: object"
      ]
     },
     "metadata": {},
     "output_type": "display_data"
    },
    {
     "data": {
      "text/plain": [
       "0    singapore may 15 reuter golden agriresource ltds quarterly net profit fall half year ago hit for...\n",
       "Name: article, dtype: object"
      ]
     },
     "metadata": {},
     "output_type": "display_data"
    },
    {
     "data": {
      "text/plain": [
       "0    washington reuter major washingtonarea airport virginia briefly halt traffic friday high wind pr...\n",
       "Name: article, dtype: object"
      ]
     },
     "metadata": {},
     "output_type": "display_data"
    },
    {
     "data": {
      "text/plain": [
       "0    peoples bank china approve paypal acquisition 70 equity state gopay guofubao information technol...\n",
       "Name: article, dtype: object"
      ]
     },
     "metadata": {},
     "output_type": "display_data"
    },
    {
     "data": {
      "text/plain": [
       "0    march 17 reuter icc holdings inc insurance carrier temporarily suspend billing restaurant tavern...\n",
       "Name: article, dtype: object"
      ]
     },
     "metadata": {},
     "output_type": "display_data"
    },
    {
     "name": "stdout",
     "output_type": "stream",
     "text": [
      "./csv/2016_02.csv was 0.12 GB, ./csv/2016_03.csv is 0.11 GB. The size has been decreased to 88.56% of the previous file.\n",
      "./csv/2017_02.csv was 0.13 GB, ./csv/2017_03.csv is 0.12 GB. The size has been decreased to 85.81% of the previous file.\n",
      "./csv/2018_02.csv was 0.13 GB, ./csv/2018_03.csv is 0.12 GB. The size has been decreased to 89.99% of the previous file.\n",
      "./csv/2019_02.csv was 0.15 GB, ./csv/2019_03.csv is 0.13 GB. The size has been decreased to 85.87% of the previous file.\n",
      "./csv/2020_02.csv was 0.05 GB, ./csv/2020_03.csv is 0.04 GB. The size has been decreased to 83.41% of the previous file.\n",
      "\n",
      "The cumulative size of the old versions was 0.59 GB, the new versions has a cumulative size of 0.51 GB.\n"
     ]
    }
   ],
   "source": [
    "df_lemmatized = load_df_version(3)\n",
    "for year in years:\n",
    "    display(df_lemmatized[year]['article'].head(1))\n",
    "\n",
    "size_comparison(3)"
   ]
  },
  {
   "attachments": {},
   "cell_type": "markdown",
   "metadata": {},
   "source": [
    "## Step 3: Converting the data into numbers"
   ]
  },
  {
   "attachments": {},
   "cell_type": "markdown",
   "metadata": {},
   "source": [
    "### vectorizer.py & topic_modelling.ipynb\n",
    "\n",
    "After lemmatization it is possible for the computer to convert the text to numbers. This is called data vectorization. This was performed through the sklearn Countvectorizer function. This vectorizer works through forming a sparse matrix which is a count of word occurences in a text. This matrix of vectorized text can be processed through a Latent Dirichlet Allocation. By assessing the presence of words topics can be discovered from collections of texts. Through this data it is possible to find relations between articles based on their shared topics. Let's take a look at an example."
   ]
  },
  {
   "attachments": {},
   "cell_type": "markdown",
   "metadata": {},
   "source": [
    "#### An Example of spare matrix vectorization works.\n",
    "By vectorizing sentences generated by ChatGPT, it is possible to see what kind of information is extracted. Below a number of words with their numerical IDs can be seen. \n",
    "\n",
    "('brown', 12) for example means that the word 'brown' has been assigned number 12.\n",
    "\n",
    "The vector array cannot be displayed as easily. It is possible to convert the data to a bar graph, to take a look at the occurences of each word."
   ]
  },
  {
   "cell_type": "code",
   "execution_count": 12,
   "metadata": {},
   "outputs": [
    {
     "name": "stdout",
     "output_type": "stream",
     "text": [
      "The generated sentences:\n",
      "Sentence #0: brown cat with fluffy tail jump over sleep dog in backyard\n",
      "Sentence #1: I enjoy spend my weekend explore new hike trail capture beautiful photograph of nature\n",
      "Sentence #2: sun set in horizon golden hue paint sky create breathtake view\n",
      "Sentence #3: he passionate play piano grace and elegance captivate audience every note\n",
      "Sentence #4: she dream travel world experience different culture taste exotic cuisine\n",
      "Sentence #5: they decide embark on epic journey across vast ocean seek hide treasure ancient relic\n",
      "Sentence #6: we gather around campfire share story laughter under star night sky\n",
      "Sentence #7: it bloom vibrant color fil garden sweet scent attract butterfly bee\n",
      "Sentence #8: he skillful perform intricate dance routine impress judge win heart audience\n",
      "Sentence #9: she passionate pursue dream overcome obstacle achieve great success in career\n",
      "\n",
      "A short list of words and their ID value:\n",
      "Word: brown\tID=12\n",
      "Word: cat\tID=18\n",
      "Word: with\tID=104\n",
      "Word: fluffy\tID=37\n",
      "Word: tail\tID=91\n",
      "Word: jump\tID=55\n",
      "Word: over\tID=66\n",
      "Word: sleep\tID=84\n",
      "Word: dog\tID=26\n",
      "Word: in\tID=50\n"
     ]
    }
   ],
   "source": [
    "lemmatized_sentences = [\n",
    "    \"brown cat with fluffy tail jump over sleep dog in backyard\",\n",
    "    \"I enjoy spend my weekend explore new hike trail capture beautiful photograph of nature\",\n",
    "    \"sun set in horizon golden hue paint sky create breathtake view\",\n",
    "    \"he passionate play piano grace and elegance captivate audience every note\",\n",
    "    \"she dream travel world experience different culture taste exotic cuisine\",\n",
    "    \"they decide embark on epic journey across vast ocean seek hide treasure ancient relic\",\n",
    "    \"we gather around campfire share story laughter under star night sky\",\n",
    "    \"it bloom vibrant color fil garden sweet scent attract butterfly bee\",\n",
    "    \"he skillful perform intricate dance routine impress judge win heart audience\",\n",
    "    \"she passionate pursue dream overcome obstacle achieve great success in career\"\n",
    "]\n",
    "\n",
    "\n",
    "vectorizer = CountVectorizer()\n",
    "v = vectorizer.fit(lemmatized_sentences)\n",
    "vector = vectorizer.transform(lemmatized_sentences)\n",
    "\n",
    "print(\"The generated sentences:\")\n",
    "print(\"\\n\".join([f\"Sentence #{i}: {sentence}\" for i, sentence in enumerate(lemmatized_sentences)]))\n",
    "print(\"\\nA short list of words and their ID value:\")\n",
    "items = list(v.vocabulary_.items())[:10]\n",
    "print(\"\\n\".join([f\"Word: {word}\\tID={id}\" for word, id in items]))"
   ]
  },
  {
   "attachments": {},
   "cell_type": "markdown",
   "metadata": {},
   "source": [
    "The sparse matrix in the form of a bar chart:"
   ]
  },
  {
   "cell_type": "code",
   "execution_count": 13,
   "metadata": {},
   "outputs": [
    {
     "data": {
      "text/plain": [
       "<Axes: xlabel='Number of occurences', ylabel='Word'>"
      ]
     },
     "execution_count": 13,
     "metadata": {},
     "output_type": "execute_result"
    },
    {
     "data": {
      "image/png": "[encoded data removed]",
      "text/plain": [
       "<Figure size 640x480 with 1 Axes>"
      ]
     },
     "metadata": {},
     "output_type": "display_data"
    }
   ],
   "source": [
    "# most frequent words\n",
    "word_count = pd.DataFrame({'word': v.get_feature_names_out(), 'count': np.asarray(vector.sum(axis=0))[0]})\n",
    "word_count.sort_values('count', ascending=False).set_index('word')[:20].sort_values('count', ascending=True).plot(kind='barh', legend=False, xlabel=\"Number of occurences\", ylabel=\"Word\", xticks=[0, 1, 2, 3])"
   ]
  },
  {
   "attachments": {},
   "cell_type": "markdown",
   "metadata": {},
   "source": [
    "#### An example of applying the LDA to a vectorized corpus.\n",
    "By applying the LDA on the sentences, it is possible to discover groups in the sentences."
   ]
  },
  {
   "cell_type": "code",
   "execution_count": 14,
   "metadata": {},
   "outputs": [
    {
     "name": "stdout",
     "output_type": "stream",
     "text": [
      "Topic 0: embark treasure seek journey epic\n",
      "Topic 1: sky in star under laughter\n",
      "Topic 2: in she dream passionate great\n",
      "\n"
     ]
    }
   ],
   "source": [
    "lda = LatentDirichletAllocation(n_components=5, random_state=0)\n",
    "lda.fit(vector)\n",
    "\n",
    "print_top_words(lda, vectorizer, n_top_words=5)"
   ]
  },
  {
   "attachments": {},
   "cell_type": "markdown",
   "metadata": {},
   "source": [
    "From this, it is visible that the randomly generated sentences do not tend to share any common topic space. Topic 0 is from sentence #5"
   ]
  },
  {
   "cell_type": "code",
   "execution_count": 15,
   "metadata": {},
   "outputs": [
    {
     "name": "stdout",
     "output_type": "stream",
     "text": [
      "they decide embark on epic journey across vast ocean seek hide treasure ancient relic\n"
     ]
    }
   ],
   "source": [
    "print(lemmatized_sentences[5])"
   ]
  },
  {
   "attachments": {},
   "cell_type": "markdown",
   "metadata": {},
   "source": [
    "#### Vectorization and applying of the LDA on the actual dataset\n",
    "All aforementioned steps have already been performed, as they will otherwise take a long time to be done in this notebook. Expect a runtime of 1.5 to 2 hours when vectorizing, applying the LDA and normalizing topic distribution per corpus. It is therefore only neccessary to load the files into this notebook."
   ]
  },
  {
   "cell_type": "code",
   "execution_count": 16,
   "metadata": {},
   "outputs": [
    {
     "name": "stdout",
     "output_type": "stream",
     "text": [
      "2016 done.\n",
      "2017 done.\n",
      "2018 done.\n",
      "2019 done.\n",
      "2020 done.\n"
     ]
    }
   ],
   "source": [
    "topic_modelling_data = load_all_files(\"topicmodeling/csv\", \"csv\", years)"
   ]
  },
  {
   "attachments": {},
   "cell_type": "markdown",
   "metadata": {},
   "source": [
    "#### An example of topic distribution per year of the dataset.\n",
    "\n",
    "Each topic consists of a set of words."
   ]
  },
  {
   "cell_type": "code",
   "execution_count": 17,
   "metadata": {},
   "outputs": [
    {
     "name": "stdout",
     "output_type": "stream",
     "text": [
      "2016\n",
      "Topic 0: use like make new not\n",
      "Topic 1: say police court case officer\n",
      "Topic 2: song music album band record\n",
      "\n",
      "2017\n",
      "Topic 0: like not make get one\n",
      "Topic 1: percent price stock say high\n",
      "Topic 2: 2017 music song album band\n",
      "\n",
      "2018\n",
      "Topic 0: woman man people one not\n",
      "Topic 1: not do get go like\n",
      "Topic 2: 2018 get star year not\n",
      "\n",
      "2019\n",
      "Topic 0: year growth economy say rate\n",
      "Topic 1: health say drug care patient\n",
      "Topic 2: woman film show black story\n",
      "\n",
      "2020\n",
      "Topic 0: de la que en el\n",
      "Topic 1: iran we say iranian united\n",
      "Topic 2: datum company say business use\n",
      "\n"
     ]
    }
   ],
   "source": [
    "for year in years:\n",
    "    print(year)\n",
    "    print_top_words(topic_modelling_data[\"lda\"][year], topic_modelling_data[\"vectorizer\"][year], n_top_words=5)"
   ]
  },
  {
   "attachments": {},
   "cell_type": "markdown",
   "metadata": {},
   "source": [
    "#### The distribution of words per year.\n",
    "It is possible to take a look at the word distribution of each year to have an insight into what possible topics are relevant that year. It is noticable that 'say' occurs very often in each year. Say could reasonably be interpreted as a stop word which would be removed in another version of text processing. In 2016-2017 it is seen that 'trump' ranks relatively high, which is in line with the presidential elections occuring at the time."
   ]
  },
  {
   "cell_type": "code",
   "execution_count": 18,
   "metadata": {},
   "outputs": [
    {
     "data": {
      "image/png": "[encoded data removed]",
      "text/plain": [
       "<Figure size 640x480 with 1 Axes>"
      ]
     },
     "metadata": {},
     "output_type": "display_data"
    },
    {
     "data": {
      "image/png": "[encoded data removed]",
      "text/plain": [
       "<Figure size 640x480 with 1 Axes>"
      ]
     },
     "metadata": {},
     "output_type": "display_data"
    },
    {
     "data": {
      "image/png": "[encoded data removed]",
      "text/plain": [
       "<Figure size 640x480 with 1 Axes>"
      ]
     },
     "metadata": {},
     "output_type": "display_data"
    },
    {
     "data": {
      "image/png": "[encoded data removed]",
      "text/plain": [
       "<Figure size 640x480 with 1 Axes>"
      ]
     },
     "metadata": {},
     "output_type": "display_data"
    },
    {
     "data": {
      "image/png": "[encoded data removed]",
      "text/plain": [
       "<Figure size 640x480 with 1 Axes>"
      ]
     },
     "metadata": {},
     "output_type": "display_data"
    }
   ],
   "source": [
    "for year in years:\n",
    "    word_count = pd.DataFrame({'word': topic_modelling_data[\"vectorizer\"][year].get_feature_names_out(), 'count': np.asarray(topic_modelling_data[\"data_vectorized\"][year].sum(axis=0))[0]})\n",
    "    word_count.sort_values('count', ascending=False).set_index('word')[:20].sort_values('count', ascending=True).plot(kind='barh', legend=False, xlabel=f\"Number of occurences for {year}\", ylabel=\"Word\")"
   ]
  },
  {
   "attachments": {},
   "cell_type": "markdown",
   "metadata": {},
   "source": [
    "#### The result of this data processing\n",
    "\n",
    "After all this processing it is possible to query the dataset to find relevant articles through a provided article, also known as the seeding article. This returns a number of articles with their hyperlink alongside a similarity value (ranging from 0 to 1) indicating the overlap in topic space between the seeding article and the recommended article."
   ]
  },
  {
   "cell_type": "code",
   "execution_count": 19,
   "metadata": {},
   "outputs": [
    {
     "data": {
      "text/html": [
       "<div>\n",
       "<style scoped>\n",
       "    .dataframe tbody tr th:only-of-type {\n",
       "        vertical-align: middle;\n",
       "    }\n",
       "\n",
       "    .dataframe tbody tr th {\n",
       "        vertical-align: top;\n",
       "    }\n",
       "\n",
       "    .dataframe thead th {\n",
       "        text-align: right;\n",
       "    }\n",
       "</style>\n",
       "<table border=\"1\" class=\"dataframe\">\n",
       "  <thead>\n",
       "    <tr style=\"text-align: right;\">\n",
       "      <th></th>\n",
       "      <th>year</th>\n",
       "      <th>date</th>\n",
       "      <th>month</th>\n",
       "      <th>day</th>\n",
       "      <th>author</th>\n",
       "      <th>title</th>\n",
       "      <th>article</th>\n",
       "      <th>url</th>\n",
       "      <th>section</th>\n",
       "      <th>publication</th>\n",
       "    </tr>\n",
       "  </thead>\n",
       "  <tbody>\n",
       "    <tr>\n",
       "      <th>3</th>\n",
       "      <td>2020</td>\n",
       "      <td>2020-01-17 00:00:00</td>\n",
       "      <td>1.0</td>\n",
       "      <td>17</td>\n",
       "      <td>NaN</td>\n",
       "      <td>U.S. manufacturing output rises unexpectedly</td>\n",
       "      <td>washington reuter we manufacture output rise unexpectedly december drop motor vehicle output out...</td>\n",
       "      <td>https://www.reuters.com/article/us-usa-economy-output/us-manufacturing-output-rises-unexpectedly...</td>\n",
       "      <td>Business News</td>\n",
       "      <td>Reuters</td>\n",
       "    </tr>\n",
       "  </tbody>\n",
       "</table>\n",
       "</div>"
      ],
      "text/plain": [
       "   year                 date  month  day author  \\\n",
       "3  2020  2020-01-17 00:00:00    1.0   17    NaN   \n",
       "\n",
       "                                          title  \\\n",
       "3  U.S. manufacturing output rises unexpectedly   \n",
       "\n",
       "                                                                                               article  \\\n",
       "3  washington reuter we manufacture output rise unexpectedly december drop motor vehicle output out...   \n",
       "\n",
       "                                                                                                   url  \\\n",
       "3  https://www.reuters.com/article/us-usa-economy-output/us-manufacturing-output-rises-unexpectedly...   \n",
       "\n",
       "         section publication  \n",
       "3  Business News     Reuters  "
      ]
     },
     "metadata": {},
     "output_type": "display_data"
    },
    {
     "data": {
      "text/html": [
       "<a href=\"https://www.reuters.com/article/russia-gdp-oil/russia-faces-2020-budget-deficit-of-09-of-gdp-at-current-oil-prices-idUSL8N2B708D\" target=\"_blank\">Russia faces 2020 budget deficit of 0.9% of GDP at current oil prices</a> (Similarity: 76.03%)<br/><a href=\"https://www.reuters.com/article/mexico-inflation/update-1-mexico-inflation-in-december-was-lowest-in-more-than-3-years-idUSL1N29E0IO\" target=\"_blank\">UPDATE 1-Mexico inflation in December was lowest in more than 3 years</a> (Similarity: 74.48%)<br/><a href=\"https://www.cnbc.com/2020/03/16/reuters-america-world-looking-at-possible-buildup-of-the-most-extreme-oil-surplus-ever-recorded--ihs-markit.html\" target=\"_blank\">World looking at possible buildup of the most extreme oil surplus ever recorded - IHS Markit</a> (Similarity: 73.46%)<br/><a href=\"https://www.reuters.com/article/us-japan-economy-spending/japan-household-spending-falls-again-in-november-gloom-may-persist-idUSKBN1Z82UD\" target=\"_blank\">Japan household spending falls again in November gloom may persist</a> (Similarity: 73.17%)<br/><a href=\"https://www.reuters.com/article/brazil-economy-retail-sales/brazil-retail-sales-fall-1-in-january-ibge-idUSS0N2AV01U\" target=\"_blank\">Brazil retail sales fall 1% in January - IBGE</a> (Similarity: 72.98%)<br/><a href=\"https://www.reuters.com/article/kyrgyzstan-rates/kyrgyzstans-central-bank-raises-policy-rate-to-50-idUSR4N23502A\" target=\"_blank\">Kyrgyzstan's central bank raises policy rate to 5.0%</a> (Similarity: 72.31%)<br/><a href=\"https://www.reuters.com/article/saudi-economy-imf/imf-trims-2020-saudi-growth-forecast-to-19-on-lower-oil-output-idUSL8N29O0CL\" target=\"_blank\">IMF trims 2020 Saudi growth forecast to 1.9% on lower oil output</a> (Similarity: 72.04%)<br/><a href=\"https://www.cnbc.com/2020/01/29/reuters-america-u-s-goods-trade-deficit-jumps-in-december.html\" target=\"_blank\">U.S. goods trade deficit jumps in December</a> (Similarity: 70.76%)<br/><a href=\"https://www.reuters.com/article/germany-economy-industrialoutput/german-industry-output-suffers-biggest-slump-since-2009-idUSL8N2A71JD\" target=\"_blank\">German industry output suffers biggest slump since 2009</a> (Similarity: 70.65%)<br/><a href=\"https://www.cnbc.com/2020/03/13/reuters-america-u-s-import-prices-fall-in-february.html\" target=\"_blank\">U.S. import prices fall in February</a> (Similarity: 70.01%)"
      ],
      "text/plain": [
       "<IPython.core.display.HTML object>"
      ]
     },
     "metadata": {},
     "output_type": "display_data"
    },
    {
     "data": {
      "application/vnd.jupyter.widget-view+json": {
       "model_id": "01838bae529e4774abaf90b6ed0d61b5",
       "version_major": 2,
       "version_minor": 0
      },
      "text/plain": [
       "Tab(children=(Output(), Output(), Output(), Output(), Output(), Output(), Output(), Output(), Output(), Output…"
      ]
     },
     "metadata": {},
     "output_type": "display_data"
    }
   ],
   "source": [
    "recommendation(topic_modelling_data, 2020, \"U.S. manufacturing output rises unexpectedly\", number_of_related_articles=10)"
   ]
  },
  {
   "attachments": {},
   "cell_type": "markdown",
   "metadata": {},
   "source": [
    "It seems that the seeding article is mostly about topic number 11, 27 and 43 with some other topics sparsely mentioned. Taking a look at the topics seems to confirm that those topics are indeed what the seeding article is about."
   ]
  },
  {
   "cell_type": "code",
   "execution_count": 20,
   "metadata": {},
   "outputs": [
    {
     "name": "stdout",
     "output_type": "stream",
     "text": [
      "Topic 11: year say growth price rate\n",
      "Topic 27: say vehicle car production tesla\n",
      "Topic 43: oil say energy gas climate\n",
      "\n"
     ]
    }
   ],
   "source": [
    "feature_names = topic_modelling_data[\"vectorizer\"][2020].get_feature_names_out()\n",
    "dist = list(enumerate(topic_modelling_data[\"lda\"][year].components_))\n",
    "\n",
    "for topic_id, topic in (dist[11:12] + dist[27:28] + dist[43:44]):\n",
    "    message = f\"Topic {topic_id}: \"\n",
    "    message += \" \".join([feature_names[i] for i in topic.argsort()[: -5 - 1 : -1]])\n",
    "    print(message)\n",
    "print()"
   ]
  },
  {
   "attachments": {},
   "cell_type": "markdown",
   "metadata": {},
   "source": [
    "#### The implementation in a widget\n",
    "It is possible to go one step further, as sometimes it is not possible to have a seeding article that a search can be based on. Through accepting a text as input by a user, it becomes possible to place this in the topic distributions, which allows a direct search of the database. The user can specify the number of articles, and the year to query. It accepts any form of text, ranging from numbers, to words to entire articles. This input is vectorized and fit to the LDA after which articles with similar topic distribution are returned."
   ]
  },
  {
   "cell_type": "code",
   "execution_count": 21,
   "metadata": {},
   "outputs": [
    {
     "data": {
      "application/vnd.jupyter.widget-view+json": {
       "model_id": "d97828da518e4b1a828e3f004b415f3c",
       "version_major": 2,
       "version_minor": 0
      },
      "text/plain": [
       "VBox(children=(HBox(children=(IntSlider(value=10, description='Number of articles', layout=Layout(width='40%')…"
      ]
     },
     "metadata": {},
     "output_type": "display_data"
    }
   ],
   "source": [
    "recommendation_widget(topic_modelling_data)"
   ]
  },
  {
   "attachments": {},
   "cell_type": "markdown",
   "metadata": {},
   "source": [
    "##"
   ]
  }
 ],
 "metadata": {
  "kernelspec": {
   "display_name": "Python 3",
   "language": "python",
   "name": "python3"
  },
  "language_info": {
   "codemirror_mode": {
    "name": "ipython",
    "version": 3
   },
   "file_extension": ".py",
   "mimetype": "text/x-python",
   "name": "python",
   "nbconvert_exporter": "python",
   "pygments_lexer": "ipython3",
   "version": "3.10.6"
  },
  "orig_nbformat": 4
 },
 "nbformat": 4,
 "nbformat_minor": 2
}
