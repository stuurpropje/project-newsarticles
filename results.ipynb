{
 "cells": [
  {
   "attachments": {},
   "cell_type": "markdown",
   "metadata": {},
   "source": [
    "# Processing steps"
   ]
  },
  {
   "cell_type": "code",
   "execution_count": 1,
   "metadata": {},
   "outputs": [],
   "source": [
    "import pandas as pd\n",
    "import string\n",
    "import os\n",
    "import sys\n",
    "from nltk.corpus import stopwords\n",
    "from sklearn.feature_extraction.text import CountVectorizer\n",
    "from sklearn.decomposition import LatentDirichletAllocation\n",
    "\n",
    "sys.path.append(\"./datacleaning\")\n",
    "from load import load_years\n",
    "from data_cleaning import remove_stopwords, remove_punctuation\n",
    "from lemmatization import lemmatizer\n",
    "\n",
    "sys.path.pop()\n",
    "sys.path.append(\"./topicmodelling\")\n",
    "from ipynb.fs.defs.topic_modelling import print_top_words, recommendation, load_all_files\n",
    "\n",
    "pd.options.display.max_colwidth = 200"
   ]
  },
  {
   "attachments": {},
   "cell_type": "markdown",
   "metadata": {},
   "source": [
    "## Load.py\n",
    "\n",
    "Load.py takes [all-the-news-2-1.csv created by Andrew Thompson (2022)](https://components.one/datasets/all-the-news-2-news-articles-dataset/), and splits it into 5 seperate CSV files based on the publishing year of each article. \n",
    "\n",
    "The all-the-news-2-1.csv as the main file has a size of 8.8 GB resulting in long loading times. To address this, the file will be split into individual sub-files based on the year of publication. Each sub-file will contain roughly 1/5th of the data, making the processing faster and allowing for better compartmentalization.\n",
    "\n",
    "The process can be summarized as follows:\n",
    "\n",
    "* Read the main CSV file using the pandas library.\n",
    "* Split the data into separate DataFrames based on the publishing year, ranging from 2016 to 2020.\n",
    "* Write the seperate Dataframes to their respective csv files."
   ]
  },
  {
   "cell_type": "code",
   "execution_count": 2,
   "metadata": {},
   "outputs": [],
   "source": [
    "main_file_path = \"./csv/all-the-news-2-1.csv\"\n",
    "years = load_years(\"years.txt\")\n",
    "\n",
    "def sub_file_path(year: int, version: int=0):\n",
    "    \"\"\"Return path to sub file.\n",
    "     \n",
    "     Args:\n",
    "     \t year (int): year of file name.\n",
    "     \t version (str): version to use for sub file. Defaults to first version.\n",
    "     \n",
    "     Returns: \n",
    "     \t path to sub file for given year and version.\n",
    "    \"\"\"\n",
    "    suffix: str = \"\"\n",
    "    if version != 0:\n",
    "        suffix = \"_0\" + str(version)\n",
    "    return f\"./csv/{year}{suffix}.csv\"\n",
    "\n",
    "\n",
    "def convert_to_gb(value: int):\n",
    "    return round(value / (1024 ** 3), 2)\n",
    "\n",
    "\n",
    "def file_size(year: int, version: int=0) -> int:\n",
    "    return os.stat(sub_file_path(year, version)).st_size\n",
    "\n",
    "\n",
    "def load_df_version(version: int=0):\n",
    "    df = {}\n",
    "    for year in years:\n",
    "        df.update({year: pd.read_csv(sub_file_path(year, version), nrows=10)})\n",
    "\n",
    "    return df"
   ]
  },
  {
   "cell_type": "code",
   "execution_count": 3,
   "metadata": {},
   "outputs": [
    {
     "name": "stdout",
     "output_type": "stream",
     "text": [
      "./csv/all-the-news-2-1.csv size: 8.16 GB\n",
      "./csv/2016.csv 1.74 GB\n",
      "./csv/2017.csv 1.86 GB\n",
      "./csv/2018.csv 1.82 GB\n",
      "./csv/2019.csv 2.12 GB\n",
      "./csv/2020.csv 0.63 GB\n",
      "Cumulative size: 8.16 GB\n"
     ]
    }
   ],
   "source": [
    "main_files_size = convert_to_gb(os.stat(main_file_path).st_size)\n",
    "\n",
    "print(f\"{main_file_path} size: {main_files_size} GB\")\n",
    "\n",
    "cum_size = 0\n",
    "for year in years:\n",
    "    file = file_size(year)\n",
    "    cum_size += file\n",
    "    print(f\"{sub_file_path(year)} {convert_to_gb(file)} GB\")\n",
    "\n",
    "print(f\"Cumulative size: {convert_to_gb(cum_size)} GB\")"
   ]
  },
  {
   "cell_type": "code",
   "execution_count": 4,
   "metadata": {},
   "outputs": [
    {
     "data": {
      "text/html": [
       "<div>\n",
       "<style scoped>\n",
       "    .dataframe tbody tr th:only-of-type {\n",
       "        vertical-align: middle;\n",
       "    }\n",
       "\n",
       "    .dataframe tbody tr th {\n",
       "        vertical-align: top;\n",
       "    }\n",
       "\n",
       "    .dataframe thead th {\n",
       "        text-align: right;\n",
       "    }\n",
       "</style>\n",
       "<table border=\"1\" class=\"dataframe\">\n",
       "  <thead>\n",
       "    <tr style=\"text-align: right;\">\n",
       "      <th></th>\n",
       "      <th>date</th>\n",
       "      <th>year</th>\n",
       "      <th>month</th>\n",
       "      <th>day</th>\n",
       "      <th>author</th>\n",
       "      <th>title</th>\n",
       "      <th>article</th>\n",
       "      <th>url</th>\n",
       "      <th>section</th>\n",
       "      <th>publication</th>\n",
       "    </tr>\n",
       "  </thead>\n",
       "  <tbody>\n",
       "    <tr>\n",
       "      <th>0</th>\n",
       "      <td>2016-12-09 18:31:00</td>\n",
       "      <td>2016</td>\n",
       "      <td>12.0</td>\n",
       "      <td>9</td>\n",
       "      <td>Lee Drutman</td>\n",
       "      <td>We should take concerns about the health of liberal democracy seriously</td>\n",
       "      <td>This post is part of Polyarchy, an independent blog produced by the political reform program at New America, a Washington think tank devoted to developing new ideas and new voices. Imagine you are...</td>\n",
       "      <td>https://www.vox.com/polyarchy/2016/12/9/13898340/democracy-warning-signs</td>\n",
       "      <td>NaN</td>\n",
       "      <td>Vox</td>\n",
       "    </tr>\n",
       "  </tbody>\n",
       "</table>\n",
       "</div>"
      ],
      "text/plain": [
       "                  date  year  month  day       author  \\\n",
       "0  2016-12-09 18:31:00  2016   12.0    9  Lee Drutman   \n",
       "\n",
       "                                                                     title  \\\n",
       "0  We should take concerns about the health of liberal democracy seriously   \n",
       "\n",
       "                                                                                                                                                                                                   article  \\\n",
       "0  This post is part of Polyarchy, an independent blog produced by the political reform program at New America, a Washington think tank devoted to developing new ideas and new voices. Imagine you are...   \n",
       "\n",
       "                                                                        url  \\\n",
       "0  https://www.vox.com/polyarchy/2016/12/9/13898340/democracy-warning-signs   \n",
       "\n",
       "  section publication  \n",
       "0     NaN         Vox  "
      ]
     },
     "metadata": {},
     "output_type": "display_data"
    },
    {
     "data": {
      "text/html": [
       "<div>\n",
       "<style scoped>\n",
       "    .dataframe tbody tr th:only-of-type {\n",
       "        vertical-align: middle;\n",
       "    }\n",
       "\n",
       "    .dataframe tbody tr th {\n",
       "        vertical-align: top;\n",
       "    }\n",
       "\n",
       "    .dataframe thead th {\n",
       "        text-align: right;\n",
       "    }\n",
       "</style>\n",
       "<table border=\"1\" class=\"dataframe\">\n",
       "  <thead>\n",
       "    <tr style=\"text-align: right;\">\n",
       "      <th></th>\n",
       "      <th>year</th>\n",
       "      <th>date</th>\n",
       "      <th>month</th>\n",
       "      <th>day</th>\n",
       "      <th>author</th>\n",
       "      <th>title</th>\n",
       "      <th>article</th>\n",
       "      <th>url</th>\n",
       "      <th>section</th>\n",
       "      <th>publication</th>\n",
       "    </tr>\n",
       "  </thead>\n",
       "  <tbody>\n",
       "    <tr>\n",
       "      <th>0</th>\n",
       "      <td>2016</td>\n",
       "      <td>2016-12-09 18:31:00</td>\n",
       "      <td>12.0</td>\n",
       "      <td>9</td>\n",
       "      <td>Lee Drutman</td>\n",
       "      <td>We should take concerns about the health of liberal democracy seriously</td>\n",
       "      <td>This post is part of Polyarchy, an independent blog produced by the political reform program at New America, a Washington think tank devoted to developing new ideas and new voices. Imagine you are...</td>\n",
       "      <td>https://www.vox.com/polyarchy/2016/12/9/13898340/democracy-warning-signs</td>\n",
       "      <td>NaN</td>\n",
       "      <td>Vox</td>\n",
       "    </tr>\n",
       "  </tbody>\n",
       "</table>\n",
       "</div>"
      ],
      "text/plain": [
       "   year                 date  month  day       author  \\\n",
       "0  2016  2016-12-09 18:31:00   12.0    9  Lee Drutman   \n",
       "\n",
       "                                                                     title  \\\n",
       "0  We should take concerns about the health of liberal democracy seriously   \n",
       "\n",
       "                                                                                                                                                                                                   article  \\\n",
       "0  This post is part of Polyarchy, an independent blog produced by the political reform program at New America, a Washington think tank devoted to developing new ideas and new voices. Imagine you are...   \n",
       "\n",
       "                                                                        url  \\\n",
       "0  https://www.vox.com/polyarchy/2016/12/9/13898340/democracy-warning-signs   \n",
       "\n",
       "  section publication  \n",
       "0     NaN         Vox  "
      ]
     },
     "metadata": {},
     "output_type": "display_data"
    },
    {
     "data": {
      "text/html": [
       "<div>\n",
       "<style scoped>\n",
       "    .dataframe tbody tr th:only-of-type {\n",
       "        vertical-align: middle;\n",
       "    }\n",
       "\n",
       "    .dataframe tbody tr th {\n",
       "        vertical-align: top;\n",
       "    }\n",
       "\n",
       "    .dataframe thead th {\n",
       "        text-align: right;\n",
       "    }\n",
       "</style>\n",
       "<table border=\"1\" class=\"dataframe\">\n",
       "  <thead>\n",
       "    <tr style=\"text-align: right;\">\n",
       "      <th></th>\n",
       "      <th>year</th>\n",
       "      <th>date</th>\n",
       "      <th>month</th>\n",
       "      <th>day</th>\n",
       "      <th>author</th>\n",
       "      <th>title</th>\n",
       "      <th>article</th>\n",
       "      <th>url</th>\n",
       "      <th>section</th>\n",
       "      <th>publication</th>\n",
       "    </tr>\n",
       "  </thead>\n",
       "  <tbody>\n",
       "    <tr>\n",
       "      <th>0</th>\n",
       "      <td>2017</td>\n",
       "      <td>2017-03-02 00:00:00</td>\n",
       "      <td>3.0</td>\n",
       "      <td>2</td>\n",
       "      <td>Tim Hume</td>\n",
       "      <td>China is dismissing unfavorable media reports as fake because that's what Trump does</td>\n",
       "      <td>China is dismissing unfavorable media reports as fake news because that’s what Trump does  China is dismissing unfavorable media reports as fake news because that’s what Trump does  In his short p...</td>\n",
       "      <td>https://news.vice.com/en_us/article/xwvj7j/china-is-dismissing-unfavorable-media-reports-as-fake-because-thats-what-trump-does</td>\n",
       "      <td>NaN</td>\n",
       "      <td>Vice News</td>\n",
       "    </tr>\n",
       "  </tbody>\n",
       "</table>\n",
       "</div>"
      ],
      "text/plain": [
       "   year                 date  month  day    author  \\\n",
       "0  2017  2017-03-02 00:00:00    3.0    2  Tim Hume   \n",
       "\n",
       "                                                                                  title  \\\n",
       "0  China is dismissing unfavorable media reports as fake because that's what Trump does   \n",
       "\n",
       "                                                                                                                                                                                                   article  \\\n",
       "0  China is dismissing unfavorable media reports as fake news because that’s what Trump does  China is dismissing unfavorable media reports as fake news because that’s what Trump does  In his short p...   \n",
       "\n",
       "                                                                                                                              url  \\\n",
       "0  https://news.vice.com/en_us/article/xwvj7j/china-is-dismissing-unfavorable-media-reports-as-fake-because-thats-what-trump-does   \n",
       "\n",
       "  section publication  \n",
       "0     NaN   Vice News  "
      ]
     },
     "metadata": {},
     "output_type": "display_data"
    },
    {
     "data": {
      "text/html": [
       "<div>\n",
       "<style scoped>\n",
       "    .dataframe tbody tr th:only-of-type {\n",
       "        vertical-align: middle;\n",
       "    }\n",
       "\n",
       "    .dataframe tbody tr th {\n",
       "        vertical-align: top;\n",
       "    }\n",
       "\n",
       "    .dataframe thead th {\n",
       "        text-align: right;\n",
       "    }\n",
       "</style>\n",
       "<table border=\"1\" class=\"dataframe\">\n",
       "  <thead>\n",
       "    <tr style=\"text-align: right;\">\n",
       "      <th></th>\n",
       "      <th>year</th>\n",
       "      <th>date</th>\n",
       "      <th>month</th>\n",
       "      <th>day</th>\n",
       "      <th>author</th>\n",
       "      <th>title</th>\n",
       "      <th>article</th>\n",
       "      <th>url</th>\n",
       "      <th>section</th>\n",
       "      <th>publication</th>\n",
       "    </tr>\n",
       "  </thead>\n",
       "  <tbody>\n",
       "    <tr>\n",
       "      <th>0</th>\n",
       "      <td>2018</td>\n",
       "      <td>2018-01-26 00:00:00</td>\n",
       "      <td>1.0</td>\n",
       "      <td>26</td>\n",
       "      <td>NaN</td>\n",
       "      <td>Trump denies report he ordered Mueller fired</td>\n",
       "      <td>DAVOS, Switzerland (Reuters) - U.S. President Donald Trump denied a report on Friday that he had ordered Special Counsel Robert Mueller fired last June, calling it “fake news”.  The New York Times...</td>\n",
       "      <td>https://www.reuters.com/article/us-davos-meeting-trump-mueller/trump-denies-report-he-ordered-mueller-fired-idUSKBN1FF12A</td>\n",
       "      <td>Davos</td>\n",
       "      <td>Reuters</td>\n",
       "    </tr>\n",
       "  </tbody>\n",
       "</table>\n",
       "</div>"
      ],
      "text/plain": [
       "   year                 date  month  day author  \\\n",
       "0  2018  2018-01-26 00:00:00    1.0   26    NaN   \n",
       "\n",
       "                                          title  \\\n",
       "0  Trump denies report he ordered Mueller fired   \n",
       "\n",
       "                                                                                                                                                                                                   article  \\\n",
       "0  DAVOS, Switzerland (Reuters) - U.S. President Donald Trump denied a report on Friday that he had ordered Special Counsel Robert Mueller fired last June, calling it “fake news”.  The New York Times...   \n",
       "\n",
       "                                                                                                                         url  \\\n",
       "0  https://www.reuters.com/article/us-davos-meeting-trump-mueller/trump-denies-report-he-ordered-mueller-fired-idUSKBN1FF12A   \n",
       "\n",
       "  section publication  \n",
       "0   Davos     Reuters  "
      ]
     },
     "metadata": {},
     "output_type": "display_data"
    },
    {
     "data": {
      "text/html": [
       "<div>\n",
       "<style scoped>\n",
       "    .dataframe tbody tr th:only-of-type {\n",
       "        vertical-align: middle;\n",
       "    }\n",
       "\n",
       "    .dataframe tbody tr th {\n",
       "        vertical-align: top;\n",
       "    }\n",
       "\n",
       "    .dataframe thead th {\n",
       "        text-align: right;\n",
       "    }\n",
       "</style>\n",
       "<table border=\"1\" class=\"dataframe\">\n",
       "  <thead>\n",
       "    <tr style=\"text-align: right;\">\n",
       "      <th></th>\n",
       "      <th>year</th>\n",
       "      <th>date</th>\n",
       "      <th>month</th>\n",
       "      <th>day</th>\n",
       "      <th>author</th>\n",
       "      <th>title</th>\n",
       "      <th>article</th>\n",
       "      <th>url</th>\n",
       "      <th>section</th>\n",
       "      <th>publication</th>\n",
       "    </tr>\n",
       "  </thead>\n",
       "  <tbody>\n",
       "    <tr>\n",
       "      <th>0</th>\n",
       "      <td>2019</td>\n",
       "      <td>2019-06-27 00:00:00</td>\n",
       "      <td>6.0</td>\n",
       "      <td>27</td>\n",
       "      <td>NaN</td>\n",
       "      <td>France's Sarkozy reveals his 'Passions' but insists no come-back on cards</td>\n",
       "      <td>PARIS (Reuters) - Former French president Nicolas Sarkozy published a new memoir on Thursday but was quick to dismiss speculation he might return to politics to rescue his old center-right party, ...</td>\n",
       "      <td>https://www.reuters.com/article/france-politics-sarkozy/frances-sarkozy-reveals-his-passions-but-insists-no-come-back-on-cards-idUSL8N23Y5AS</td>\n",
       "      <td>World News</td>\n",
       "      <td>Reuters</td>\n",
       "    </tr>\n",
       "  </tbody>\n",
       "</table>\n",
       "</div>"
      ],
      "text/plain": [
       "   year                 date  month  day author  \\\n",
       "0  2019  2019-06-27 00:00:00    6.0   27    NaN   \n",
       "\n",
       "                                                                       title  \\\n",
       "0  France's Sarkozy reveals his 'Passions' but insists no come-back on cards   \n",
       "\n",
       "                                                                                                                                                                                                   article  \\\n",
       "0  PARIS (Reuters) - Former French president Nicolas Sarkozy published a new memoir on Thursday but was quick to dismiss speculation he might return to politics to rescue his old center-right party, ...   \n",
       "\n",
       "                                                                                                                                            url  \\\n",
       "0  https://www.reuters.com/article/france-politics-sarkozy/frances-sarkozy-reveals-his-passions-but-insists-no-come-back-on-cards-idUSL8N23Y5AS   \n",
       "\n",
       "      section publication  \n",
       "0  World News     Reuters  "
      ]
     },
     "metadata": {},
     "output_type": "display_data"
    },
    {
     "data": {
      "text/html": [
       "<div>\n",
       "<style scoped>\n",
       "    .dataframe tbody tr th:only-of-type {\n",
       "        vertical-align: middle;\n",
       "    }\n",
       "\n",
       "    .dataframe tbody tr th {\n",
       "        vertical-align: top;\n",
       "    }\n",
       "\n",
       "    .dataframe thead th {\n",
       "        text-align: right;\n",
       "    }\n",
       "</style>\n",
       "<table border=\"1\" class=\"dataframe\">\n",
       "  <thead>\n",
       "    <tr style=\"text-align: right;\">\n",
       "      <th></th>\n",
       "      <th>year</th>\n",
       "      <th>date</th>\n",
       "      <th>month</th>\n",
       "      <th>day</th>\n",
       "      <th>author</th>\n",
       "      <th>title</th>\n",
       "      <th>article</th>\n",
       "      <th>url</th>\n",
       "      <th>section</th>\n",
       "      <th>publication</th>\n",
       "    </tr>\n",
       "  </thead>\n",
       "  <tbody>\n",
       "    <tr>\n",
       "      <th>0</th>\n",
       "      <td>2020</td>\n",
       "      <td>2020-01-06 00:00:00</td>\n",
       "      <td>1.0</td>\n",
       "      <td>6</td>\n",
       "      <td>NaN</td>\n",
       "      <td>The Bronx Zoo’s Holiday Lights Festival</td>\n",
       "      <td>The lowland gorillas at the  Bronx Zoo  tend to congregate indoors during the winter rather than roam around outside in their forest habitat. But, after sunset, their sculptural counterparts illum...</td>\n",
       "      <td>https://www.newyorker.com/magazine/2020/01/06/the-bronx-zoos-holiday-lights-festival</td>\n",
       "      <td>magazine</td>\n",
       "      <td>New Yorker</td>\n",
       "    </tr>\n",
       "  </tbody>\n",
       "</table>\n",
       "</div>"
      ],
      "text/plain": [
       "   year                 date  month  day author  \\\n",
       "0  2020  2020-01-06 00:00:00    1.0    6    NaN   \n",
       "\n",
       "                                     title  \\\n",
       "0  The Bronx Zoo’s Holiday Lights Festival   \n",
       "\n",
       "                                                                                                                                                                                                   article  \\\n",
       "0  The lowland gorillas at the  Bronx Zoo  tend to congregate indoors during the winter rather than roam around outside in their forest habitat. But, after sunset, their sculptural counterparts illum...   \n",
       "\n",
       "                                                                                    url  \\\n",
       "0  https://www.newyorker.com/magazine/2020/01/06/the-bronx-zoos-holiday-lights-festival   \n",
       "\n",
       "    section publication  \n",
       "0  magazine  New Yorker  "
      ]
     },
     "metadata": {},
     "output_type": "display_data"
    }
   ],
   "source": [
    "df_main = pd.read_csv(main_file_path, nrows=10)\n",
    "df = load_df_version()\n",
    "\n",
    "display(df_main.head(1))\n",
    "for year in years:\n",
    "    display(df[year].head(1))"
   ]
  },
  {
   "attachments": {},
   "cell_type": "markdown",
   "metadata": {},
   "source": [
    "## Data_cleaning.py\n",
    "\n",
    "To prepare the data for the lemmatization process, multiple steps are performed.\n",
    "\n",
    "* Articles are cast to lowercase.\n",
    "    - This happens because text containing both upper and lower cases are recognized as different words.\n",
    "* Commas are removed from article titles and author names.\n",
    "    - Superfluous commas cause problems reading the articles. By removing them no information is lost, but processing the csv files (and each subsequent step) becauses significantly easier.\n",
    "* All punctuation is removed from articles.\n",
    "    - For the same reason as removing commas and casting text to lowercase.\n",
    "* All stop words are removed from articles.\n",
    "    - To reduce the processing power requirements for words with no inherent meaning."
   ]
  },
  {
   "attachments": {},
   "cell_type": "markdown",
   "metadata": {},
   "source": [
    "### Removed punctuation and stop words:"
   ]
  },
  {
   "cell_type": "code",
   "execution_count": 5,
   "metadata": {},
   "outputs": [
    {
     "data": {
      "text/plain": [
       "'!\"#$%&\\'()*+,-./:;<=>?@[\\\\]^_`{|}~\"“‘—’”\"'"
      ]
     },
     "metadata": {},
     "output_type": "display_data"
    },
    {
     "data": {
      "text/plain": [
       "['i', 'me', 'my', 'myself', 'we', 'our', 'ours', 'ourselves', 'you', \"you're\"]"
      ]
     },
     "metadata": {},
     "output_type": "display_data"
    }
   ],
   "source": [
    "display(string.punctuation + '\"“‘—’”\"', stopwords.words(\"english\")[:10])"
   ]
  },
  {
   "attachments": {},
   "cell_type": "markdown",
   "metadata": {},
   "source": [
    "### The difference between unprocessed and processed data:"
   ]
  },
  {
   "cell_type": "code",
   "execution_count": 6,
   "metadata": {},
   "outputs": [
    {
     "data": {
      "text/plain": [
       "0    This post is part of Polyarchy, an independent blog produced by the political reform program at New America, a Washington think tank devoted to developing new ideas and new voices. Imagine you are...\n",
       "Name: article, dtype: object"
      ]
     },
     "metadata": {},
     "output_type": "display_data"
    },
    {
     "data": {
      "text/plain": [
       "0    post part polyarchy independent blog produced political reform program new america washington think tank devoted developing new ideas new voices imagine otherwise healthy 30something starts feelin...\n",
       "Name: article, dtype: object"
      ]
     },
     "metadata": {},
     "output_type": "display_data"
    },
    {
     "data": {
      "text/plain": [
       "0    China is dismissing unfavorable media reports as fake news because that’s what Trump does  China is dismissing unfavorable media reports as fake news because that’s what Trump does  In his short p...\n",
       "Name: article, dtype: object"
      ]
     },
     "metadata": {},
     "output_type": "display_data"
    },
    {
     "data": {
      "text/plain": [
       "0    china dismissing unfavorable media reports fake news thats trump china dismissing unfavorable media reports fake news thats trump short political career donald trump made habit dismissing unfavora...\n",
       "Name: article, dtype: object"
      ]
     },
     "metadata": {},
     "output_type": "display_data"
    },
    {
     "data": {
      "text/plain": [
       "0    DAVOS, Switzerland (Reuters) - U.S. President Donald Trump denied a report on Friday that he had ordered Special Counsel Robert Mueller fired last June, calling it “fake news”.  The New York Times...\n",
       "Name: article, dtype: object"
      ]
     },
     "metadata": {},
     "output_type": "display_data"
    },
    {
     "data": {
      "text/plain": [
       "0    davos switzerland reuters us president donald trump denied report friday ordered special counsel robert mueller fired last june calling fake news new york times reported thursday trump backed orde...\n",
       "Name: article, dtype: object"
      ]
     },
     "metadata": {},
     "output_type": "display_data"
    },
    {
     "data": {
      "text/plain": [
       "0    PARIS (Reuters) - Former French president Nicolas Sarkozy published a new memoir on Thursday but was quick to dismiss speculation he might return to politics to rescue his old center-right party, ...\n",
       "Name: article, dtype: object"
      ]
     },
     "metadata": {},
     "output_type": "display_data"
    },
    {
     "data": {
      "text/plain": [
       "0    paris reuters former french president nicolas sarkozy published new memoir thursday quick dismiss speculation might return politics rescue old centerright party shed support since president emmanu...\n",
       "Name: article, dtype: object"
      ]
     },
     "metadata": {},
     "output_type": "display_data"
    },
    {
     "data": {
      "text/plain": [
       "0    The lowland gorillas at the  Bronx Zoo  tend to congregate indoors during the winter rather than roam around outside in their forest habitat. But, after sunset, their sculptural counterparts illum...\n",
       "Name: article, dtype: object"
      ]
     },
     "metadata": {},
     "output_type": "display_data"
    },
    {
     "data": {
      "text/plain": [
       "0    lowland gorillas bronx zoo tend congregate indoors winter rather roam around outside forest habitat sunset sculptural counterparts illuminate zoos grounds fanciful renditions lions giraffes zebras...\n",
       "Name: article, dtype: object"
      ]
     },
     "metadata": {},
     "output_type": "display_data"
    }
   ],
   "source": [
    "df_cleaned = load_df_version(1)\n",
    "\n",
    "for year in years:\n",
    "    display(df[year]['article'].head(1), df_cleaned[year]['article'].head(1))"
   ]
  },
  {
   "attachments": {},
   "cell_type": "markdown",
   "metadata": {},
   "source": [
    "This notably reduces the size of the file."
   ]
  },
  {
   "cell_type": "code",
   "execution_count": 7,
   "metadata": {},
   "outputs": [],
   "source": [
    "def size_comparison(version: int) -> None:\n",
    "    old_cum, new_cum = 0, 0\n",
    "    for year in years:\n",
    "        old_file_size = file_size(year, version - 1)\n",
    "        new_file_size = file_size(year, version)\n",
    "        old_cum += old_file_size\n",
    "        new_cum += new_file_size\n",
    "        print(f\"{sub_file_path(year, version - 1)} was {convert_to_gb(file_size(year))} GB, {sub_file_path(year, version)} is {convert_to_gb(file_size(year, 1))} GB. The size has been decreased to {round((new_file_size/old_file_size * 100), 2)}% of the original file.\")\n",
    "\n",
    "    print(\"\")\n",
    "    print(f\"The cumulative size of the old versions was {convert_to_gb(old_cum)} GB, the new versions has a cumulative size of {convert_to_gb(new_cum)} GB.\")"
   ]
  },
  {
   "cell_type": "code",
   "execution_count": 8,
   "metadata": {},
   "outputs": [
    {
     "name": "stdout",
     "output_type": "stream",
     "text": [
      "./csv/2016.csv was 1.74 GB, ./csv/2016_01.csv is 1.24 GB. The size has been decreased to 71.57% of the original file.\n",
      "./csv/2017.csv was 1.86 GB, ./csv/2017_01.csv is 1.33 GB. The size has been decreased to 71.87% of the original file.\n",
      "./csv/2018.csv was 1.82 GB, ./csv/2018_01.csv is 1.3 GB. The size has been decreased to 71.69% of the original file.\n",
      "./csv/2019.csv was 2.12 GB, ./csv/2019_01.csv is 1.53 GB. The size has been decreased to 72.22% of the original file.\n",
      "./csv/2020.csv was 0.63 GB, ./csv/2020_01.csv is 0.45 GB. The size has been decreased to 71.6% of the original file.\n",
      "\n",
      "The cumulative size of the old versions was 8.16 GB, the new versions has a cumulative size of 5.86 GB.\n"
     ]
    }
   ],
   "source": [
    "size_comparison(1)"
   ]
  },
  {
   "attachments": {},
   "cell_type": "markdown",
   "metadata": {},
   "source": [
    "## Random_sample.py\n",
    "\n",
    "Due to hardware limitations, executing certain processing-intensive functions cost high amounts of time. The lemmatization function would require 55 hours to completely process all 5 csv files, even after reducing their contents through data_cleaning.py. For this project a random sample of 10% of all articles is therefore taken from from each file and written to a new file."
   ]
  },
  {
   "cell_type": "code",
   "execution_count": 9,
   "metadata": {},
   "outputs": [
    {
     "name": "stdout",
     "output_type": "stream",
     "text": [
      "./csv/2016_01.csv was 1.74 GB, ./csv/2016_02.csv is 1.24 GB. The size has been decreased to 10.0% of the original file.\n",
      "./csv/2017_01.csv was 1.86 GB, ./csv/2017_02.csv is 1.33 GB. The size has been decreased to 10.06% of the original file.\n",
      "./csv/2018_01.csv was 1.82 GB, ./csv/2018_02.csv is 1.3 GB. The size has been decreased to 9.99% of the original file.\n",
      "./csv/2019_01.csv was 2.12 GB, ./csv/2019_02.csv is 1.53 GB. The size has been decreased to 10.01% of the original file.\n",
      "./csv/2020_01.csv was 0.63 GB, ./csv/2020_02.csv is 0.45 GB. The size has been decreased to 10.21% of the original file.\n",
      "\n",
      "The cumulative size of the old versions was 5.86 GB, the new versions has a cumulative size of 0.59 GB.\n"
     ]
    }
   ],
   "source": [
    "df_sampled = load_df_version(2)\n",
    "\n",
    "size_comparison(2)"
   ]
  },
  {
   "attachments": {},
   "cell_type": "markdown",
   "metadata": {},
   "source": [
    "## Lemmatization.py\n",
    "\n",
    "Lemmatization is a process in which words are reduced to their base dictionary form of a word [Stanford, 2008](https://nlp.stanford.edu/IR-book/html/htmledition/stemming-and-lemmatization-1.html). This reduces the dimensionality of text, which allows for an easier classification through vectorisation [MathWorks, 2023](https://nl.mathworks.com/discovery/lemmatization.html). It is a very time and power intensive method but results in a trimmed text.\n",
    "\n"
   ]
  },
  {
   "attachments": {},
   "cell_type": "markdown",
   "metadata": {},
   "source": [
    "### An example of the lemmatizer.\n",
    "By a text generated through ChatGPT."
   ]
  },
  {
   "cell_type": "code",
   "execution_count": 10,
   "metadata": {},
   "outputs": [
    {
     "name": "stdout",
     "output_type": "stream",
     "text": [
      "The quick brown foxes jumped over the lazy dogs. They were all running and playing in the open field. The foxes' tails were bushy, and the dogs wagged their tails happily. Suddenly, a loud noise startled them, and they quickly scattered in different directions.\n",
      "The quick brown foxes jumped over the lazy dogs They were all running and playing in the open field The foxes tails were bushy and the dogs wagged their tails happily Suddenly a loud noise startled them and they quickly scattered in different directions\n",
      "The quick brown foxes jumped lazy dogs They running playing open field The foxes tails bushy dogs wagged tails happily Suddenly loud noise startled quickly scattered different directions\n",
      "the quick brown fox jump lazy dog they run play open field the fox tail bushy dog wag tail happily suddenly loud noise startle quickly scatter different direction\n"
     ]
    }
   ],
   "source": [
    "example_text = \"The quick brown foxes jumped over the lazy dogs. They were all running and playing in the open field. The foxes' tails were bushy, and the dogs wagged their tails happily. Suddenly, a loud noise startled them, and they quickly scattered in different directions.\"\n",
    "example_text_2 = remove_punctuation(example_text)\n",
    "example_text_3 = remove_stopwords(example_text_2)\n",
    "lemmatized_text = lemmatizer(example_text_3)\n",
    "\n",
    "print(f\"{example_text}\\n{example_text_2}\\n{example_text_3}\\n{lemmatized_text}\")"
   ]
  },
  {
   "attachments": {},
   "cell_type": "markdown",
   "metadata": {},
   "source": [
    "The same is done on the articles stored in the various csv files. Due to the multi-core processing without storing original index values, the order of original has been lost after lemmatization. The articles however have been succesfully lemmatized, further reducing their size."
   ]
  },
  {
   "cell_type": "code",
   "execution_count": 11,
   "metadata": {},
   "outputs": [
    {
     "data": {
      "text/plain": [
       "0    recent rumor potential apple car may massive waste anticipatory energy well direct toward levitate hologrambeame iphone 10 new report accurate despite month month hint movement prompt many tech in...\n",
       "Name: article, dtype: object"
      ]
     },
     "metadata": {},
     "output_type": "display_data"
    },
    {
     "data": {
      "text/plain": [
       "0    singapore may 15 reuter golden agriresource ltds quarterly net profit fall half year ago hit foreign exchangerelate loss largely wipe high revenue strong palm oil price singaporeliste firm monday ...\n",
       "Name: article, dtype: object"
      ]
     },
     "metadata": {},
     "output_type": "display_data"
    },
    {
     "data": {
      "text/plain": [
       "0    washington reuter major washingtonarea airport virginia briefly halt traffic friday high wind prompt evacuation air traffic control tower 30 minute federal aviation administration say washington d...\n",
       "Name: article, dtype: object"
      ]
     },
     "metadata": {},
     "output_type": "display_data"
    },
    {
     "data": {
      "text/plain": [
       "0    peoples bank china approve paypal acquisition 70 equity state gopay guofubao information technology co gopay ltd make paypal first foreign payment platform provide online payment service china gop...\n",
       "Name: article, dtype: object"
      ]
     },
     "metadata": {},
     "output_type": "display_data"
    },
    {
     "data": {
      "text/plain": [
       "0    march 17 reuter icc holdings inc insurance carrier temporarily suspend billing restaurant tavern amid grow covid19 closing icc holdings inc temporarily suspend insurance premium bill 30 day begin ...\n",
       "Name: article, dtype: object"
      ]
     },
     "metadata": {},
     "output_type": "display_data"
    },
    {
     "name": "stdout",
     "output_type": "stream",
     "text": [
      "./csv/2016_02.csv was 1.74 GB, ./csv/2016_03.csv is 1.24 GB. The size has been decreased to 88.56% of the original file.\n",
      "./csv/2017_02.csv was 1.86 GB, ./csv/2017_03.csv is 1.33 GB. The size has been decreased to 85.81% of the original file.\n",
      "./csv/2018_02.csv was 1.82 GB, ./csv/2018_03.csv is 1.3 GB. The size has been decreased to 89.99% of the original file.\n",
      "./csv/2019_02.csv was 2.12 GB, ./csv/2019_03.csv is 1.53 GB. The size has been decreased to 85.87% of the original file.\n",
      "./csv/2020_02.csv was 0.63 GB, ./csv/2020_03.csv is 0.45 GB. The size has been decreased to 83.41% of the original file.\n",
      "\n",
      "The cumulative size of the old versions was 0.59 GB, the new versions has a cumulative size of 0.51 GB.\n"
     ]
    }
   ],
   "source": [
    "df_lemmatized = load_df_version(3)\n",
    "for year in years:\n",
    "    display(df_lemmatized[year]['article'].head(1))\n",
    "\n",
    "size_comparison(3)"
   ]
  },
  {
   "attachments": {},
   "cell_type": "markdown",
   "metadata": {},
   "source": [
    "## Vectorizer.py\n",
    "\n",
    "After lemmatization, the data is vectorized. This was performed through the sklearn Countvectorizer function. This vectorizer works through forming a sparse matrix which is a count of word occurences in a text. This matrix of vectorized text can be processed through a Latent Dirichlet Allocation. By assessing the presence of words topics can be discovered from collections of texts. Let's take a look at an example."
   ]
  },
  {
   "attachments": {},
   "cell_type": "markdown",
   "metadata": {},
   "source": [
    "### An Example of how spare matrix vectorization works.\n",
    "\n",
    "Lemmatized sentences are generated by ChatGPT"
   ]
  },
  {
   "cell_type": "code",
   "execution_count": 12,
   "metadata": {},
   "outputs": [
    {
     "data": {
      "text/plain": [
       "[('brown', 12),\n",
       " ('cat', 18),\n",
       " ('with', 104),\n",
       " ('fluffy', 37),\n",
       " ('tail', 91),\n",
       " ('jump', 55),\n",
       " ('over', 66),\n",
       " ('sleep', 84),\n",
       " ('dog', 26),\n",
       " ('in', 50)]"
      ]
     },
     "metadata": {},
     "output_type": "display_data"
    },
    {
     "data": {
      "text/plain": [
       "array([[0, 0, 0, ..., 0, 1, 0],\n",
       "       [0, 0, 0, ..., 0, 0, 0],\n",
       "       [0, 0, 0, ..., 0, 0, 0],\n",
       "       ...,\n",
       "       [0, 0, 0, ..., 0, 0, 0],\n",
       "       [0, 0, 0, ..., 1, 0, 0],\n",
       "       [1, 0, 0, ..., 0, 0, 0]])"
      ]
     },
     "metadata": {},
     "output_type": "display_data"
    }
   ],
   "source": [
    "lemmatized_sentences = [\n",
    "    \"brown cat with fluffy tail jump over sleep dog in backyard\",\n",
    "    \"I enjoy spend my weekend explore new hike trail capture beautiful photograph of nature\",\n",
    "    \"sun set in horizon golden hue paint sky create breathtake view\",\n",
    "    \"he passionate play piano grace and elegance captivate audience every note\",\n",
    "    \"she dream travel world experience different culture taste exotic cuisine\",\n",
    "    \"they decide embark on epic journey across vast ocean seek hide treasure ancient relic\",\n",
    "    \"we gather around campfire share story laughter under star night sky\",\n",
    "    \"it bloom vibrant color fil garden sweet scent attract butterfly bee\",\n",
    "    \"he skillful perform intricate dance routine impress judge win heart audience\",\n",
    "    \"she passionate pursue dream overcome obstacle achieve great success in career\"\n",
    "]\n",
    "\n",
    "\n",
    "vectorizer = CountVectorizer()\n",
    "v = vectorizer.fit(lemmatized_sentences)\n",
    "vector = vectorizer.transform(lemmatized_sentences)\n",
    "\n",
    "display(list(v.vocabulary_.items())[:10], vector.toarray())"
   ]
  },
  {
   "attachments": {},
   "cell_type": "markdown",
   "metadata": {},
   "source": [
    "### How an LDA applied to the vectorization works."
   ]
  },
  {
   "cell_type": "code",
   "execution_count": 13,
   "metadata": {},
   "outputs": [
    {
     "name": "stdout",
     "output_type": "stream",
     "text": [
      "Topic 0: embark treasure seek journey epic\n",
      "Topic 1: sky in star under laughter\n",
      "Topic 2: in she dream passionate great\n",
      "\n"
     ]
    }
   ],
   "source": [
    "lda = LatentDirichletAllocation(n_components=5, random_state=0)\n",
    "lda.fit(vector)\n",
    "\n",
    "print_top_words(lda, vectorizer, n_top_words=5)"
   ]
  },
  {
   "attachments": {},
   "cell_type": "markdown",
   "metadata": {},
   "source": [
    "### Preview of vectorization and LDA on the dataset"
   ]
  },
  {
   "cell_type": "code",
   "execution_count": 14,
   "metadata": {},
   "outputs": [
    {
     "name": "stdout",
     "output_type": "stream",
     "text": [
      "2016 done.\n",
      "2017 done.\n",
      "2018 done.\n",
      "2019 done.\n",
      "2020 done.\n"
     ]
    }
   ],
   "source": [
    "lda, data_vectorized, vectorizer, df, doc_topic_dist = load_all_files(\"topicmodelling/csv\", \"csv\", years)"
   ]
  },
  {
   "cell_type": "code",
   "execution_count": 15,
   "metadata": {},
   "outputs": [
    {
     "name": "stdout",
     "output_type": "stream",
     "text": [
      "2016\n",
      "Topic 0: use like make new not\n",
      "Topic 1: say police court case officer\n",
      "Topic 2: song music album band record\n",
      "\n",
      "2017\n",
      "Topic 0: like not make get one\n",
      "Topic 1: percent price stock say high\n",
      "Topic 2: 2017 music song album band\n",
      "\n",
      "2018\n",
      "Topic 0: woman man people one not\n",
      "Topic 1: not do get go like\n",
      "Topic 2: 2018 get star year not\n",
      "\n",
      "2019\n",
      "Topic 0: year growth economy say rate\n",
      "Topic 1: health say drug care patient\n",
      "Topic 2: woman film show black story\n",
      "\n",
      "2020\n",
      "Topic 0: de la que en el\n",
      "Topic 1: iran we say iranian united\n",
      "Topic 2: datum company say business use\n",
      "\n"
     ]
    }
   ],
   "source": [
    "for year in years:\n",
    "    print(year)\n",
    "    print_top_words(lda[year], vectorizer[year], n_top_words=5)"
   ]
  },
  {
   "cell_type": "code",
   "execution_count": 20,
   "metadata": {},
   "outputs": [
    {
     "data": {
      "text/html": [
       "<div>\n",
       "<style scoped>\n",
       "    .dataframe tbody tr th:only-of-type {\n",
       "        vertical-align: middle;\n",
       "    }\n",
       "\n",
       "    .dataframe tbody tr th {\n",
       "        vertical-align: top;\n",
       "    }\n",
       "\n",
       "    .dataframe thead th {\n",
       "        text-align: right;\n",
       "    }\n",
       "</style>\n",
       "<table border=\"1\" class=\"dataframe\">\n",
       "  <thead>\n",
       "    <tr style=\"text-align: right;\">\n",
       "      <th></th>\n",
       "      <th>year</th>\n",
       "      <th>date</th>\n",
       "      <th>month</th>\n",
       "      <th>day</th>\n",
       "      <th>author</th>\n",
       "      <th>title</th>\n",
       "      <th>article</th>\n",
       "      <th>url</th>\n",
       "      <th>section</th>\n",
       "      <th>publication</th>\n",
       "    </tr>\n",
       "  </thead>\n",
       "  <tbody>\n",
       "    <tr>\n",
       "      <th>3</th>\n",
       "      <td>2020</td>\n",
       "      <td>2020-01-17 00:00:00</td>\n",
       "      <td>1.0</td>\n",
       "      <td>17</td>\n",
       "      <td>NaN</td>\n",
       "      <td>U.S. manufacturing output rises unexpectedly</td>\n",
       "      <td>washington reuter we manufacture output rise unexpectedly december drop motor vehicle output outpace increase production durable good food beverage product federal reserve say friday manufacturing...</td>\n",
       "      <td>https://www.reuters.com/article/us-usa-economy-output/us-manufacturing-output-rises-unexpectedly-idUSKBN1ZG1OL</td>\n",
       "      <td>Business News</td>\n",
       "      <td>Reuters</td>\n",
       "    </tr>\n",
       "  </tbody>\n",
       "</table>\n",
       "</div>"
      ],
      "text/plain": [
       "   year                 date  month  day author  \\\n",
       "3  2020  2020-01-17 00:00:00    1.0   17    NaN   \n",
       "\n",
       "                                          title  \\\n",
       "3  U.S. manufacturing output rises unexpectedly   \n",
       "\n",
       "                                                                                                                                                                                                   article  \\\n",
       "3  washington reuter we manufacture output rise unexpectedly december drop motor vehicle output outpace increase production durable good food beverage product federal reserve say friday manufacturing...   \n",
       "\n",
       "                                                                                                              url  \\\n",
       "3  https://www.reuters.com/article/us-usa-economy-output/us-manufacturing-output-rises-unexpectedly-idUSKBN1ZG1OL   \n",
       "\n",
       "         section publication  \n",
       "3  Business News     Reuters  "
      ]
     },
     "metadata": {},
     "output_type": "display_data"
    },
    {
     "ename": "NameError",
     "evalue": "name 'doc_topic_dist' is not defined",
     "output_type": "error",
     "traceback": [
      "\u001b[0;31m---------------------------------------------------------------------------\u001b[0m",
      "\u001b[0;31mNameError\u001b[0m                                 Traceback (most recent call last)",
      "Cell \u001b[0;32mIn[20], line 1\u001b[0m\n\u001b[0;32m----> 1\u001b[0m recommendation(df, doc_topic_dist, \u001b[39m\"\u001b[39;49m\u001b[39mU.S. manufacturing output rises unexpectedly\u001b[39;49m\u001b[39m\"\u001b[39;49m, \u001b[39m2020\u001b[39;49m, k\u001b[39m=\u001b[39;49m\u001b[39m10\u001b[39;49m, plot_dna\u001b[39m=\u001b[39;49m\u001b[39mTrue\u001b[39;49;00m)\n",
      "File \u001b[0;32m/mnt/c/Users/huang/mprog/project/topicmodelling/topic_modelling.ipynb:109\u001b[0m, in \u001b[0;36mrecommendation\u001b[0;34m(df, doc_topic_dist, title, year, k, plot_dna)\u001b[0m\n\u001b[1;32m      1\u001b[0m {\n\u001b[1;32m      2\u001b[0m  \u001b[39m\"\u001b[39m\u001b[39mcells\u001b[39m\u001b[39m\"\u001b[39m: [\n\u001b[1;32m      3\u001b[0m   {\n\u001b[1;32m      4\u001b[0m    \u001b[39m\"\u001b[39m\u001b[39mattachments\u001b[39m\u001b[39m\"\u001b[39m: {},\n\u001b[1;32m      5\u001b[0m    \u001b[39m\"\u001b[39m\u001b[39mcell_type\u001b[39m\u001b[39m\"\u001b[39m: \u001b[39m\"\u001b[39m\u001b[39mmarkdown\u001b[39m\u001b[39m\"\u001b[39m,\n\u001b[1;32m      6\u001b[0m    \u001b[39m\"\u001b[39m\u001b[39mmetadata\u001b[39m\u001b[39m\"\u001b[39m: {},\n\u001b[1;32m      7\u001b[0m    \u001b[39m\"\u001b[39m\u001b[39msource\u001b[39m\u001b[39m\"\u001b[39m: [\n\u001b[1;32m      8\u001b[0m     \u001b[39m\"\u001b[39m\u001b[39m# Picking related articles.\u001b[39m\u001b[39m\"\u001b[39m\n\u001b[1;32m      9\u001b[0m    ]\n\u001b[1;32m     10\u001b[0m   },\n\u001b[1;32m     11\u001b[0m   {\n\u001b[1;32m     12\u001b[0m    \u001b[39m\"\u001b[39m\u001b[39mcell_type\u001b[39m\u001b[39m\"\u001b[39m: \u001b[39m\"\u001b[39m\u001b[39mcode\u001b[39m\u001b[39m\"\u001b[39m,\n\u001b[1;32m     13\u001b[0m    \u001b[39m\"\u001b[39m\u001b[39mexecution_count\u001b[39m\u001b[39m\"\u001b[39m: \u001b[39m13\u001b[39m,\n\u001b[1;32m     14\u001b[0m    \u001b[39m\"\u001b[39m\u001b[39mmetadata\u001b[39m\u001b[39m\"\u001b[39m: {},\n\u001b[1;32m     15\u001b[0m    \u001b[39m\"\u001b[39m\u001b[39moutputs\u001b[39m\u001b[39m\"\u001b[39m: [],\n\u001b[1;32m     16\u001b[0m    \u001b[39m\"\u001b[39m\u001b[39msource\u001b[39m\u001b[39m\"\u001b[39m: [\n\u001b[1;32m     17\u001b[0m     \u001b[39m\"\u001b[39m\u001b[39mimport pandas as pd\u001b[39m\u001b[39m\\n\u001b[39;00m\u001b[39m\"\u001b[39m,\n\u001b[1;32m     18\u001b[0m     \u001b[39m\"\u001b[39m\u001b[39m\\n\u001b[39;00m\u001b[39m\"\u001b[39m,\n\u001b[1;32m     19\u001b[0m     \u001b[39m\"\u001b[39m\u001b[39mfrom scipy.spatial.distance import jensenshannon\u001b[39m\u001b[39m\\n\u001b[39;00m\u001b[39m\"\u001b[39m,\n\u001b[1;32m     20\u001b[0m     \u001b[39m\"\u001b[39m\u001b[39m\\n\u001b[39;00m\u001b[39m\"\u001b[39m,\n\u001b[1;32m     21\u001b[0m     \u001b[39m\"\u001b[39m\u001b[39m\\n\u001b[39;00m\u001b[39m\"\u001b[39m,\n\u001b[1;32m     22\u001b[0m     \u001b[39m\"\u001b[39m\u001b[39mfrom IPython.display import HTML, display\u001b[39m\u001b[39m\\n\u001b[39;00m\u001b[39m\"\u001b[39m,\n\u001b[1;32m     23\u001b[0m     \u001b[39m\"\u001b[39m\u001b[39mfrom ipywidgets import interact, Layout, HBox, VBox, Box\u001b[39m\u001b[39m\\n\u001b[39;00m\u001b[39m\"\u001b[39m,\n\u001b[1;32m     24\u001b[0m     \u001b[39m\"\u001b[39m\u001b[39mfrom IPython.display import clear_output\u001b[39m\u001b[39m\\n\u001b[39;00m\u001b[39m\"\u001b[39m,\n\u001b[1;32m     25\u001b[0m     \u001b[39m\"\u001b[39m\u001b[39mimport sys\u001b[39m\u001b[39m\\n\u001b[39;00m\u001b[39m\"\u001b[39m,\n\u001b[1;32m     26\u001b[0m     \u001b[39m\"\u001b[39m\u001b[39mimport joblib\u001b[39m\u001b[39m\\n\u001b[39;00m\u001b[39m\"\u001b[39m,\n\u001b[1;32m     27\u001b[0m     \u001b[39m\"\u001b[39m\u001b[39mimport matplotlib.pyplot as plt\u001b[39m\u001b[39m\\n\u001b[39;00m\u001b[39m\"\u001b[39m,\n\u001b[1;32m     28\u001b[0m     \u001b[39m\"\u001b[39m\u001b[39mimport ipywidgets as widgets\u001b[39m\u001b[39m\\n\u001b[39;00m\u001b[39m\"\u001b[39m,\n\u001b[1;32m     29\u001b[0m     \u001b[39m\"\u001b[39m\u001b[39m\\n\u001b[39;00m\u001b[39m\"\u001b[39m,\n\u001b[1;32m     30\u001b[0m     \u001b[39m\"\u001b[39m\u001b[39msys.path.append(\u001b[39m\u001b[39m\\\"\u001b[39;00m\u001b[39m../datacleaning\u001b[39m\u001b[39m\\\"\u001b[39;00m\u001b[39m)\u001b[39m\u001b[39m\\n\u001b[39;00m\u001b[39m\"\u001b[39m,\n\u001b[1;32m     31\u001b[0m     \u001b[39m\"\u001b[39m\u001b[39mfrom load import load_years\u001b[39m\u001b[39m\\n\u001b[39;00m\u001b[39m\"\u001b[39m,\n\u001b[1;32m     32\u001b[0m     \u001b[39m\"\u001b[39m\u001b[39m\\n\u001b[39;00m\u001b[39m\"\u001b[39m,\n\u001b[1;32m     33\u001b[0m     \u001b[39m\"\u001b[39m\u001b[39mplt.style.use(\u001b[39m\u001b[39m\\\"\u001b[39;00m\u001b[39mdark_background\u001b[39m\u001b[39m\\\"\u001b[39;00m\u001b[39m)\u001b[39m\u001b[39m\"\u001b[39m\n\u001b[1;32m     34\u001b[0m    ]\n\u001b[1;32m     35\u001b[0m   },\n\u001b[1;32m     36\u001b[0m   {\n\u001b[1;32m     37\u001b[0m    \u001b[39m\"\u001b[39m\u001b[39mcell_type\u001b[39m\u001b[39m\"\u001b[39m: \u001b[39m\"\u001b[39m\u001b[39mcode\u001b[39m\u001b[39m\"\u001b[39m,\n\u001b[1;32m     38\u001b[0m    \u001b[39m\"\u001b[39m\u001b[39mexecution_count\u001b[39m\u001b[39m\"\u001b[39m: \u001b[39m14\u001b[39m,\n\u001b[1;32m     39\u001b[0m    \u001b[39m\"\u001b[39m\u001b[39mmetadata\u001b[39m\u001b[39m\"\u001b[39m: {},\n\u001b[1;32m     40\u001b[0m    \u001b[39m\"\u001b[39m\u001b[39moutputs\u001b[39m\u001b[39m\"\u001b[39m: [],\n\u001b[1;32m     41\u001b[0m    \u001b[39m\"\u001b[39m\u001b[39msource\u001b[39m\u001b[39m\"\u001b[39m: [\n\u001b[1;32m     42\u001b[0m     \u001b[39m\"\u001b[39m\u001b[39myears: list[int] = load_years(\u001b[39m\u001b[39m\\\"\u001b[39;00m\u001b[39m../years.txt\u001b[39m\u001b[39m\\\"\u001b[39;00m\u001b[39m)\u001b[39m\u001b[39m\"\u001b[39m\n\u001b[1;32m     43\u001b[0m    ]\n\u001b[1;32m     44\u001b[0m   },\n\u001b[1;32m     45\u001b[0m   {\n\u001b[1;32m     46\u001b[0m    \u001b[39m\"\u001b[39m\u001b[39mcell_type\u001b[39m\u001b[39m\"\u001b[39m: \u001b[39m\"\u001b[39m\u001b[39mcode\u001b[39m\u001b[39m\"\u001b[39m,\n\u001b[1;32m     47\u001b[0m    \u001b[39m\"\u001b[39m\u001b[39mexecution_count\u001b[39m\u001b[39m\"\u001b[39m: \u001b[39m15\u001b[39m,\n\u001b[1;32m     48\u001b[0m    \u001b[39m\"\u001b[39m\u001b[39mmetadata\u001b[39m\u001b[39m\"\u001b[39m: {},\n\u001b[1;32m     49\u001b[0m    \u001b[39m\"\u001b[39m\u001b[39moutputs\u001b[39m\u001b[39m\"\u001b[39m: [],\n\u001b[1;32m     50\u001b[0m    \u001b[39m\"\u001b[39m\u001b[39msource\u001b[39m\u001b[39m\"\u001b[39m: [\n\u001b[1;32m     51\u001b[0m     \u001b[39m\"\u001b[39m\u001b[39mdef load_all_files(path: str, csv_path: str, years: list[int]):\u001b[39m\u001b[39m\\n\u001b[39;00m\u001b[39m\"\u001b[39m,\n\u001b[1;32m     52\u001b[0m     \u001b[39m\"\u001b[39m\u001b[39m    lda = \u001b[39m\u001b[39m{}\u001b[39;00m\u001b[39m\\n\u001b[39;00m\u001b[39m\"\u001b[39m,\n\u001b[1;32m     53\u001b[0m     \u001b[39m\"\u001b[39m\u001b[39m    data_vectorized = \u001b[39m\u001b[39m{}\u001b[39;00m\u001b[39m\\n\u001b[39;00m\u001b[39m\"\u001b[39m,\n\u001b[1;32m     54\u001b[0m     \u001b[39m\"\u001b[39m\u001b[39m    vectorizer = \u001b[39m\u001b[39m{}\u001b[39;00m\u001b[39m\\n\u001b[39;00m\u001b[39m\"\u001b[39m,\n\u001b[1;32m     55\u001b[0m     \u001b[39m\"\u001b[39m\u001b[39m    df = \u001b[39m\u001b[39m{}\u001b[39;00m\u001b[39m\\n\u001b[39;00m\u001b[39m\"\u001b[39m,\n\u001b[1;32m     56\u001b[0m     \u001b[39m\"\u001b[39m\u001b[39m    doc_topic_dist = \u001b[39m\u001b[39m{}\u001b[39;00m\u001b[39m\\n\u001b[39;00m\u001b[39m\"\u001b[39m,\n\u001b[1;32m     57\u001b[0m     \u001b[39m\"\u001b[39m\u001b[39m\\n\u001b[39;00m\u001b[39m\"\u001b[39m,\n\u001b[1;32m     58\u001b[0m     \u001b[39m\"\u001b[39m\u001b[39m    for year in years:\u001b[39m\u001b[39m\\n\u001b[39;00m\u001b[39m\"\u001b[39m,\n\u001b[1;32m     59\u001b[0m     \u001b[39m\"\u001b[39m\u001b[39m        lda.update(\u001b[39m\u001b[39m{\u001b[39m\u001b[39myear: joblib.load(f\u001b[39m\u001b[39m'\u001b[39m\u001b[39m{path}\u001b[39;00m\u001b[39m/lda_\u001b[39m\u001b[39m{year}\u001b[39;00m\u001b[39m.csv\u001b[39m\u001b[39m'\u001b[39m\u001b[39m)})\u001b[39m\u001b[39m\\n\u001b[39;00m\u001b[39m\"\u001b[39m,\n\u001b[1;32m     60\u001b[0m     \u001b[39m\"\u001b[39m\u001b[39m        data_vectorized.update(\u001b[39m\u001b[39m{\u001b[39m\u001b[39myear: joblib.load(f\u001b[39m\u001b[39m'\u001b[39m\u001b[39m{path}\u001b[39;00m\u001b[39m/data_vectorized_\u001b[39m\u001b[39m{year}\u001b[39;00m\u001b[39m.csv\u001b[39m\u001b[39m'\u001b[39m\u001b[39m)})\u001b[39m\u001b[39m\\n\u001b[39;00m\u001b[39m\"\u001b[39m,\n\u001b[1;32m     61\u001b[0m     \u001b[39m\"\u001b[39m\u001b[39m        vectorizer.update(\u001b[39m\u001b[39m{\u001b[39m\u001b[39myear: joblib.load(f\u001b[39m\u001b[39m'\u001b[39m\u001b[39m{path}\u001b[39;00m\u001b[39m/vectorizer_\u001b[39m\u001b[39m{year}\u001b[39;00m\u001b[39m.csv\u001b[39m\u001b[39m'\u001b[39m\u001b[39m)})\u001b[39m\u001b[39m\\n\u001b[39;00m\u001b[39m\"\u001b[39m,\n\u001b[1;32m     62\u001b[0m     \u001b[39m\"\u001b[39m\u001b[39m        df.update(\u001b[39m\u001b[39m{\u001b[39m\u001b[39myear: pd.read_csv(f\u001b[39m\u001b[39m\\\"\u001b[39;00m\u001b[39m{csv_path}\u001b[39;00m\u001b[39m/\u001b[39m\u001b[39m{year}\u001b[39;00m\u001b[39m_03.csv\u001b[39m\u001b[39m\\\"\u001b[39;00m\u001b[39m)})\u001b[39m\u001b[39m\\n\u001b[39;00m\u001b[39m\"\u001b[39m,\n\u001b[1;32m     63\u001b[0m     \u001b[39m\"\u001b[39m\u001b[39m        doc_topic_dist.update(\u001b[39m\u001b[39m{\u001b[39m\u001b[39myear: joblib.load(f\u001b[39m\u001b[39m\\\"\u001b[39;00m\u001b[39m{path}\u001b[39;00m\u001b[39m/doc_topic_dist_\u001b[39m\u001b[39m{year}\u001b[39;00m\u001b[39m.csv\u001b[39m\u001b[39m\\\"\u001b[39;00m\u001b[39m)})\u001b[39m\u001b[39m\\n\u001b[39;00m\u001b[39m\"\u001b[39m,\n\u001b[1;32m     64\u001b[0m     \u001b[39m\"\u001b[39m\u001b[39m        print(f\u001b[39m\u001b[39m\\\"\u001b[39;00m\u001b[39m{year}\u001b[39;00m\u001b[39m done.\u001b[39m\u001b[39m\\\"\u001b[39;00m\u001b[39m)\u001b[39m\u001b[39m\\n\u001b[39;00m\u001b[39m\"\u001b[39m,\n\u001b[1;32m     65\u001b[0m     \u001b[39m\"\u001b[39m\u001b[39m\\n\u001b[39;00m\u001b[39m\"\u001b[39m,\n\u001b[1;32m     66\u001b[0m     \u001b[39m\"\u001b[39m\u001b[39m    return lda, data_vectorized, vectorizer, df, doc_topic_dist\u001b[39m\u001b[39m\"\u001b[39m\n\u001b[1;32m     67\u001b[0m    ]\n\u001b[1;32m     68\u001b[0m   },\n\u001b[1;32m     69\u001b[0m   {\n\u001b[1;32m     70\u001b[0m    \u001b[39m\"\u001b[39m\u001b[39mcell_type\u001b[39m\u001b[39m\"\u001b[39m: \u001b[39m\"\u001b[39m\u001b[39mcode\u001b[39m\u001b[39m\"\u001b[39m,\n\u001b[1;32m     71\u001b[0m    \u001b[39m\"\u001b[39m\u001b[39mexecution_count\u001b[39m\u001b[39m\"\u001b[39m: \u001b[39m16\u001b[39m,\n\u001b[1;32m     72\u001b[0m    \u001b[39m\"\u001b[39m\u001b[39mmetadata\u001b[39m\u001b[39m\"\u001b[39m: {},\n\u001b[1;32m     73\u001b[0m    \u001b[39m\"\u001b[39m\u001b[39moutputs\u001b[39m\u001b[39m\"\u001b[39m: [\n\u001b[1;32m     74\u001b[0m     {\n\u001b[1;32m     75\u001b[0m      \u001b[39m\"\u001b[39m\u001b[39mname\u001b[39m\u001b[39m\"\u001b[39m: \u001b[39m\"\u001b[39m\u001b[39mstdout\u001b[39m\u001b[39m\"\u001b[39m,\n\u001b[1;32m     76\u001b[0m      \u001b[39m\"\u001b[39m\u001b[39moutput_type\u001b[39m\u001b[39m\"\u001b[39m: \u001b[39m\"\u001b[39m\u001b[39mstream\u001b[39m\u001b[39m\"\u001b[39m,\n\u001b[1;32m     77\u001b[0m      \u001b[39m\"\u001b[39m\u001b[39mtext\u001b[39m\u001b[39m\"\u001b[39m: [\n\u001b[1;32m     78\u001b[0m       \u001b[39m\"\u001b[39m\u001b[39m2016 done.\u001b[39m\u001b[39m\\n\u001b[39;00m\u001b[39m\"\u001b[39m,\n\u001b[1;32m     79\u001b[0m       \u001b[39m\"\u001b[39m\u001b[39m2017 done.\u001b[39m\u001b[39m\\n\u001b[39;00m\u001b[39m\"\u001b[39m,\n\u001b[1;32m     80\u001b[0m       \u001b[39m\"\u001b[39m\u001b[39m2018 done.\u001b[39m\u001b[39m\\n\u001b[39;00m\u001b[39m\"\u001b[39m,\n\u001b[1;32m     81\u001b[0m       \u001b[39m\"\u001b[39m\u001b[39m2019 done.\u001b[39m\u001b[39m\\n\u001b[39;00m\u001b[39m\"\u001b[39m,\n\u001b[1;32m     82\u001b[0m       \u001b[39m\"\u001b[39m\u001b[39m2020 done.\u001b[39m\u001b[39m\\n\u001b[39;00m\u001b[39m\"\u001b[39m\n\u001b[1;32m     83\u001b[0m      ]\n\u001b[1;32m     84\u001b[0m     }\n\u001b[1;32m     85\u001b[0m    ],\n\u001b[1;32m     86\u001b[0m    \u001b[39m\"\u001b[39m\u001b[39msource\u001b[39m\u001b[39m\"\u001b[39m: [\n\u001b[1;32m     87\u001b[0m     \u001b[39m\"\u001b[39m\u001b[39mlda, data_vectorized, vectorizer, df, doc_topic_dist = load_all_files(\u001b[39m\u001b[39m\\\"\u001b[39;00m\u001b[39m./csv/\u001b[39m\u001b[39m\\\"\u001b[39;00m\u001b[39m, \u001b[39m\u001b[39m\\\"\u001b[39;00m\u001b[39m../csv\u001b[39m\u001b[39m\\\"\u001b[39;00m\u001b[39m, years)\u001b[39m\u001b[39m\"\u001b[39m\n\u001b[1;32m     88\u001b[0m    ]\n\u001b[1;32m     89\u001b[0m   },\n\u001b[1;32m     90\u001b[0m   {\n\u001b[1;32m     91\u001b[0m    \u001b[39m\"\u001b[39m\u001b[39mcell_type\u001b[39m\u001b[39m\"\u001b[39m: \u001b[39m\"\u001b[39m\u001b[39mcode\u001b[39m\u001b[39m\"\u001b[39m,\n\u001b[1;32m     92\u001b[0m    \u001b[39m\"\u001b[39m\u001b[39mexecution_count\u001b[39m\u001b[39m\"\u001b[39m: \u001b[39m17\u001b[39m,\n\u001b[1;32m     93\u001b[0m    \u001b[39m\"\u001b[39m\u001b[39mmetadata\u001b[39m\u001b[39m\"\u001b[39m: {},\n\u001b[1;32m     94\u001b[0m    \u001b[39m\"\u001b[39m\u001b[39moutputs\u001b[39m\u001b[39m\"\u001b[39m: [],\n\u001b[1;32m     95\u001b[0m    \u001b[39m\"\u001b[39m\u001b[39msource\u001b[39m\u001b[39m\"\u001b[39m: [\n\u001b[1;32m     96\u001b[0m     \u001b[39m\"\u001b[39m\u001b[39mdef print_top_words(model, vectorizer, n_top_words, n_topics=3):\u001b[39m\u001b[39m\\n\u001b[39;00m\u001b[39m\"\u001b[39m,\n\u001b[1;32m     97\u001b[0m     \u001b[39m\"\u001b[39m\u001b[39m    feature_names = vectorizer.get_feature_names_out()\u001b[39m\u001b[39m\\n\u001b[39;00m\u001b[39m\"\u001b[39m,\n\u001b[1;32m     98\u001b[0m     \u001b[39m\"\u001b[39m\u001b[39m    dist = list(enumerate(model.components_))\u001b[39m\u001b[39m\\n\u001b[39;00m\u001b[39m\"\u001b[39m,\n\u001b[1;32m     99\u001b[0m     \u001b[39m\"\u001b[39m\u001b[39m    for topic_id, topic in dist[:n_topics]:\u001b[39m\u001b[39m\\n\u001b[39;00m\u001b[39m\"\u001b[39m,\n\u001b[1;32m    100\u001b[0m     \u001b[39m\"\u001b[39m\u001b[39m        message = f\u001b[39m\u001b[39m\\\"\u001b[39;00m\u001b[39mTopic \u001b[39m\u001b[39m{topic_id}\u001b[39;00m\u001b[39m: \u001b[39m\u001b[39m\\\"\u001b[39;00m\u001b[39m\\n\u001b[39;00m\u001b[39m\"\u001b[39m,\n\u001b[1;32m    101\u001b[0m     \u001b[39m\"\u001b[39m\u001b[39m        message += \u001b[39m\u001b[39m\\\"\u001b[39;00m\u001b[39m \u001b[39m\u001b[39m\\\"\u001b[39;00m\u001b[39m.join([feature_names[i] for i in topic.argsort()[:-n_top_words - 1:-1]])\u001b[39m\u001b[39m\\n\u001b[39;00m\u001b[39m\"\u001b[39m,\n\u001b[1;32m    102\u001b[0m     \u001b[39m\"\u001b[39m\u001b[39m        print(message)\u001b[39m\u001b[39m\\n\u001b[39;00m\u001b[39m\"\u001b[39m,\n\u001b[1;32m    103\u001b[0m     \u001b[39m\"\u001b[39m\u001b[39m    print()\u001b[39m\u001b[39m\"\u001b[39m\n\u001b[1;32m    104\u001b[0m    ]\n\u001b[1;32m    105\u001b[0m   },\n\u001b[1;32m    106\u001b[0m   {\n\u001b[1;32m    107\u001b[0m    \u001b[39m\"\u001b[39m\u001b[39mcell_type\u001b[39m\u001b[39m\"\u001b[39m: \u001b[39m\"\u001b[39m\u001b[39mcode\u001b[39m\u001b[39m\"\u001b[39m,\n\u001b[1;32m    108\u001b[0m    \u001b[39m\"\u001b[39m\u001b[39mexecution_count\u001b[39m\u001b[39m\"\u001b[39m: \u001b[39m18\u001b[39m,\n\u001b[0;32m--> 109\u001b[0m    \u001b[39m\"\u001b[39m\u001b[39mmetadata\u001b[39m\u001b[39m\"\u001b[39m: {},\n\u001b[1;32m    110\u001b[0m    \u001b[39m\"\u001b[39m\u001b[39moutputs\u001b[39m\u001b[39m\"\u001b[39m: [\n\u001b[1;32m    111\u001b[0m     {\n\u001b[1;32m    112\u001b[0m      \u001b[39m\"\u001b[39m\u001b[39mname\u001b[39m\u001b[39m\"\u001b[39m: \u001b[39m\"\u001b[39m\u001b[39mstdout\u001b[39m\u001b[39m\"\u001b[39m,\n\u001b[1;32m    113\u001b[0m      \u001b[39m\"\u001b[39m\u001b[39moutput_type\u001b[39m\u001b[39m\"\u001b[39m: \u001b[39m\"\u001b[39m\u001b[39mstream\u001b[39m\u001b[39m\"\u001b[39m,\n\u001b[1;32m    114\u001b[0m      \u001b[39m\"\u001b[39m\u001b[39mtext\u001b[39m\u001b[39m\"\u001b[39m: [\n\u001b[1;32m    115\u001b[0m       \u001b[39m\"\u001b[39m\u001b[39mTopic 0: use like make new not technology one also design camera get work app look system vr you device well car google even video build way\u001b[39m\u001b[39m\\n\u001b[39;00m\u001b[39m\"\u001b[39m,\n\u001b[1;32m    116\u001b[0m       \u001b[39m\"\u001b[39m\u001b[39mTopic 1: say police court case officer charge judge report law arrest lawyer crime justice attorney accord lawsuit tell prosecutor claim file investigation statement prison trial department\u001b[39m\u001b[39m\\n\u001b[39;00m\u001b[39m\"\u001b[39m,\n\u001b[1;32m    117\u001b[0m       \u001b[39m\"\u001b[39m\u001b[39mTopic 2: song music album band record space release year new track time not first one video last show make singer take fight like go fan tour\u001b[39m\u001b[39m\\n\u001b[39;00m\u001b[39m\"\u001b[39m,\n\u001b[1;32m    118\u001b[0m       \u001b[39m\"\u001b[39m\u001b[39mTopic 3: health say drug study patient use medical people dr care research doctor find one year also not disease researcher cancer treatment new may percent would\u001b[39m\u001b[39m\\n\u001b[39;00m\u001b[39m\"\u001b[39m,\n\u001b[1;32m    119\u001b[0m       \u001b[39m\"\u001b[39m\u001b[39mTopic 4: zika option next section indicate icon previous menu sometimes virus chevron navigation expandable case outbreak mosquito say health spread pregnant disease woman infection microcephaly infect\u001b[39m\u001b[39m\\n\u001b[39;00m\u001b[39m\"\u001b[39m,\n\u001b[1;32m    120\u001b[0m       \u001b[39m\"\u001b[39m\u001b[39m\\n\u001b[39;00m\u001b[39m\"\u001b[39m,\n\u001b[1;32m    121\u001b[0m       \u001b[39m\"\u001b[39m\u001b[39mTopic 0: like not make get one go do good music sound time say come know play well you thing he new back re la way song\u001b[39m\u001b[39m\\n\u001b[39;00m\u001b[39m\"\u001b[39m,\n\u001b[1;32m    122\u001b[0m       \u001b[39m\"\u001b[39m\u001b[39mTopic 1: percent price stock say high oil rise market north we report fall year korea index low analyst week gain month barrel since crude last us\u001b[39m\u001b[39m\\n\u001b[39;00m\u001b[39m\"\u001b[39m,\n\u001b[1;32m    123\u001b[0m       \u001b[39m\"\u001b[39m\u001b[39mTopic 2: 2017 music song album band singer release year video record fan new twitter perform artist swift rock pop anthem tour performance one concert post take\u001b[39m\u001b[39m\\n\u001b[39;00m\u001b[39m\"\u001b[39m,\n\u001b[1;32m    124\u001b[0m       \u001b[39m\"\u001b[39m\u001b[39mTopic 3: court judge order case law ban say justice legal supreme immigration federal rule lawyer right decision appeal state would executive country us immigrant states lawsuit\u001b[39m\u001b[39m\\n\u001b[39;00m\u001b[39m\"\u001b[39m,\n\u001b[1;32m    125\u001b[0m       \u001b[39m\"\u001b[39m\u001b[39mTopic 4: trump say president we north senate nuclear would state administration korea united military secretary house states senator defense us republican trumps washington sen leader official\u001b[39m\u001b[39m\\n\u001b[39;00m\u001b[39m\"\u001b[39m,\n\u001b[1;32m    126\u001b[0m       \u001b[39m\"\u001b[39m\u001b[39m\\n\u001b[39;00m\u001b[39m\"\u001b[39m,\n\u001b[1;32m    127\u001b[0m       \u001b[39m\"\u001b[39m\u001b[39mTopic 0: woman man people one not sex many say study find make sexual work change black female even also university way white often young experience gender\u001b[39m\u001b[39m\\n\u001b[39;00m\u001b[39m\"\u001b[39m,\n\u001b[1;32m    128\u001b[0m       \u001b[39m\"\u001b[39m\u001b[39mTopic 1: not do get go like think people say re know thing make want one you really that would time well ve way see good they\u001b[39m\u001b[39m\\n\u001b[39;00m\u001b[39m\"\u001b[39m,\n\u001b[1;32m    129\u001b[0m       \u001b[39m\"\u001b[39m\u001b[39mTopic 2: 2018 get star year not good film show award like time one movie make go fan new video actor song music say look hollywood first\u001b[39m\u001b[39m\\n\u001b[39;00m\u001b[39m\"\u001b[39m,\n\u001b[1;32m    130\u001b[0m       \u001b[39m\"\u001b[39m\u001b[39mTopic 3: game player season team play first point two score lead run second league hit win three field make one last coach third four year leave\u001b[39m\u001b[39m\\n\u001b[39;00m\u001b[39m\"\u001b[39m,\n\u001b[1;32m    131\u001b[0m       \u001b[39m\"\u001b[39m\u001b[39mTopic 4: trump hill north say president korea we washington kim dc site news tel publishing suite corp discussion 900 communications subsidiary fax nw 1625 nuclear 20006\u001b[39m\u001b[39m\\n\u001b[39;00m\u001b[39m\"\u001b[39m,\n\u001b[1;32m    132\u001b[0m       \u001b[39m\"\u001b[39m\u001b[39m\\n\u001b[39;00m\u001b[39m\"\u001b[39m,\n\u001b[1;32m    133\u001b[0m       \u001b[39m\"\u001b[39m\u001b[39mTopic 0: year growth economy say rate percent month economic increase last job market we report cut quarter slow trade consumer show economist business low since fall\u001b[39m\u001b[39m\\n\u001b[39;00m\u001b[39m\"\u001b[39m,\n\u001b[1;32m    134\u001b[0m       \u001b[39m\"\u001b[39m\u001b[39mTopic 1: health say drug care patient medical study people use disease doctor dr hospital treatment year cancer report risk also case new find cause product researcher\u001b[39m\u001b[39m\\n\u001b[39;00m\u001b[39m\"\u001b[39m,\n\u001b[1;32m    135\u001b[0m       \u001b[39m\"\u001b[39m\u001b[39mTopic 2: woman film show black story say people book man year movie first also one write award actor gay series good make role play not star\u001b[39m\u001b[39m\\n\u001b[39;00m\u001b[39m\"\u001b[39m,\n\u001b[1;32m    136\u001b[0m       \u001b[39m\"\u001b[39m\u001b[39mTopic 3: say hotel dog one video sex find animal woman room restaurant new make photo insider post tell epstein also take man girl like see sexual\u001b[39m\u001b[39m\\n\u001b[39;00m\u001b[39m\"\u001b[39m,\n\u001b[1;32m    137\u001b[0m       \u001b[39m\"\u001b[39m\u001b[39mTopic 4: card movie credit disney film get star make one pay series marvel netflix also money year fee war new like earn not offer show time\u001b[39m\u001b[39m\\n\u001b[39;00m\u001b[39m\"\u001b[39m,\n\u001b[1;32m    138\u001b[0m       \u001b[39m\"\u001b[39m\u001b[39m\\n\u001b[39;00m\u001b[39m\"\u001b[39m,\n\u001b[1;32m    139\u001b[0m       \u001b[39m\"\u001b[39m\u001b[39mTopic 0: de la que en el los un del una se las para con por al es su más lo como le ha sus estado pero\u001b[39m\u001b[39m\\n\u001b[39;00m\u001b[39m\"\u001b[39m,\n\u001b[1;32m    140\u001b[0m       \u001b[39m\"\u001b[39m\u001b[39mTopic 1: iran we say iranian united states kill military iraq attack us strike saudi soleimani trump american force irans war missile president middle east oil report\u001b[39m\u001b[39m\\n\u001b[39;00m\u001b[39m\"\u001b[39m,\n\u001b[1;32m    141\u001b[0m       \u001b[39m\"\u001b[39m\u001b[39mTopic 2: datum company say business use technology customer access service network firm information tech consumer data digital cloud huawei privacy help work microsoft also could product\u001b[39m\u001b[39m\\n\u001b[39;00m\u001b[39m\"\u001b[39m,\n\u001b[1;32m    142\u001b[0m       \u001b[39m\"\u001b[39m\u001b[39mTopic 3: say event tokyo japan world postpone olympic space game cancel team march schedule sport would japanese international year ghosn hong race taiwan kong hold launch\u001b[39m\u001b[39m\\n\u001b[39;00m\u001b[39m\"\u001b[39m,\n\u001b[1;32m    143\u001b[0m       \u001b[39m\"\u001b[39m\u001b[39mTopic 4: company say business year investor market new make million one fund investment startup ceo also get like big well not time firm go work last\u001b[39m\u001b[39m\\n\u001b[39;00m\u001b[39m\"\u001b[39m,\n\u001b[1;32m    144\u001b[0m       \u001b[39m\"\u001b[39m\u001b[39m\\n\u001b[39;00m\u001b[39m\"\u001b[39m\n\u001b[1;32m    145\u001b[0m      ]\n\u001b[1;32m    146\u001b[0m     }\n\u001b[1;32m    147\u001b[0m    ],\n\u001b[1;32m    148\u001b[0m    \u001b[39m\"\u001b[39m\u001b[39msource\u001b[39m\u001b[39m\"\u001b[39m: [\n\u001b[1;32m    149\u001b[0m     \u001b[39m\"\u001b[39m\u001b[39mfor year in years:\u001b[39m\u001b[39m\\n\u001b[39;00m\u001b[39m\"\u001b[39m,\n\u001b[1;32m    150\u001b[0m     \u001b[39m\"\u001b[39m\u001b[39m    print_top_words(lda[year], vectorizer[year], n_top_words=25, n_topics=5)\u001b[39m\u001b[39m\"\u001b[39m\n\u001b[1;32m    151\u001b[0m    ]\n\u001b[1;32m    152\u001b[0m   },\n\u001b[1;32m    153\u001b[0m   {\n\u001b[1;32m    154\u001b[0m    \u001b[39m\"\u001b[39m\u001b[39mcell_type\u001b[39m\u001b[39m\"\u001b[39m: \u001b[39m\"\u001b[39m\u001b[39mcode\u001b[39m\u001b[39m\"\u001b[39m,\n\u001b[1;32m    155\u001b[0m    \u001b[39m\"\u001b[39m\u001b[39mexecution_count\u001b[39m\u001b[39m\"\u001b[39m: \u001b[39m19\u001b[39m,\n\u001b[1;32m    156\u001b[0m    \u001b[39m\"\u001b[39m\u001b[39mmetadata\u001b[39m\u001b[39m\"\u001b[39m: {},\n\u001b[1;32m    157\u001b[0m    \u001b[39m\"\u001b[39m\u001b[39moutputs\u001b[39m\u001b[39m\"\u001b[39m: [],\n\u001b[1;32m    158\u001b[0m    \u001b[39m\"\u001b[39m\u001b[39msource\u001b[39m\u001b[39m\"\u001b[39m: [\n\u001b[1;32m    159\u001b[0m     \u001b[39m\"\u001b[39m\u001b[39mdef get_k_nearest_docs(doc_dist, k=5, get_dist=False):\u001b[39m\u001b[39m\\n\u001b[39;00m\u001b[39m\"\u001b[39m,\n\u001b[1;32m    160\u001b[0m     \u001b[39m\"\u001b[39m\u001b[39m    \u001b[39m\u001b[39m'\u001b[39m\u001b[39m'\u001b[39m\u001b[39m'\u001b[39m\u001b[39m\\n\u001b[39;00m\u001b[39m\"\u001b[39m,\n\u001b[1;32m    161\u001b[0m     \u001b[39m\"\u001b[39m\u001b[39m    doc_dist: topic distribution (sums to 1) of one article\u001b[39m\u001b[39m\\n\u001b[39;00m\u001b[39m\"\u001b[39m,\n\u001b[1;32m    162\u001b[0m     \u001b[39m\"\u001b[39m\u001b[39m    \u001b[39m\u001b[39m\\n\u001b[39;00m\u001b[39m\"\u001b[39m,\n\u001b[1;32m    163\u001b[0m     \u001b[39m\"\u001b[39m\u001b[39m    Returns the index of the k nearest articles (as by Jensen–Shannon divergence in topic space). \u001b[39m\u001b[39m\\n\u001b[39;00m\u001b[39m\"\u001b[39m,\n\u001b[1;32m    164\u001b[0m     \u001b[39m\"\u001b[39m\u001b[39m    \u001b[39m\u001b[39m'\u001b[39m\u001b[39m'\u001b[39m\u001b[39m'\u001b[39m\u001b[39m\\n\u001b[39;00m\u001b[39m\"\u001b[39m,\n\u001b[1;32m    165\u001b[0m     \u001b[39m\"\u001b[39m\u001b[39m    temp = doc_topic_dist[year]\u001b[39m\u001b[39m\\n\u001b[39;00m\u001b[39m\"\u001b[39m,\n\u001b[1;32m    166\u001b[0m     \u001b[39m\"\u001b[39m\u001b[39m         \u001b[39m\u001b[39m\\n\u001b[39;00m\u001b[39m\"\u001b[39m,\n\u001b[1;32m    167\u001b[0m     \u001b[39m\"\u001b[39m\u001b[39m    distances = temp.apply(lambda x: jensenshannon(x, doc_dist), axis=1)\u001b[39m\u001b[39m\\n\u001b[39;00m\u001b[39m\"\u001b[39m,\n\u001b[1;32m    168\u001b[0m     \u001b[39m\"\u001b[39m\u001b[39m    k_nearest = distances[distances != 0].nsmallest(n=k).index\u001b[39m\u001b[39m\\n\u001b[39;00m\u001b[39m\"\u001b[39m,\n\u001b[1;32m    169\u001b[0m     \u001b[39m\"\u001b[39m\u001b[39m    \u001b[39m\u001b[39m\\n\u001b[39;00m\u001b[39m\"\u001b[39m,\n\u001b[1;32m    170\u001b[0m     \u001b[39m\"\u001b[39m\u001b[39m    if get_dist:\u001b[39m\u001b[39m\\n\u001b[39;00m\u001b[39m\"\u001b[39m,\n\u001b[1;32m    171\u001b[0m     \u001b[39m\"\u001b[39m\u001b[39m        k_distances = distances[distances != 0].nsmallest(n=k)\u001b[39m\u001b[39m\\n\u001b[39;00m\u001b[39m\"\u001b[39m,\n\u001b[1;32m    172\u001b[0m     \u001b[39m\"\u001b[39m\u001b[39m        return k_nearest, k_distances\u001b[39m\u001b[39m\\n\u001b[39;00m\u001b[39m\"\u001b[39m,\n\u001b[1;32m    173\u001b[0m     \u001b[39m\"\u001b[39m\u001b[39m    else:\u001b[39m\u001b[39m\\n\u001b[39;00m\u001b[39m\"\u001b[39m,\n\u001b[1;32m    174\u001b[0m     \u001b[39m\"\u001b[39m\u001b[39m        return k_nearest\u001b[39m\u001b[39m\"\u001b[39m\n\u001b[1;32m    175\u001b[0m    ]\n\u001b[1;32m    176\u001b[0m   },\n\u001b[1;32m    177\u001b[0m   {\n\u001b[1;32m    178\u001b[0m    \u001b[39m\"\u001b[39m\u001b[39mcell_type\u001b[39m\u001b[39m\"\u001b[39m: \u001b[39m\"\u001b[39m\u001b[39mcode\u001b[39m\u001b[39m\"\u001b[39m,\n\u001b[1;32m    179\u001b[0m    \u001b[39m\"\u001b[39m\u001b[39mexecution_count\u001b[39m\u001b[39m\"\u001b[39m: \u001b[39m20\u001b[39m,\n\u001b[1;32m    180\u001b[0m    \u001b[39m\"\u001b[39m\u001b[39mmetadata\u001b[39m\u001b[39m\"\u001b[39m: {},\n\u001b[1;32m    181\u001b[0m    \u001b[39m\"\u001b[39m\u001b[39moutputs\u001b[39m\u001b[39m\"\u001b[39m: [],\n\u001b[1;32m    182\u001b[0m    \u001b[39m\"\u001b[39m\u001b[39msource\u001b[39m\u001b[39m\"\u001b[39m: [\n\u001b[1;32m    183\u001b[0m     \u001b[39m\"\u001b[39m\u001b[39mdef compare_dnas(title, year, recommendation_title, width=20):\u001b[39m\u001b[39m\\n\u001b[39;00m\u001b[39m\"\u001b[39m,\n\u001b[1;32m    184\u001b[0m     \u001b[39m\"\u001b[39m\u001b[39m    t = df[year][df[year][\u001b[39m\u001b[39m'\u001b[39m\u001b[39mtitle\u001b[39m\u001b[39m'\u001b[39m\u001b[39m] == recommendation_title].title.values[0]\u001b[39m\u001b[39m\\n\u001b[39;00m\u001b[39m\"\u001b[39m,\n\u001b[1;32m    185\u001b[0m     \u001b[39m\"\u001b[39m\u001b[39m    temp = doc_topic_dist[year][df[year][\u001b[39m\u001b[39m'\u001b[39m\u001b[39mtitle\u001b[39m\u001b[39m'\u001b[39m\u001b[39m] == title]\u001b[39m\u001b[39m\\n\u001b[39;00m\u001b[39m\"\u001b[39m,\n\u001b[1;32m    186\u001b[0m     \u001b[39m\"\u001b[39m\u001b[39m    ymax = temp.max(axis=1).values[0]*1.25\u001b[39m\u001b[39m\\n\u001b[39;00m\u001b[39m\"\u001b[39m,\n\u001b[1;32m    187\u001b[0m     \u001b[39m\"\u001b[39m\u001b[39m    temp = pd.concat([temp, doc_topic_dist[year][df[year][\u001b[39m\u001b[39m'\u001b[39m\u001b[39mtitle\u001b[39m\u001b[39m'\u001b[39m\u001b[39m] == recommendation_title]])\u001b[39m\u001b[39m\\n\u001b[39;00m\u001b[39m\"\u001b[39m,\n\u001b[1;32m    188\u001b[0m     \u001b[39m\"\u001b[39m\u001b[39m    temp.T.plot(kind=\u001b[39m\u001b[39m'\u001b[39m\u001b[39mbar\u001b[39m\u001b[39m'\u001b[39m\u001b[39m, title=t, figsize=(width, 4), ylim= [0, ymax])\u001b[39m\u001b[39m\\n\u001b[39;00m\u001b[39m\"\u001b[39m,\n\u001b[1;32m    189\u001b[0m     \u001b[39m\"\u001b[39m\u001b[39m    plt.xlabel(\u001b[39m\u001b[39m'\u001b[39m\u001b[39mTopic\u001b[39m\u001b[39m'\u001b[39m\u001b[39m)\u001b[39m\u001b[39m\\n\u001b[39;00m\u001b[39m\"\u001b[39m,\n\u001b[1;32m    190\u001b[0m     \u001b[39m\"\u001b[39m\u001b[39m    plt.legend([\u001b[39m\u001b[39m'\u001b[39m\u001b[39mSelection\u001b[39m\u001b[39m'\u001b[39m\u001b[39m, \u001b[39m\u001b[39m'\u001b[39m\u001b[39mRecommendation\u001b[39m\u001b[39m'\u001b[39m\u001b[39m])\u001b[39m\u001b[39m\\n\u001b[39;00m\u001b[39m\"\u001b[39m,\n\u001b[1;32m    191\u001b[0m     \u001b[39m\"\u001b[39m\u001b[39m\\n\u001b[39;00m\u001b[39m\"\u001b[39m,\n\u001b[1;32m    192\u001b[0m     \u001b[39m\"\u001b[39m\u001b[39mdef compare_tabs(title, year, recommendation_ids):\u001b[39m\u001b[39m\\n\u001b[39;00m\u001b[39m\"\u001b[39m,\n\u001b[1;32m    193\u001b[0m     \u001b[39m\"\u001b[39m\u001b[39m    k = len(recommendation_ids)\u001b[39m\u001b[39m\\n\u001b[39;00m\u001b[39m\"\u001b[39m,\n\u001b[1;32m    194\u001b[0m     \u001b[39m\"\u001b[39m\u001b[39m    outs = [widgets.Output() for i in range(k)]\u001b[39m\u001b[39m\\n\u001b[39;00m\u001b[39m\"\u001b[39m,\n\u001b[1;32m    195\u001b[0m     \u001b[39m\"\u001b[39m\u001b[39m\\n\u001b[39;00m\u001b[39m\"\u001b[39m,\n\u001b[1;32m    196\u001b[0m     \u001b[39m\"\u001b[39m\u001b[39m    tab = widgets.Tab(children = outs)\u001b[39m\u001b[39m\\n\u001b[39;00m\u001b[39m\"\u001b[39m,\n\u001b[1;32m    197\u001b[0m     \u001b[39m\"\u001b[39m\u001b[39m    tab_titles = [\u001b[39m\u001b[39m'\u001b[39m\u001b[39mPaper \u001b[39m\u001b[39m'\u001b[39m\u001b[39m + str(i+1) for i in range(k)]\u001b[39m\u001b[39m\\n\u001b[39;00m\u001b[39m\"\u001b[39m,\n\u001b[1;32m    198\u001b[0m     \u001b[39m\"\u001b[39m\u001b[39m    for i, t in enumerate(tab_titles):\u001b[39m\u001b[39m\\n\u001b[39;00m\u001b[39m\"\u001b[39m,\n\u001b[1;32m    199\u001b[0m     \u001b[39m\"\u001b[39m\u001b[39m        tab.set_title(i, t)\u001b[39m\u001b[39m\\n\u001b[39;00m\u001b[39m\"\u001b[39m,\n\u001b[1;32m    200\u001b[0m     \u001b[39m\"\u001b[39m\u001b[39m    display(tab)\u001b[39m\u001b[39m\\n\u001b[39;00m\u001b[39m\"\u001b[39m,\n\u001b[1;32m    201\u001b[0m     \u001b[39m\"\u001b[39m\u001b[39m\\n\u001b[39;00m\u001b[39m\"\u001b[39m,\n\u001b[1;32m    202\u001b[0m     \u001b[39m\"\u001b[39m\u001b[39m    for i, t in enumerate(tab_titles):\u001b[39m\u001b[39m\\n\u001b[39;00m\u001b[39m\"\u001b[39m,\n\u001b[1;32m    203\u001b[0m     \u001b[39m\"\u001b[39m\u001b[39m        with outs[i]:\u001b[39m\u001b[39m\\n\u001b[39;00m\u001b[39m\"\u001b[39m,\n\u001b[1;32m    204\u001b[0m     \u001b[39m\"\u001b[39m\u001b[39m            ax = compare_dnas(title, year, recommendation_ids[i])\u001b[39m\u001b[39m\\n\u001b[39;00m\u001b[39m\"\u001b[39m,\n\u001b[1;32m    205\u001b[0m     \u001b[39m\"\u001b[39m\u001b[39m            plt.show(ax)\u001b[39m\u001b[39m\\n\u001b[39;00m\u001b[39m\"\u001b[39m,\n\u001b[1;32m    206\u001b[0m     \u001b[39m\"\u001b[39m\u001b[39m\\n\u001b[39;00m\u001b[39m\"\u001b[39m\n\u001b[1;32m    207\u001b[0m    ]\n\u001b[1;32m    208\u001b[0m   },\n\u001b[1;32m    209\u001b[0m   {\n\u001b[1;32m    210\u001b[0m    \u001b[39m\"\u001b[39m\u001b[39mcell_type\u001b[39m\u001b[39m\"\u001b[39m: \u001b[39m\"\u001b[39m\u001b[39mcode\u001b[39m\u001b[39m\"\u001b[39m,\n\u001b[1;32m    211\u001b[0m    \u001b[39m\"\u001b[39m\u001b[39mexecution_count\u001b[39m\u001b[39m\"\u001b[39m: \u001b[39m23\u001b[39m,\n\u001b[1;32m    212\u001b[0m    \u001b[39m\"\u001b[39m\u001b[39mmetadata\u001b[39m\u001b[39m\"\u001b[39m: {},\n\u001b[1;32m    213\u001b[0m    \u001b[39m\"\u001b[39m\u001b[39moutputs\u001b[39m\u001b[39m\"\u001b[39m: [],\n\u001b[1;32m    214\u001b[0m    \u001b[39m\"\u001b[39m\u001b[39msource\u001b[39m\u001b[39m\"\u001b[39m: [\n\u001b[1;32m    215\u001b[0m     \u001b[39m\"\u001b[39m\u001b[39mdef recommendation(df, doc_topic_dist, title: str, year: int, k: int=5, plot_dna=False):\u001b[39m\u001b[39m\\n\u001b[39;00m\u001b[39m\"\u001b[39m,\n\u001b[1;32m    216\u001b[0m     \u001b[39m\"\u001b[39m\u001b[39m    \u001b[39m\u001b[39m'\u001b[39m\u001b[39m'\u001b[39m\u001b[39m'\u001b[39m\u001b[39m\\n\u001b[39;00m\u001b[39m\"\u001b[39m,\n\u001b[1;32m    217\u001b[0m     \u001b[39m\"\u001b[39m\u001b[39m    Returns the title of the k papers that are closest (topic-wise) to the paper given through title.\u001b[39m\u001b[39m\\n\u001b[39;00m\u001b[39m\"\u001b[39m,\n\u001b[1;32m    218\u001b[0m     \u001b[39m\"\u001b[39m\u001b[39m    \u001b[39m\u001b[39m'\u001b[39m\u001b[39m'\u001b[39m\u001b[39m'\u001b[39m\u001b[39m\\n\u001b[39;00m\u001b[39m\"\u001b[39m,\n\u001b[1;32m    219\u001b[0m     \u001b[39m\"\u001b[39m\u001b[39m    display(df[year][df[year][\u001b[39m\u001b[39m'\u001b[39m\u001b[39mtitle\u001b[39m\u001b[39m'\u001b[39m\u001b[39m] == title])\u001b[39m\u001b[39m\\n\u001b[39;00m\u001b[39m\"\u001b[39m,\n\u001b[1;32m    220\u001b[0m     \u001b[39m\"\u001b[39m\u001b[39m\\n\u001b[39;00m\u001b[39m\"\u001b[39m,\n\u001b[1;32m    221\u001b[0m     \u001b[39m\"\u001b[39m\u001b[39m    recommended, dist = get_k_nearest_docs(doc_topic_dist[year][df[year][\u001b[39m\u001b[39m'\u001b[39m\u001b[39mtitle\u001b[39m\u001b[39m'\u001b[39m\u001b[39m] == title].iloc[0], k, get_dist=True)\u001b[39m\u001b[39m\\n\u001b[39;00m\u001b[39m\"\u001b[39m,\n\u001b[1;32m    222\u001b[0m     \u001b[39m\"\u001b[39m\u001b[39m    print(\u001b[39m\u001b[39m\\\"\u001b[39;00m\u001b[39mnot crashing at line 7\u001b[39m\u001b[39m\\\"\u001b[39;00m\u001b[39m)\u001b[39m\u001b[39m\\n\u001b[39;00m\u001b[39m\"\u001b[39m,\n\u001b[1;32m    223\u001b[0m     \u001b[39m\"\u001b[39m\u001b[39m    recommended = df[year].iloc[recommended].copy()\u001b[39m\u001b[39m\\n\u001b[39;00m\u001b[39m\"\u001b[39m,\n\u001b[1;32m    224\u001b[0m     \u001b[39m\"\u001b[39m\u001b[39m    recommended[\u001b[39m\u001b[39m'\u001b[39m\u001b[39msimilarity\u001b[39m\u001b[39m'\u001b[39m\u001b[39m] = 1 - dist \u001b[39m\u001b[39m\\n\u001b[39;00m\u001b[39m\"\u001b[39m,\n\u001b[1;32m    225\u001b[0m     \u001b[39m\"\u001b[39m\u001b[39m    \u001b[39m\u001b[39m\\n\u001b[39;00m\u001b[39m\"\u001b[39m,\n\u001b[1;32m    226\u001b[0m     \u001b[39m\"\u001b[39m\u001b[39m    h = \u001b[39m\u001b[39m'\u001b[39m\u001b[39m<br/>\u001b[39m\u001b[39m'\u001b[39m\u001b[39m.join([\u001b[39m\u001b[39m'\u001b[39m\u001b[39m<a href=\u001b[39m\u001b[39m\\\"\u001b[39;00m\u001b[39m'\u001b[39m\u001b[39m + l + \u001b[39m\u001b[39m'\u001b[39m\u001b[39m\\\"\u001b[39;00m\u001b[39m target=\u001b[39m\u001b[39m\\\"\u001b[39;00m\u001b[39m_blank\u001b[39m\u001b[39m\\\"\u001b[39;00m\u001b[39m>\u001b[39m\u001b[39m'\u001b[39m\u001b[39m+ n + \u001b[39m\u001b[39m'\u001b[39m\u001b[39m</a>\u001b[39m\u001b[39m'\u001b[39m\u001b[39m +\u001b[39m\u001b[39m'\u001b[39m\u001b[39m (Similarity: \u001b[39m\u001b[39m'\u001b[39m\u001b[39m + \u001b[39m\u001b[39m\\\"\u001b[39;00m\u001b[39m{:.2f}\u001b[39;00m\u001b[39m\\\"\u001b[39;00m\u001b[39m.format(s) + \u001b[39m\u001b[39m'\u001b[39m\u001b[39m)\u001b[39m\u001b[39m'\u001b[39m\u001b[39m for l, n, s in recommended[[\u001b[39m\u001b[39m'\u001b[39m\u001b[39murl\u001b[39m\u001b[39m'\u001b[39m\u001b[39m,\u001b[39m\u001b[39m'\u001b[39m\u001b[39mtitle\u001b[39m\u001b[39m'\u001b[39m\u001b[39m, \u001b[39m\u001b[39m'\u001b[39m\u001b[39msimilarity\u001b[39m\u001b[39m'\u001b[39m\u001b[39m]].values])\u001b[39m\u001b[39m\\n\u001b[39;00m\u001b[39m\"\u001b[39m,\n\u001b[1;32m    227\u001b[0m     \u001b[39m\"\u001b[39m\u001b[39m    display(HTML(h))\u001b[39m\u001b[39m\\n\u001b[39;00m\u001b[39m\"\u001b[39m,\n\u001b[1;32m    228\u001b[0m     \u001b[39m\"\u001b[39m\u001b[39m    \u001b[39m\u001b[39m\\n\u001b[39;00m\u001b[39m\"\u001b[39m,\n\u001b[1;32m    229\u001b[0m     \u001b[39m\"\u001b[39m\u001b[39m    if plot_dna:\u001b[39m\u001b[39m\\n\u001b[39;00m\u001b[39m\"\u001b[39m,\n\u001b[1;32m    230\u001b[0m     \u001b[39m\"\u001b[39m\u001b[39m        compare_tabs(title, year, recommended[\u001b[39m\u001b[39m'\u001b[39m\u001b[39mtitle\u001b[39m\u001b[39m'\u001b[39m\u001b[39m].values)\u001b[39m\u001b[39m\"\u001b[39m\n\u001b[1;32m    231\u001b[0m    ]\n\u001b[1;32m    232\u001b[0m   },\n\u001b[1;32m    233\u001b[0m   {\n\u001b[1;32m    234\u001b[0m    \u001b[39m\"\u001b[39m\u001b[39mcell_type\u001b[39m\u001b[39m\"\u001b[39m: \u001b[39m\"\u001b[39m\u001b[39mcode\u001b[39m\u001b[39m\"\u001b[39m,\n\u001b[1;32m    235\u001b[0m    \u001b[39m\"\u001b[39m\u001b[39mexecution_count\u001b[39m\u001b[39m\"\u001b[39m: \u001b[39m24\u001b[39m,\n\u001b[1;32m    236\u001b[0m    \u001b[39m\"\u001b[39m\u001b[39mmetadata\u001b[39m\u001b[39m\"\u001b[39m: {},\n\u001b[1;32m    237\u001b[0m    \u001b[39m\"\u001b[39m\u001b[39moutputs\u001b[39m\u001b[39m\"\u001b[39m: [\n\u001b[1;32m    238\u001b[0m     {\n\u001b[1;32m    239\u001b[0m      \u001b[39m\"\u001b[39m\u001b[39mdata\u001b[39m\u001b[39m\"\u001b[39m: {\n\u001b[1;32m    240\u001b[0m       \u001b[39m\"\u001b[39m\u001b[39mtext/html\u001b[39m\u001b[39m\"\u001b[39m: [\n\u001b[1;32m    241\u001b[0m        \u001b[39m\"\u001b[39m\u001b[39m<div>\u001b[39m\u001b[39m\\n\u001b[39;00m\u001b[39m\"\u001b[39m,\n\u001b[1;32m    242\u001b[0m        \u001b[39m\"\u001b[39m\u001b[39m<style scoped>\u001b[39m\u001b[39m\\n\u001b[39;00m\u001b[39m\"\u001b[39m,\n\u001b[1;32m    243\u001b[0m        \u001b[39m\"\u001b[39m\u001b[39m    .dataframe tbody tr th:only-of-type \u001b[39m\u001b[39m{\u001b[39m\u001b[39m\\n\u001b[39;00m\u001b[39m\"\u001b[39m,\n\u001b[1;32m    244\u001b[0m        \u001b[39m\"\u001b[39m\u001b[39m        vertical-align: middle;\u001b[39m\u001b[39m\\n\u001b[39;00m\u001b[39m\"\u001b[39m,\n\u001b[1;32m    245\u001b[0m        \u001b[39m\"\u001b[39m\u001b[39m    }\u001b[39m\u001b[39m\\n\u001b[39;00m\u001b[39m\"\u001b[39m,\n\u001b[1;32m    246\u001b[0m        \u001b[39m\"\u001b[39m\u001b[39m\\n\u001b[39;00m\u001b[39m\"\u001b[39m,\n\u001b[1;32m    247\u001b[0m        \u001b[39m\"\u001b[39m\u001b[39m    .dataframe tbody tr th \u001b[39m\u001b[39m{\u001b[39m\u001b[39m\\n\u001b[39;00m\u001b[39m\"\u001b[39m,\n\u001b[1;32m    248\u001b[0m        \u001b[39m\"\u001b[39m\u001b[39m        vertical-align: top;\u001b[39m\u001b[39m\\n\u001b[39;00m\u001b[39m\"\u001b[39m,\n\u001b[1;32m    249\u001b[0m        \u001b[39m\"\u001b[39m\u001b[39m    }\u001b[39m\u001b[39m\\n\u001b[39;00m\u001b[39m\"\u001b[39m,\n\u001b[1;32m    250\u001b[0m        \u001b[39m\"\u001b[39m\u001b[39m\\n\u001b[39;00m\u001b[39m\"\u001b[39m,\n\u001b[1;32m    251\u001b[0m        \u001b[39m\"\u001b[39m\u001b[39m    .dataframe thead th \u001b[39m\u001b[39m{\u001b[39m\u001b[39m\\n\u001b[39;00m\u001b[39m\"\u001b[39m,\n\u001b[1;32m    252\u001b[0m        \u001b[39m\"\u001b[39m\u001b[39m        text-align: right;\u001b[39m\u001b[39m\\n\u001b[39;00m\u001b[39m\"\u001b[39m,\n\u001b[1;32m    253\u001b[0m        \u001b[39m\"\u001b[39m\u001b[39m    }\u001b[39m\u001b[39m\\n\u001b[39;00m\u001b[39m\"\u001b[39m,\n\u001b[1;32m    254\u001b[0m        \u001b[39m\"\u001b[39m\u001b[39m</style>\u001b[39m\u001b[39m\\n\u001b[39;00m\u001b[39m\"\u001b[39m,\n\u001b[1;32m    255\u001b[0m        \u001b[39m\"\u001b[39m\u001b[39m<table border=\u001b[39m\u001b[39m\\\"\u001b[39;00m\u001b[39m1\u001b[39m\u001b[39m\\\"\u001b[39;00m\u001b[39m class=\u001b[39m\u001b[39m\\\"\u001b[39;00m\u001b[39mdataframe\u001b[39m\u001b[39m\\\"\u001b[39;00m\u001b[39m>\u001b[39m\u001b[39m\\n\u001b[39;00m\u001b[39m\"\u001b[39m,\n\u001b[1;32m    256\u001b[0m        \u001b[39m\"\u001b[39m\u001b[39m  <thead>\u001b[39m\u001b[39m\\n\u001b[39;00m\u001b[39m\"\u001b[39m,\n\u001b[1;32m    257\u001b[0m        \u001b[39m\"\u001b[39m\u001b[39m    <tr style=\u001b[39m\u001b[39m\\\"\u001b[39;00m\u001b[39mtext-align: right;\u001b[39m\u001b[39m\\\"\u001b[39;00m\u001b[39m>\u001b[39m\u001b[39m\\n\u001b[39;00m\u001b[39m\"\u001b[39m,\n\u001b[1;32m    258\u001b[0m        \u001b[39m\"\u001b[39m\u001b[39m      <th></th>\u001b[39m\u001b[39m\\n\u001b[39;00m\u001b[39m\"\u001b[39m,\n\u001b[1;32m    259\u001b[0m        \u001b[39m\"\u001b[39m\u001b[39m      <th>year</th>\u001b[39m\u001b[39m\\n\u001b[39;00m\u001b[39m\"\u001b[39m,\n\u001b[1;32m    260\u001b[0m        \u001b[39m\"\u001b[39m\u001b[39m      <th>date</th>\u001b[39m\u001b[39m\\n\u001b[39;00m\u001b[39m\"\u001b[39m,\n\u001b[1;32m    261\u001b[0m        \u001b[39m\"\u001b[39m\u001b[39m      <th>month</th>\u001b[39m\u001b[39m\\n\u001b[39;00m\u001b[39m\"\u001b[39m,\n\u001b[1;32m    262\u001b[0m        \u001b[39m\"\u001b[39m\u001b[39m      <th>day</th>\u001b[39m\u001b[39m\\n\u001b[39;00m\u001b[39m\"\u001b[39m,\n\u001b[1;32m    263\u001b[0m        \u001b[39m\"\u001b[39m\u001b[39m      <th>author</th>\u001b[39m\u001b[39m\\n\u001b[39;00m\u001b[39m\"\u001b[39m,\n\u001b[1;32m    264\u001b[0m        \u001b[39m\"\u001b[39m\u001b[39m      <th>title</th>\u001b[39m\u001b[39m\\n\u001b[39;00m\u001b[39m\"\u001b[39m,\n\u001b[1;32m    265\u001b[0m        \u001b[39m\"\u001b[39m\u001b[39m      <th>article</th>\u001b[39m\u001b[39m\\n\u001b[39;00m\u001b[39m\"\u001b[39m,\n\u001b[1;32m    266\u001b[0m        \u001b[39m\"\u001b[39m\u001b[39m      <th>url</th>\u001b[39m\u001b[39m\\n\u001b[39;00m\u001b[39m\"\u001b[39m,\n\u001b[1;32m    267\u001b[0m        \u001b[39m\"\u001b[39m\u001b[39m      <th>section</th>\u001b[39m\u001b[39m\\n\u001b[39;00m\u001b[39m\"\u001b[39m,\n\u001b[1;32m    268\u001b[0m        \u001b[39m\"\u001b[39m\u001b[39m      <th>publication</th>\u001b[39m\u001b[39m\\n\u001b[39;00m\u001b[39m\"\u001b[39m,\n\u001b[1;32m    269\u001b[0m        \u001b[39m\"\u001b[39m\u001b[39m    </tr>\u001b[39m\u001b[39m\\n\u001b[39;00m\u001b[39m\"\u001b[39m,\n\u001b[1;32m    270\u001b[0m        \u001b[39m\"\u001b[39m\u001b[39m  </thead>\u001b[39m\u001b[39m\\n\u001b[39;00m\u001b[39m\"\u001b[39m,\n\u001b[1;32m    271\u001b[0m        \u001b[39m\"\u001b[39m\u001b[39m  <tbody>\u001b[39m\u001b[39m\\n\u001b[39;00m\u001b[39m\"\u001b[39m,\n\u001b[1;32m    272\u001b[0m        \u001b[39m\"\u001b[39m\u001b[39m    <tr>\u001b[39m\u001b[39m\\n\u001b[39;00m\u001b[39m\"\u001b[39m,\n\u001b[1;32m    273\u001b[0m        \u001b[39m\"\u001b[39m\u001b[39m      <th>3</th>\u001b[39m\u001b[39m\\n\u001b[39;00m\u001b[39m\"\u001b[39m,\n\u001b[1;32m    274\u001b[0m        \u001b[39m\"\u001b[39m\u001b[39m      <td>2020</td>\u001b[39m\u001b[39m\\n\u001b[39;00m\u001b[39m\"\u001b[39m,\n\u001b[1;32m    275\u001b[0m        \u001b[39m\"\u001b[39m\u001b[39m      <td>2020-01-17 00:00:00</td>\u001b[39m\u001b[39m\\n\u001b[39;00m\u001b[39m\"\u001b[39m,\n\u001b[1;32m    276\u001b[0m        \u001b[39m\"\u001b[39m\u001b[39m      <td>1.0</td>\u001b[39m\u001b[39m\\n\u001b[39;00m\u001b[39m\"\u001b[39m,\n\u001b[1;32m    277\u001b[0m        \u001b[39m\"\u001b[39m\u001b[39m      <td>17</td>\u001b[39m\u001b[39m\\n\u001b[39;00m\u001b[39m\"\u001b[39m,\n\u001b[1;32m    278\u001b[0m        \u001b[39m\"\u001b[39m\u001b[39m      <td>NaN</td>\u001b[39m\u001b[39m\\n\u001b[39;00m\u001b[39m\"\u001b[39m,\n\u001b[1;32m    279\u001b[0m        \u001b[39m\"\u001b[39m\u001b[39m      <td>U.S. manufacturing output rises unexpectedly</td>\u001b[39m\u001b[39m\\n\u001b[39;00m\u001b[39m\"\u001b[39m,\n\u001b[1;32m    280\u001b[0m        \u001b[39m\"\u001b[39m\u001b[39m      <td>washington reuter we manufacture output rise u...</td>\u001b[39m\u001b[39m\\n\u001b[39;00m\u001b[39m\"\u001b[39m,\n\u001b[1;32m    281\u001b[0m        \u001b[39m\"\u001b[39m\u001b[39m      <td>https://www.reuters.com/article/us-usa-economy...</td>\u001b[39m\u001b[39m\\n\u001b[39;00m\u001b[39m\"\u001b[39m,\n\u001b[1;32m    282\u001b[0m        \u001b[39m\"\u001b[39m\u001b[39m      <td>Business News</td>\u001b[39m\u001b[39m\\n\u001b[39;00m\u001b[39m\"\u001b[39m,\n\u001b[1;32m    283\u001b[0m        \u001b[39m\"\u001b[39m\u001b[39m      <td>Reuters</td>\u001b[39m\u001b[39m\\n\u001b[39;00m\u001b[39m\"\u001b[39m,\n\u001b[1;32m    284\u001b[0m        \u001b[39m\"\u001b[39m\u001b[39m    </tr>\u001b[39m\u001b[39m\\n\u001b[39;00m\u001b[39m\"\u001b[39m,\n\u001b[1;32m    285\u001b[0m        \u001b[39m\"\u001b[39m\u001b[39m  </tbody>\u001b[39m\u001b[39m\\n\u001b[39;00m\u001b[39m\"\u001b[39m,\n\u001b[1;32m    286\u001b[0m        \u001b[39m\"\u001b[39m\u001b[39m</table>\u001b[39m\u001b[39m\\n\u001b[39;00m\u001b[39m\"\u001b[39m,\n\u001b[1;32m    287\u001b[0m        \u001b[39m\"\u001b[39m\u001b[39m</div>\u001b[39m\u001b[39m\"\u001b[39m\n\u001b[1;32m    288\u001b[0m       ],\n\u001b[1;32m    289\u001b[0m       \u001b[39m\"\u001b[39m\u001b[39mtext/plain\u001b[39m\u001b[39m\"\u001b[39m: [\n\u001b[1;32m    290\u001b[0m        \u001b[39m\"\u001b[39m\u001b[39m   year                 date  month  day author  \u001b[39m\u001b[39m\\\\\u001b[39;00m\u001b[39m\\n\u001b[39;00m\u001b[39m\"\u001b[39m,\n\u001b[1;32m    291\u001b[0m        \u001b[39m\"\u001b[39m\u001b[39m3  2020  2020-01-17 00:00:00    1.0   17    NaN   \u001b[39m\u001b[39m\\n\u001b[39;00m\u001b[39m\"\u001b[39m,\n\u001b[1;32m    292\u001b[0m        \u001b[39m\"\u001b[39m\u001b[39m\\n\u001b[39;00m\u001b[39m\"\u001b[39m,\n\u001b[1;32m    293\u001b[0m        \u001b[39m\"\u001b[39m\u001b[39m                                          title  \u001b[39m\u001b[39m\\\\\u001b[39;00m\u001b[39m\\n\u001b[39;00m\u001b[39m\"\u001b[39m,\n\u001b[1;32m    294\u001b[0m        \u001b[39m\"\u001b[39m\u001b[39m3  U.S. manufacturing output rises unexpectedly   \u001b[39m\u001b[39m\\n\u001b[39;00m\u001b[39m\"\u001b[39m,\n\u001b[1;32m    295\u001b[0m        \u001b[39m\"\u001b[39m\u001b[39m\\n\u001b[39;00m\u001b[39m\"\u001b[39m,\n\u001b[1;32m    296\u001b[0m        \u001b[39m\"\u001b[39m\u001b[39m                                             article  \u001b[39m\u001b[39m\\\\\u001b[39;00m\u001b[39m\\n\u001b[39;00m\u001b[39m\"\u001b[39m,\n\u001b[1;32m    297\u001b[0m        \u001b[39m\"\u001b[39m\u001b[39m3  washington reuter we manufacture output rise u...   \u001b[39m\u001b[39m\\n\u001b[39;00m\u001b[39m\"\u001b[39m,\n\u001b[1;32m    298\u001b[0m        \u001b[39m\"\u001b[39m\u001b[39m\\n\u001b[39;00m\u001b[39m\"\u001b[39m,\n\u001b[1;32m    299\u001b[0m        \u001b[39m\"\u001b[39m\u001b[39m                                                 url        section  \u001b[39m\u001b[39m\\\\\u001b[39;00m\u001b[39m\\n\u001b[39;00m\u001b[39m\"\u001b[39m,\n\u001b[1;32m    300\u001b[0m        \u001b[39m\"\u001b[39m\u001b[39m3  https://www.reuters.com/article/us-usa-economy...  Business News   \u001b[39m\u001b[39m\\n\u001b[39;00m\u001b[39m\"\u001b[39m,\n\u001b[1;32m    301\u001b[0m        \u001b[39m\"\u001b[39m\u001b[39m\\n\u001b[39;00m\u001b[39m\"\u001b[39m,\n\u001b[1;32m    302\u001b[0m        \u001b[39m\"\u001b[39m\u001b[39m  publication  \u001b[39m\u001b[39m\\n\u001b[39;00m\u001b[39m\"\u001b[39m,\n\u001b[1;32m    303\u001b[0m        \u001b[39m\"\u001b[39m\u001b[39m3     Reuters  \u001b[39m\u001b[39m\"\u001b[39m\n\u001b[1;32m    304\u001b[0m       ]\n\u001b[1;32m    305\u001b[0m      },\n\u001b[1;32m    306\u001b[0m      \u001b[39m\"\u001b[39m\u001b[39mmetadata\u001b[39m\u001b[39m\"\u001b[39m: {},\n\u001b[1;32m    307\u001b[0m      \u001b[39m\"\u001b[39m\u001b[39moutput_type\u001b[39m\u001b[39m\"\u001b[39m: \u001b[39m\"\u001b[39m\u001b[39mdisplay_data\u001b[39m\u001b[39m\"\u001b[39m\n\u001b[1;32m    308\u001b[0m     },\n\u001b[1;32m    309\u001b[0m     {\n\u001b[1;32m    310\u001b[0m      \u001b[39m\"\u001b[39m\u001b[39mdata\u001b[39m\u001b[39m\"\u001b[39m: {\n\u001b[1;32m    311\u001b[0m       \u001b[39m\"\u001b[39m\u001b[39mtext/html\u001b[39m\u001b[39m\"\u001b[39m: [\n\u001b[1;32m    312\u001b[0m        \u001b[39m\"\u001b[39m\u001b[39m<a href=\u001b[39m\u001b[39m\\\"\u001b[39;00m\u001b[39mhttps://www.reuters.com/article/russia-gdp-oil/russia-faces-2020-budget-deficit-of-09-of-gdp-at-current-oil-prices-idUSL8N2B708D\u001b[39m\u001b[39m\\\"\u001b[39;00m\u001b[39m target=\u001b[39m\u001b[39m\\\"\u001b[39;00m\u001b[39m_blank\u001b[39m\u001b[39m\\\"\u001b[39;00m\u001b[39m>Russia faces 2020 budget deficit of 0.9\u001b[39m\u001b[39m% o\u001b[39;00m\u001b[39mf GDP at current oil prices</a> (Similarity: 0.76)<br/><a href=\u001b[39m\u001b[39m\\\"\u001b[39;00m\u001b[39mhttps://www.reuters.com/article/mexico-inflation/update-1-mexico-inflation-in-december-was-lowest-in-more-than-3-years-idUSL1N29E0IO\u001b[39m\u001b[39m\\\"\u001b[39;00m\u001b[39m target=\u001b[39m\u001b[39m\\\"\u001b[39;00m\u001b[39m_blank\u001b[39m\u001b[39m\\\"\u001b[39;00m\u001b[39m>UPDATE 1-Mexico inflation in December was lowest in more than 3 years</a> (Similarity: 0.74)<br/><a href=\u001b[39m\u001b[39m\\\"\u001b[39;00m\u001b[39mhttps://www.cnbc.com/2020/03/16/reuters-america-world-looking-at-possible-buildup-of-the-most-extreme-oil-surplus-ever-recorded--ihs-markit.html\u001b[39m\u001b[39m\\\"\u001b[39;00m\u001b[39m target=\u001b[39m\u001b[39m\\\"\u001b[39;00m\u001b[39m_blank\u001b[39m\u001b[39m\\\"\u001b[39;00m\u001b[39m>World looking at possible buildup of the most extreme oil surplus ever recorded - IHS Markit</a> (Similarity: 0.73)<br/><a href=\u001b[39m\u001b[39m\\\"\u001b[39;00m\u001b[39mhttps://www.reuters.com/article/us-japan-economy-spending/japan-household-spending-falls-again-in-november-gloom-may-persist-idUSKBN1Z82UD\u001b[39m\u001b[39m\\\"\u001b[39;00m\u001b[39m target=\u001b[39m\u001b[39m\\\"\u001b[39;00m\u001b[39m_blank\u001b[39m\u001b[39m\\\"\u001b[39;00m\u001b[39m>Japan household spending falls again in November gloom may persist</a> (Similarity: 0.73)<br/><a href=\u001b[39m\u001b[39m\\\"\u001b[39;00m\u001b[39mhttps://www.reuters.com/article/brazil-economy-retail-sales/brazil-retail-sales-fall-1-in-january-ibge-idUSS0N2AV01U\u001b[39m\u001b[39m\\\"\u001b[39;00m\u001b[39m target=\u001b[39m\u001b[39m\\\"\u001b[39;00m\u001b[39m_blank\u001b[39m\u001b[39m\\\"\u001b[39;00m\u001b[39m>Brazil retail sales fall 1\u001b[39m\u001b[39m% i\u001b[39;00m\u001b[39mn January - IBGE</a> (Similarity: 0.73)<br/><a href=\u001b[39m\u001b[39m\\\"\u001b[39;00m\u001b[39mhttps://www.reuters.com/article/kyrgyzstan-rates/kyrgyzstans-central-bank-raises-policy-rate-to-50-idUSR4N23502A\u001b[39m\u001b[39m\\\"\u001b[39;00m\u001b[39m target=\u001b[39m\u001b[39m\\\"\u001b[39;00m\u001b[39m_blank\u001b[39m\u001b[39m\\\"\u001b[39;00m\u001b[39m>Kyrgyzstan\u001b[39m\u001b[39m'\u001b[39m\u001b[39ms central bank raises policy rate to 5.0\u001b[39m\u001b[39m%\u001b[39m\u001b[39m</a> (Similarity: 0.72)<br/><a href=\u001b[39m\u001b[39m\\\"\u001b[39;00m\u001b[39mhttps://www.reuters.com/article/saudi-economy-imf/imf-trims-2020-saudi-growth-forecast-to-19-on-lower-oil-output-idUSL8N29O0CL\u001b[39m\u001b[39m\\\"\u001b[39;00m\u001b[39m target=\u001b[39m\u001b[39m\\\"\u001b[39;00m\u001b[39m_blank\u001b[39m\u001b[39m\\\"\u001b[39;00m\u001b[39m>IMF trims 2020 Saudi growth forecast to 1.9\u001b[39m\u001b[39m% o\u001b[39;00m\u001b[39mn lower oil output</a> (Similarity: 0.72)<br/><a href=\u001b[39m\u001b[39m\\\"\u001b[39;00m\u001b[39mhttps://www.cnbc.com/2020/01/29/reuters-america-u-s-goods-trade-deficit-jumps-in-december.html\u001b[39m\u001b[39m\\\"\u001b[39;00m\u001b[39m target=\u001b[39m\u001b[39m\\\"\u001b[39;00m\u001b[39m_blank\u001b[39m\u001b[39m\\\"\u001b[39;00m\u001b[39m>U.S. goods trade deficit jumps in December</a> (Similarity: 0.71)<br/><a href=\u001b[39m\u001b[39m\\\"\u001b[39;00m\u001b[39mhttps://www.reuters.com/article/germany-economy-industrialoutput/german-industry-output-suffers-biggest-slump-since-2009-idUSL8N2A71JD\u001b[39m\u001b[39m\\\"\u001b[39;00m\u001b[39m target=\u001b[39m\u001b[39m\\\"\u001b[39;00m\u001b[39m_blank\u001b[39m\u001b[39m\\\"\u001b[39;00m\u001b[39m>German industry output suffers biggest slump since 2009</a> (Similarity: 0.71)<br/><a href=\u001b[39m\u001b[39m\\\"\u001b[39;00m\u001b[39mhttps://www.cnbc.com/2020/03/13/reuters-america-u-s-import-prices-fall-in-february.html\u001b[39m\u001b[39m\\\"\u001b[39;00m\u001b[39m target=\u001b[39m\u001b[39m\\\"\u001b[39;00m\u001b[39m_blank\u001b[39m\u001b[39m\\\"\u001b[39;00m\u001b[39m>U.S. import prices fall in February</a> (Similarity: 0.70)\u001b[39m\u001b[39m\"\u001b[39m\n\u001b[1;32m    313\u001b[0m       ],\n\u001b[1;32m    314\u001b[0m       \u001b[39m\"\u001b[39m\u001b[39mtext/plain\u001b[39m\u001b[39m\"\u001b[39m: [\n\u001b[1;32m    315\u001b[0m        \u001b[39m\"\u001b[39m\u001b[39m<IPython.core.display.HTML object>\u001b[39m\u001b[39m\"\u001b[39m\n\u001b[1;32m    316\u001b[0m       ]\n\u001b[1;32m    317\u001b[0m      },\n\u001b[1;32m    318\u001b[0m      \u001b[39m\"\u001b[39m\u001b[39mmetadata\u001b[39m\u001b[39m\"\u001b[39m: {},\n\u001b[1;32m    319\u001b[0m      \u001b[39m\"\u001b[39m\u001b[39moutput_type\u001b[39m\u001b[39m\"\u001b[39m: \u001b[39m\"\u001b[39m\u001b[39mdisplay_data\u001b[39m\u001b[39m\"\u001b[39m\n\u001b[1;32m    320\u001b[0m     },\n\u001b[1;32m    321\u001b[0m     {\n\u001b[1;32m    322\u001b[0m      \u001b[39m\"\u001b[39m\u001b[39mdata\u001b[39m\u001b[39m\"\u001b[39m: {\n\u001b[1;32m    323\u001b[0m       \u001b[39m\"\u001b[39m\u001b[39mapplication/vnd.jupyter.widget-view+json\u001b[39m\u001b[39m\"\u001b[39m: {\n\u001b[1;32m    324\u001b[0m        \u001b[39m\"\u001b[39m\u001b[39mmodel_id\u001b[39m\u001b[39m\"\u001b[39m: \u001b[39m\"\u001b[39m\u001b[39m17dd2cafd1eb4ac2b8a7456f28d2436c\u001b[39m\u001b[39m\"\u001b[39m,\n\u001b[1;32m    325\u001b[0m        \u001b[39m\"\u001b[39m\u001b[39mversion_major\u001b[39m\u001b[39m\"\u001b[39m: \u001b[39m2\u001b[39m,\n\u001b[1;32m    326\u001b[0m        \u001b[39m\"\u001b[39m\u001b[39mversion_minor\u001b[39m\u001b[39m\"\u001b[39m: \u001b[39m0\u001b[39m\n\u001b[1;32m    327\u001b[0m       },\n\u001b[1;32m    328\u001b[0m       \u001b[39m\"\u001b[39m\u001b[39mtext/plain\u001b[39m\u001b[39m\"\u001b[39m: [\n\u001b[1;32m    329\u001b[0m        \u001b[39m\"\u001b[39m\u001b[39mTab(children=(Output(), Output(), Output(), Output(), Output(), Output(), Output(), Output(), Output(), Output…\u001b[39m\u001b[39m\"\u001b[39m\n\u001b[1;32m    330\u001b[0m       ]\n\u001b[1;32m    331\u001b[0m      },\n\u001b[1;32m    332\u001b[0m      \u001b[39m\"\u001b[39m\u001b[39mmetadata\u001b[39m\u001b[39m\"\u001b[39m: {},\n\u001b[1;32m    333\u001b[0m      \u001b[39m\"\u001b[39m\u001b[39moutput_type\u001b[39m\u001b[39m\"\u001b[39m: \u001b[39m\"\u001b[39m\u001b[39mdisplay_data\u001b[39m\u001b[39m\"\u001b[39m\n\u001b[1;32m    334\u001b[0m     }\n\u001b[1;32m    335\u001b[0m    ],\n\u001b[1;32m    336\u001b[0m    \u001b[39m\"\u001b[39m\u001b[39msource\u001b[39m\u001b[39m\"\u001b[39m: [\n\u001b[1;32m    337\u001b[0m     \u001b[39m\"\u001b[39m\u001b[39mrecommendation(df, doc_topic_dist, \u001b[39m\u001b[39m\\\"\u001b[39;00m\u001b[39mU.S. manufacturing output rises unexpectedly\u001b[39m\u001b[39m\\\"\u001b[39;00m\u001b[39m, 2020, k=10, plot_dna=True)\u001b[39m\u001b[39m\"\u001b[39m\n\u001b[1;32m    338\u001b[0m    ]\n\u001b[1;32m    339\u001b[0m   },\n\u001b[1;32m    340\u001b[0m   {\n\u001b[1;32m    341\u001b[0m    \u001b[39m\"\u001b[39m\u001b[39mcell_type\u001b[39m\u001b[39m\"\u001b[39m: \u001b[39m\"\u001b[39m\u001b[39mcode\u001b[39m\u001b[39m\"\u001b[39m,\n\u001b[1;32m    342\u001b[0m    \u001b[39m\"\u001b[39m\u001b[39mexecution_count\u001b[39m\u001b[39m\"\u001b[39m: null,\n\u001b[1;32m    343\u001b[0m    \u001b[39m\"\u001b[39m\u001b[39mmetadata\u001b[39m\u001b[39m\"\u001b[39m: {},\n\u001b[1;32m    344\u001b[0m    \u001b[39m\"\u001b[39m\u001b[39moutputs\u001b[39m\u001b[39m\"\u001b[39m: [],\n\u001b[1;32m    345\u001b[0m    \u001b[39m\"\u001b[39m\u001b[39msource\u001b[39m\u001b[39m\"\u001b[39m: [\n\u001b[1;32m    346\u001b[0m     \u001b[39m\"\u001b[39m\u001b[39mdef relevant_articles(tasks, year, k=5):\u001b[39m\u001b[39m\\n\u001b[39;00m\u001b[39m\"\u001b[39m,\n\u001b[1;32m    347\u001b[0m     \u001b[39m\"\u001b[39m\u001b[39m    tasks = [tasks] if type(tasks) is str else tasks \u001b[39m\u001b[39m\\n\u001b[39;00m\u001b[39m\"\u001b[39m,\n\u001b[1;32m    348\u001b[0m     \u001b[39m\"\u001b[39m\u001b[39m    \u001b[39m\u001b[39m\\n\u001b[39;00m\u001b[39m\"\u001b[39m,\n\u001b[1;32m    349\u001b[0m     \u001b[39m\"\u001b[39m\u001b[39m    tasks_vectorized = vectorizer[year].transform(tasks)\u001b[39m\u001b[39m\\n\u001b[39;00m\u001b[39m\"\u001b[39m,\n\u001b[1;32m    350\u001b[0m     \u001b[39m\"\u001b[39m\u001b[39m    tasks_topic_dist = pd.DataFrame(lda[year].transform(tasks_vectorized))\u001b[39m\u001b[39m\\n\u001b[39;00m\u001b[39m\"\u001b[39m,\n\u001b[1;32m    351\u001b[0m     \u001b[39m\"\u001b[39m\u001b[39m\\n\u001b[39;00m\u001b[39m\"\u001b[39m,\n\u001b[1;32m    352\u001b[0m     \u001b[39m\"\u001b[39m\u001b[39m    for index, bullet in enumerate(tasks):\u001b[39m\u001b[39m\\n\u001b[39;00m\u001b[39m\"\u001b[39m,\n\u001b[1;32m    353\u001b[0m     \u001b[39m\"\u001b[39m\u001b[39m        print(bullet)\u001b[39m\u001b[39m\\n\u001b[39;00m\u001b[39m\"\u001b[39m,\n\u001b[1;32m    354\u001b[0m     \u001b[39m\"\u001b[39m\u001b[39m        recommended, dist = get_k_nearest_docs(tasks_topic_dist.iloc[index], k, get_dist=True)\u001b[39m\u001b[39m\\n\u001b[39;00m\u001b[39m\"\u001b[39m,\n\u001b[1;32m    355\u001b[0m     \u001b[39m\"\u001b[39m\u001b[39m        recommended = df[year].iloc[recommended].copy()\u001b[39m\u001b[39m\\n\u001b[39;00m\u001b[39m\"\u001b[39m,\n\u001b[1;32m    356\u001b[0m     \u001b[39m\"\u001b[39m\u001b[39m        recommended[\u001b[39m\u001b[39m'\u001b[39m\u001b[39msimilarity\u001b[39m\u001b[39m'\u001b[39m\u001b[39m] = 1 - dist \u001b[39m\u001b[39m\\n\u001b[39;00m\u001b[39m\"\u001b[39m,\n\u001b[1;32m    357\u001b[0m     \u001b[39m\"\u001b[39m\u001b[39m\\n\u001b[39;00m\u001b[39m\"\u001b[39m,\n\u001b[1;32m    358\u001b[0m     \u001b[39m\"\u001b[39m\u001b[39m        h = \u001b[39m\u001b[39m'\u001b[39m\u001b[39m<br/>\u001b[39m\u001b[39m'\u001b[39m\u001b[39m.join([\u001b[39m\u001b[39m'\u001b[39m\u001b[39m<a href=\u001b[39m\u001b[39m\\\"\u001b[39;00m\u001b[39m'\u001b[39m\u001b[39m + l + \u001b[39m\u001b[39m'\u001b[39m\u001b[39m\\\"\u001b[39;00m\u001b[39m target=\u001b[39m\u001b[39m\\\"\u001b[39;00m\u001b[39m_blank\u001b[39m\u001b[39m\\\"\u001b[39;00m\u001b[39m>\u001b[39m\u001b[39m'\u001b[39m\u001b[39m+ n + \u001b[39m\u001b[39m'\u001b[39m\u001b[39m</a>\u001b[39m\u001b[39m'\u001b[39m\u001b[39m +\u001b[39m\u001b[39m'\u001b[39m\u001b[39m (Similarity: \u001b[39m\u001b[39m'\u001b[39m\u001b[39m + \u001b[39m\u001b[39m\\\"\u001b[39;00m\u001b[39m{:.2f}\u001b[39;00m\u001b[39m\\\"\u001b[39;00m\u001b[39m.format(s) + \u001b[39m\u001b[39m'\u001b[39m\u001b[39m)\u001b[39m\u001b[39m'\u001b[39m\u001b[39m for l, n, s in recommended[[\u001b[39m\u001b[39m'\u001b[39m\u001b[39murl\u001b[39m\u001b[39m'\u001b[39m\u001b[39m,\u001b[39m\u001b[39m'\u001b[39m\u001b[39mtitle\u001b[39m\u001b[39m'\u001b[39m\u001b[39m, \u001b[39m\u001b[39m'\u001b[39m\u001b[39msimilarity\u001b[39m\u001b[39m'\u001b[39m\u001b[39m]].values])\u001b[39m\u001b[39m\\n\u001b[39;00m\u001b[39m\"\u001b[39m,\n\u001b[1;32m    359\u001b[0m     \u001b[39m\"\u001b[39m\u001b[39m        display(HTML(h))\u001b[39m\u001b[39m\"\u001b[39m\n\u001b[1;32m    360\u001b[0m    ]\n\u001b[1;32m    361\u001b[0m   },\n\u001b[1;32m    362\u001b[0m   {\n\u001b[1;32m    363\u001b[0m    \u001b[39m\"\u001b[39m\u001b[39mcell_type\u001b[39m\u001b[39m\"\u001b[39m: \u001b[39m\"\u001b[39m\u001b[39mcode\u001b[39m\u001b[39m\"\u001b[39m,\n\u001b[1;32m    364\u001b[0m    \u001b[39m\"\u001b[39m\u001b[39mexecution_count\u001b[39m\u001b[39m\"\u001b[39m: null,\n\u001b[1;32m    365\u001b[0m    \u001b[39m\"\u001b[39m\u001b[39mmetadata\u001b[39m\u001b[39m\"\u001b[39m: {},\n\u001b[1;32m    366\u001b[0m    \u001b[39m\"\u001b[39m\u001b[39moutputs\u001b[39m\u001b[39m\"\u001b[39m: [],\n\u001b[1;32m    367\u001b[0m    \u001b[39m\"\u001b[39m\u001b[39msource\u001b[39m\u001b[39m\"\u001b[39m: [\n\u001b[1;32m    368\u001b[0m     \u001b[39m\"\u001b[39m\u001b[39mdef relevant_articles_for_text():    \u001b[39m\u001b[39m\\n\u001b[39;00m\u001b[39m\"\u001b[39m,\n\u001b[1;32m    369\u001b[0m     \u001b[39m\"\u001b[39m\u001b[39m    textW = widgets.Textarea(\u001b[39m\u001b[39m\\n\u001b[39;00m\u001b[39m\"\u001b[39m,\n\u001b[1;32m    370\u001b[0m     \u001b[39m\"\u001b[39m\u001b[39m        value=\u001b[39m\u001b[39m'\u001b[39m\u001b[39m'\u001b[39m\u001b[39m,\u001b[39m\u001b[39m\\n\u001b[39;00m\u001b[39m\"\u001b[39m,\n\u001b[1;32m    371\u001b[0m     \u001b[39m\"\u001b[39m\u001b[39m        placeholder=\u001b[39m\u001b[39m'\u001b[39m\u001b[39mType something\u001b[39m\u001b[39m'\u001b[39m\u001b[39m,\u001b[39m\u001b[39m\\n\u001b[39;00m\u001b[39m\"\u001b[39m,\n\u001b[1;32m    372\u001b[0m     \u001b[39m\"\u001b[39m\u001b[39m        description=\u001b[39m\u001b[39m'\u001b[39m\u001b[39m'\u001b[39m\u001b[39m,\u001b[39m\u001b[39m\\n\u001b[39;00m\u001b[39m\"\u001b[39m,\n\u001b[1;32m    373\u001b[0m     \u001b[39m\"\u001b[39m\u001b[39m        disabled=False,\u001b[39m\u001b[39m\\n\u001b[39;00m\u001b[39m\"\u001b[39m,\n\u001b[1;32m    374\u001b[0m     \u001b[39m\"\u001b[39m\u001b[39m        layout=Layout(width=\u001b[39m\u001b[39m'\u001b[39m\u001b[39m90\u001b[39m\u001b[39m%\u001b[39m\u001b[39m'\u001b[39m\u001b[39m, height=\u001b[39m\u001b[39m'\u001b[39m\u001b[39m200px\u001b[39m\u001b[39m'\u001b[39m\u001b[39m)\u001b[39m\u001b[39m\\n\u001b[39;00m\u001b[39m\"\u001b[39m,\n\u001b[1;32m    375\u001b[0m     \u001b[39m\"\u001b[39m\u001b[39m    )\u001b[39m\u001b[39m\\n\u001b[39;00m\u001b[39m\"\u001b[39m,\n\u001b[1;32m    376\u001b[0m     \u001b[39m\"\u001b[39m\u001b[39m\\n\u001b[39;00m\u001b[39m\"\u001b[39m,\n\u001b[1;32m    377\u001b[0m     \u001b[39m\"\u001b[39m\u001b[39m    yearW = widgets.IntSlider(value=2018, description=\u001b[39m\u001b[39m'\u001b[39m\u001b[39mYear\u001b[39m\u001b[39m'\u001b[39m\u001b[39m, max=2020, min=2016, layout=Layout(width=\u001b[39m\u001b[39m'\u001b[39m\u001b[39m40\u001b[39m\u001b[39m%\u001b[39m\u001b[39m'\u001b[39m\u001b[39m))\u001b[39m\u001b[39m\\n\u001b[39;00m\u001b[39m\"\u001b[39m,\n\u001b[1;32m    378\u001b[0m     \u001b[39m\"\u001b[39m\u001b[39m\\n\u001b[39;00m\u001b[39m\"\u001b[39m,\n\u001b[1;32m    379\u001b[0m     \u001b[39m\"\u001b[39m\u001b[39m    kWidget = widgets.IntSlider(value=10, description=\u001b[39m\u001b[39m'\u001b[39m\u001b[39mNumber of articles\u001b[39m\u001b[39m'\u001b[39m\u001b[39m, max=50, min=1, layout=Layout(width=\u001b[39m\u001b[39m'\u001b[39m\u001b[39m40\u001b[39m\u001b[39m%\u001b[39m\u001b[39m'\u001b[39m\u001b[39m))\u001b[39m\u001b[39m\\n\u001b[39;00m\u001b[39m\"\u001b[39m,\n\u001b[1;32m    380\u001b[0m     \u001b[39m\"\u001b[39m\u001b[39m\\n\u001b[39;00m\u001b[39m\"\u001b[39m,\n\u001b[1;32m    381\u001b[0m     \u001b[39m\"\u001b[39m\u001b[39m    button = widgets.Button(description=\u001b[39m\u001b[39m\\\"\u001b[39;00m\u001b[39mSearch\u001b[39m\u001b[39m\\\"\u001b[39;00m\u001b[39m)\u001b[39m\u001b[39m\\n\u001b[39;00m\u001b[39m\"\u001b[39m,\n\u001b[1;32m    382\u001b[0m     \u001b[39m\"\u001b[39m\u001b[39m\\n\u001b[39;00m\u001b[39m\"\u001b[39m,\n\u001b[1;32m    383\u001b[0m     \u001b[39m\"\u001b[39m\u001b[39m    display(VBox([HBox([kWidget, yearW], layout=Layout(width=\u001b[39m\u001b[39m'\u001b[39m\u001b[39m90\u001b[39m\u001b[39m%\u001b[39m\u001b[39m'\u001b[39m\u001b[39m, justify_content=\u001b[39m\u001b[39m'\u001b[39m\u001b[39mspace-around\u001b[39m\u001b[39m'\u001b[39m\u001b[39m)),\u001b[39m\u001b[39m\\n\u001b[39;00m\u001b[39m\"\u001b[39m,\n\u001b[1;32m    384\u001b[0m     \u001b[39m\"\u001b[39m\u001b[39m        textW, button], layout=Layout(align_items=\u001b[39m\u001b[39m'\u001b[39m\u001b[39mcenter\u001b[39m\u001b[39m'\u001b[39m\u001b[39m)))\u001b[39m\u001b[39m\\n\u001b[39;00m\u001b[39m\"\u001b[39m,\n\u001b[1;32m    385\u001b[0m     \u001b[39m\"\u001b[39m\u001b[39m\\n\u001b[39;00m\u001b[39m\"\u001b[39m,\n\u001b[1;32m    386\u001b[0m     \u001b[39m\"\u001b[39m\u001b[39m    def on_button_clicked(b):\u001b[39m\u001b[39m\\n\u001b[39;00m\u001b[39m\"\u001b[39m,\n\u001b[1;32m    387\u001b[0m     \u001b[39m\"\u001b[39m\u001b[39m        clear_output()\u001b[39m\u001b[39m\\n\u001b[39;00m\u001b[39m\"\u001b[39m,\n\u001b[1;32m    388\u001b[0m     \u001b[39m\"\u001b[39m\u001b[39m        display(VBox([HBox([kWidget, yearW], layout=Layout(width=\u001b[39m\u001b[39m'\u001b[39m\u001b[39m90\u001b[39m\u001b[39m%\u001b[39m\u001b[39m'\u001b[39m\u001b[39m, justify_content=\u001b[39m\u001b[39m'\u001b[39m\u001b[39mspace-around\u001b[39m\u001b[39m'\u001b[39m\u001b[39m)),\u001b[39m\u001b[39m\\n\u001b[39;00m\u001b[39m\"\u001b[39m,\n\u001b[1;32m    389\u001b[0m     \u001b[39m\"\u001b[39m\u001b[39m            textW, button], layout=Layout(align_items=\u001b[39m\u001b[39m'\u001b[39m\u001b[39mcenter\u001b[39m\u001b[39m'\u001b[39m\u001b[39m)))        \u001b[39m\u001b[39m\\n\u001b[39;00m\u001b[39m\"\u001b[39m,\n\u001b[1;32m    390\u001b[0m     \u001b[39m\"\u001b[39m\u001b[39m        relevant_articles(textW.value, yearW.value, kWidget.value)\u001b[39m\u001b[39m\\n\u001b[39;00m\u001b[39m\"\u001b[39m,\n\u001b[1;32m    391\u001b[0m     \u001b[39m\"\u001b[39m\u001b[39m\\n\u001b[39;00m\u001b[39m\"\u001b[39m,\n\u001b[1;32m    392\u001b[0m     \u001b[39m\"\u001b[39m\u001b[39m    button.on_click(on_button_clicked)\u001b[39m\u001b[39m\"\u001b[39m\n\u001b[1;32m    393\u001b[0m    ]\n\u001b[1;32m    394\u001b[0m   },\n\u001b[1;32m    395\u001b[0m   {\n\u001b[1;32m    396\u001b[0m    \u001b[39m\"\u001b[39m\u001b[39mcell_type\u001b[39m\u001b[39m\"\u001b[39m: \u001b[39m\"\u001b[39m\u001b[39mcode\u001b[39m\u001b[39m\"\u001b[39m,\n\u001b[1;32m    397\u001b[0m    \u001b[39m\"\u001b[39m\u001b[39mexecution_count\u001b[39m\u001b[39m\"\u001b[39m: null,\n\u001b[1;32m    398\u001b[0m    \u001b[39m\"\u001b[39m\u001b[39mmetadata\u001b[39m\u001b[39m\"\u001b[39m: {},\n\u001b[1;32m    399\u001b[0m    \u001b[39m\"\u001b[39m\u001b[39moutputs\u001b[39m\u001b[39m\"\u001b[39m: [\n\u001b[1;32m    400\u001b[0m     {\n\u001b[1;32m    401\u001b[0m      \u001b[39m\"\u001b[39m\u001b[39mdata\u001b[39m\u001b[39m\"\u001b[39m: {\n\u001b[1;32m    402\u001b[0m       \u001b[39m\"\u001b[39m\u001b[39mapplication/vnd.jupyter.widget-view+json\u001b[39m\u001b[39m\"\u001b[39m: {\n\u001b[1;32m    403\u001b[0m        \u001b[39m\"\u001b[39m\u001b[39mmodel_id\u001b[39m\u001b[39m\"\u001b[39m: \u001b[39m\"\u001b[39m\u001b[39m3c8f374b950148c9be380b25cb24d7e9\u001b[39m\u001b[39m\"\u001b[39m,\n\u001b[1;32m    404\u001b[0m        \u001b[39m\"\u001b[39m\u001b[39mversion_major\u001b[39m\u001b[39m\"\u001b[39m: \u001b[39m2\u001b[39m,\n\u001b[1;32m    405\u001b[0m        \u001b[39m\"\u001b[39m\u001b[39mversion_minor\u001b[39m\u001b[39m\"\u001b[39m: \u001b[39m0\u001b[39m\n\u001b[1;32m    406\u001b[0m       },\n\u001b[1;32m    407\u001b[0m       \u001b[39m\"\u001b[39m\u001b[39mtext/plain\u001b[39m\u001b[39m\"\u001b[39m: [\n\u001b[1;32m    408\u001b[0m        \u001b[39m\"\u001b[39m\u001b[39mVBox(children=(HBox(children=(IntSlider(value=10, description=\u001b[39m\u001b[39m'\u001b[39m\u001b[39mNumber of articles\u001b[39m\u001b[39m'\u001b[39m\u001b[39m, layout=Layout(width=\u001b[39m\u001b[39m'\u001b[39m\u001b[39m40\u001b[39m\u001b[39m%\u001b[39m\u001b[39m'\u001b[39m\u001b[39m)…\u001b[39m\u001b[39m\"\u001b[39m\n\u001b[1;32m    409\u001b[0m       ]\n\u001b[1;32m    410\u001b[0m      },\n\u001b[1;32m    411\u001b[0m      \u001b[39m\"\u001b[39m\u001b[39mmetadata\u001b[39m\u001b[39m\"\u001b[39m: {},\n\u001b[1;32m    412\u001b[0m      \u001b[39m\"\u001b[39m\u001b[39moutput_type\u001b[39m\u001b[39m\"\u001b[39m: \u001b[39m\"\u001b[39m\u001b[39mdisplay_data\u001b[39m\u001b[39m\"\u001b[39m\n\u001b[1;32m    413\u001b[0m     },\n\u001b[1;32m    414\u001b[0m     {\n\u001b[1;32m    415\u001b[0m      \u001b[39m\"\u001b[39m\u001b[39mname\u001b[39m\u001b[39m\"\u001b[39m: \u001b[39m\"\u001b[39m\u001b[39mstdout\u001b[39m\u001b[39m\"\u001b[39m,\n\u001b[1;32m    416\u001b[0m      \u001b[39m\"\u001b[39m\u001b[39moutput_type\u001b[39m\u001b[39m\"\u001b[39m: \u001b[39m\"\u001b[39m\u001b[39mstream\u001b[39m\u001b[39m\"\u001b[39m,\n\u001b[1;32m    417\u001b[0m      \u001b[39m\"\u001b[39m\u001b[39mtext\u001b[39m\u001b[39m\"\u001b[39m: [\n\u001b[1;32m    418\u001b[0m       \u001b[39m\"\u001b[39m\u001b[39mcovid19\u001b[39m\u001b[39m\\n\u001b[39;00m\u001b[39m\"\u001b[39m\n\u001b[1;32m    419\u001b[0m      ]\n\u001b[1;32m    420\u001b[0m     },\n\u001b[1;32m    421\u001b[0m     {\n\u001b[1;32m    422\u001b[0m      \u001b[39m\"\u001b[39m\u001b[39mdata\u001b[39m\u001b[39m\"\u001b[39m: {\n\u001b[1;32m    423\u001b[0m       \u001b[39m\"\u001b[39m\u001b[39mtext/html\u001b[39m\u001b[39m\"\u001b[39m: [\n\u001b[1;32m    424\u001b[0m        \u001b[39m\"\u001b[39m\u001b[39m<a href=\u001b[39m\u001b[39m\\\"\u001b[39;00m\u001b[39mhttps://techcrunch.com/2019/04/24/indian-court-lifts-ban-on-tiktok-in-india/\u001b[39m\u001b[39m\\\"\u001b[39;00m\u001b[39m target=\u001b[39m\u001b[39m\\\"\u001b[39;00m\u001b[39m_blank\u001b[39m\u001b[39m\\\"\u001b[39;00m\u001b[39m>Indian court lifts ban on TikTok in India – TechCrunch</a> (Similarity: 0.57)<br/><a href=\u001b[39m\u001b[39m\\\"\u001b[39;00m\u001b[39mhttps://www.refinery29.com/en-us/2019/05/231590/lucy-hale-zodiac-tattoo-gemini\u001b[39m\u001b[39m\\\"\u001b[39;00m\u001b[39m target=\u001b[39m\u001b[39m\\\"\u001b[39;00m\u001b[39m_blank\u001b[39m\u001b[39m\\\"\u001b[39;00m\u001b[39m>Lucy Hale Gets A Gemini Constellation Tattoo </a> (Similarity: 0.57)<br/><a href=\u001b[39m\u001b[39m\\\"\u001b[39;00m\u001b[39mhttps://www.reuters.com/article/adani-trans-investment-qatar/update-2-qatar-wealth-fund-to-invest-450-mln-in-adani-power-distribution-arm-idUSL4N28L1O3\u001b[39m\u001b[39m\\\"\u001b[39;00m\u001b[39m target=\u001b[39m\u001b[39m\\\"\u001b[39;00m\u001b[39m_blank\u001b[39m\u001b[39m\\\"\u001b[39;00m\u001b[39m>UPDATE 2-Qatar wealth fund to invest $450 mln in Adani power distribution arm</a> (Similarity: 0.57)<br/><a href=\u001b[39m\u001b[39m\\\"\u001b[39;00m\u001b[39mhttps://www.reuters.com/article/us-oil-prices/rpt-update-1-cme-plans-to-launch-e-auction-for-us-crude-oil-exports-idUSL3N1ZF1KF\u001b[39m\u001b[39m\\\"\u001b[39;00m\u001b[39m target=\u001b[39m\u001b[39m\\\"\u001b[39;00m\u001b[39m_blank\u001b[39m\u001b[39m\\\"\u001b[39;00m\u001b[39m>RPT-UPDATE 1-CME plans to launch e-auction for U.S. crude oil exports</a> (Similarity: 0.50)<br/><a href=\u001b[39m\u001b[39m\\\"\u001b[39;00m\u001b[39mhttps://www.cnbc.com/2019/03/14/reuters-america-update-2-googles-work-in-china-benefiting-chinas-military-u-s-general.html\u001b[39m\u001b[39m\\\"\u001b[39;00m\u001b[39m target=\u001b[39m\u001b[39m\\\"\u001b[39;00m\u001b[39m_blank\u001b[39m\u001b[39m\\\"\u001b[39;00m\u001b[39m>UPDATE 2-Google\u001b[39m\u001b[39m'\u001b[39m\u001b[39ms work in China benefiting China\u001b[39m\u001b[39m'\u001b[39m\u001b[39ms military -U.S. general</a> (Similarity: 0.49)<br/><a href=\u001b[39m\u001b[39m\\\"\u001b[39;00m\u001b[39mhttps://www.reuters.com/article/us-usa-trump-storch/white-house-picks-thomas-storch-as-new-senior-trade-adviser-idUSKBN1XA2PQ\u001b[39m\u001b[39m\\\"\u001b[39;00m\u001b[39m target=\u001b[39m\u001b[39m\\\"\u001b[39;00m\u001b[39m_blank\u001b[39m\u001b[39m\\\"\u001b[39;00m\u001b[39m>White House picks Thomas Storch as new senior trade adviser</a> (Similarity: 0.49)<br/><a href=\u001b[39m\u001b[39m\\\"\u001b[39;00m\u001b[39mhttps://www.cnbc.com/2019/03/28/reuters-america-analysis-no-call-for-simulators-in-new-boeing-737-max-training-proposals.html\u001b[39m\u001b[39m\\\"\u001b[39;00m\u001b[39m target=\u001b[39m\u001b[39m\\\"\u001b[39;00m\u001b[39m_blank\u001b[39m\u001b[39m\\\"\u001b[39;00m\u001b[39m>ANALYSIS-No call for simulators in new Boeing 737 MAX training proposals</a> (Similarity: 0.49)<br/><a href=\u001b[39m\u001b[39m\\\"\u001b[39;00m\u001b[39mhttps://www.reuters.com/article/malaysia-singapore-railway/malaysia-singapore-rail-link-back-on-at-lower-cost-mahathir-idUSS7N20U00Z\u001b[39m\u001b[39m\\\"\u001b[39;00m\u001b[39m target=\u001b[39m\u001b[39m\\\"\u001b[39;00m\u001b[39m_blank\u001b[39m\u001b[39m\\\"\u001b[39;00m\u001b[39m>Malaysia-Singapore rail link back on at lower cost - Mahathir</a> (Similarity: 0.49)<br/><a href=\u001b[39m\u001b[39m\\\"\u001b[39;00m\u001b[39mhttps://www.tmz.com/2019/12/19/international-soccer-player-shahdon-winchester-trinidad-tobago-dead-car-accident/\u001b[39m\u001b[39m\\\"\u001b[39;00m\u001b[39m target=\u001b[39m\u001b[39m\\\"\u001b[39;00m\u001b[39m_blank\u001b[39m\u001b[39m\\\"\u001b[39;00m\u001b[39m>International Soccer Player Shahdon Winchester Dead At 27 After Car Crash</a> (Similarity: 0.48)<br/><a href=\u001b[39m\u001b[39m\\\"\u001b[39;00m\u001b[39mhttps://www.reuters.com/article/us-wikileaks-assange/us-extradition-request-for-julian-assange-to-be-heard-on-thursday-idUSKCN1S61WG\u001b[39m\u001b[39m\\\"\u001b[39;00m\u001b[39m target=\u001b[39m\u001b[39m\\\"\u001b[39;00m\u001b[39m_blank\u001b[39m\u001b[39m\\\"\u001b[39;00m\u001b[39m>U.S. extradition request for Julian Assange to be heard on Thursday</a> (Similarity: 0.47)\u001b[39m\u001b[39m\"\u001b[39m\n\u001b[1;32m    425\u001b[0m       ],\n\u001b[1;32m    426\u001b[0m       \u001b[39m\"\u001b[39m\u001b[39mtext/plain\u001b[39m\u001b[39m\"\u001b[39m: [\n\u001b[1;32m    427\u001b[0m        \u001b[39m\"\u001b[39m\u001b[39m<IPython.core.display.HTML object>\u001b[39m\u001b[39m\"\u001b[39m\n\u001b[1;32m    428\u001b[0m       ]\n\u001b[1;32m    429\u001b[0m      },\n\u001b[1;32m    430\u001b[0m      \u001b[39m\"\u001b[39m\u001b[39mmetadata\u001b[39m\u001b[39m\"\u001b[39m: {},\n\u001b[1;32m    431\u001b[0m      \u001b[39m\"\u001b[39m\u001b[39moutput_type\u001b[39m\u001b[39m\"\u001b[39m: \u001b[39m\"\u001b[39m\u001b[39mdisplay_data\u001b[39m\u001b[39m\"\u001b[39m\n\u001b[1;32m    432\u001b[0m     }\n\u001b[1;32m    433\u001b[0m    ],\n\u001b[1;32m    434\u001b[0m    \u001b[39m\"\u001b[39m\u001b[39msource\u001b[39m\u001b[39m\"\u001b[39m: [\n\u001b[1;32m    435\u001b[0m     \u001b[39m\"\u001b[39m\u001b[39mrelevant_articles_for_text()\u001b[39m\u001b[39m\"\u001b[39m\n\u001b[1;32m    436\u001b[0m    ]\n\u001b[1;32m    437\u001b[0m   }\n\u001b[1;32m    438\u001b[0m  ],\n\u001b[1;32m    439\u001b[0m  \u001b[39m\"\u001b[39m\u001b[39mmetadata\u001b[39m\u001b[39m\"\u001b[39m: {\n\u001b[1;32m    440\u001b[0m   \u001b[39m\"\u001b[39m\u001b[39mkernelspec\u001b[39m\u001b[39m\"\u001b[39m: {\n\u001b[1;32m    441\u001b[0m    \u001b[39m\"\u001b[39m\u001b[39mdisplay_name\u001b[39m\u001b[39m\"\u001b[39m: \u001b[39m\"\u001b[39m\u001b[39mPython 3\u001b[39m\u001b[39m\"\u001b[39m,\n\u001b[1;32m    442\u001b[0m    \u001b[39m\"\u001b[39m\u001b[39mlanguage\u001b[39m\u001b[39m\"\u001b[39m: \u001b[39m\"\u001b[39m\u001b[39mpython\u001b[39m\u001b[39m\"\u001b[39m,\n\u001b[1;32m    443\u001b[0m    \u001b[39m\"\u001b[39m\u001b[39mname\u001b[39m\u001b[39m\"\u001b[39m: \u001b[39m\"\u001b[39m\u001b[39mpython3\u001b[39m\u001b[39m\"\u001b[39m\n\u001b[1;32m    444\u001b[0m   },\n\u001b[1;32m    445\u001b[0m   \u001b[39m\"\u001b[39m\u001b[39mlanguage_info\u001b[39m\u001b[39m\"\u001b[39m: {\n\u001b[1;32m    446\u001b[0m    \u001b[39m\"\u001b[39m\u001b[39mcodemirror_mode\u001b[39m\u001b[39m\"\u001b[39m: {\n\u001b[1;32m    447\u001b[0m     \u001b[39m\"\u001b[39m\u001b[39mname\u001b[39m\u001b[39m\"\u001b[39m: \u001b[39m\"\u001b[39m\u001b[39mipython\u001b[39m\u001b[39m\"\u001b[39m,\n\u001b[1;32m    448\u001b[0m     \u001b[39m\"\u001b[39m\u001b[39mversion\u001b[39m\u001b[39m\"\u001b[39m: \u001b[39m3\u001b[39m\n\u001b[1;32m    449\u001b[0m    },\n\u001b[1;32m    450\u001b[0m    \u001b[39m\"\u001b[39m\u001b[39mfile_extension\u001b[39m\u001b[39m\"\u001b[39m: \u001b[39m\"\u001b[39m\u001b[39m.py\u001b[39m\u001b[39m\"\u001b[39m,\n\u001b[1;32m    451\u001b[0m    \u001b[39m\"\u001b[39m\u001b[39mmimetype\u001b[39m\u001b[39m\"\u001b[39m: \u001b[39m\"\u001b[39m\u001b[39mtext/x-python\u001b[39m\u001b[39m\"\u001b[39m,\n\u001b[1;32m    452\u001b[0m    \u001b[39m\"\u001b[39m\u001b[39mname\u001b[39m\u001b[39m\"\u001b[39m: \u001b[39m\"\u001b[39m\u001b[39mpython\u001b[39m\u001b[39m\"\u001b[39m,\n\u001b[1;32m    453\u001b[0m    \u001b[39m\"\u001b[39m\u001b[39mnbconvert_exporter\u001b[39m\u001b[39m\"\u001b[39m: \u001b[39m\"\u001b[39m\u001b[39mpython\u001b[39m\u001b[39m\"\u001b[39m,\n\u001b[1;32m    454\u001b[0m    \u001b[39m\"\u001b[39m\u001b[39mpygments_lexer\u001b[39m\u001b[39m\"\u001b[39m: \u001b[39m\"\u001b[39m\u001b[39mipython3\u001b[39m\u001b[39m\"\u001b[39m,\n\u001b[1;32m    455\u001b[0m    \u001b[39m\"\u001b[39m\u001b[39mversion\u001b[39m\u001b[39m\"\u001b[39m: \u001b[39m\"\u001b[39m\u001b[39m3.10.6\u001b[39m\u001b[39m\"\u001b[39m\n\u001b[1;32m    456\u001b[0m   },\n\u001b[1;32m    457\u001b[0m   \u001b[39m\"\u001b[39m\u001b[39morig_nbformat\u001b[39m\u001b[39m\"\u001b[39m: \u001b[39m4\u001b[39m\n\u001b[1;32m    458\u001b[0m  },\n\u001b[1;32m    459\u001b[0m  \u001b[39m\"\u001b[39m\u001b[39mnbformat\u001b[39m\u001b[39m\"\u001b[39m: \u001b[39m4\u001b[39m,\n\u001b[1;32m    460\u001b[0m  \u001b[39m\"\u001b[39m\u001b[39mnbformat_minor\u001b[39m\u001b[39m\"\u001b[39m: \u001b[39m2\u001b[39m\n\u001b[1;32m    461\u001b[0m }\n",
      "File \u001b[0;32m/mnt/c/Users/huang/mprog/project/topicmodelling/topic_modelling.ipynb:66\u001b[0m, in \u001b[0;36mget_k_nearest_docs\u001b[0;34m(doc_dist, k, get_dist)\u001b[0m\n\u001b[1;32m      1\u001b[0m {\n\u001b[1;32m      2\u001b[0m  \u001b[39m\"\u001b[39m\u001b[39mcells\u001b[39m\u001b[39m\"\u001b[39m: [\n\u001b[1;32m      3\u001b[0m   {\n\u001b[1;32m      4\u001b[0m    \u001b[39m\"\u001b[39m\u001b[39mattachments\u001b[39m\u001b[39m\"\u001b[39m: {},\n\u001b[1;32m      5\u001b[0m    \u001b[39m\"\u001b[39m\u001b[39mcell_type\u001b[39m\u001b[39m\"\u001b[39m: \u001b[39m\"\u001b[39m\u001b[39mmarkdown\u001b[39m\u001b[39m\"\u001b[39m,\n\u001b[1;32m      6\u001b[0m    \u001b[39m\"\u001b[39m\u001b[39mmetadata\u001b[39m\u001b[39m\"\u001b[39m: {},\n\u001b[1;32m      7\u001b[0m    \u001b[39m\"\u001b[39m\u001b[39msource\u001b[39m\u001b[39m\"\u001b[39m: [\n\u001b[1;32m      8\u001b[0m     \u001b[39m\"\u001b[39m\u001b[39m# Picking related articles.\u001b[39m\u001b[39m\"\u001b[39m\n\u001b[1;32m      9\u001b[0m    ]\n\u001b[1;32m     10\u001b[0m   },\n\u001b[1;32m     11\u001b[0m   {\n\u001b[1;32m     12\u001b[0m    \u001b[39m\"\u001b[39m\u001b[39mcell_type\u001b[39m\u001b[39m\"\u001b[39m: \u001b[39m\"\u001b[39m\u001b[39mcode\u001b[39m\u001b[39m\"\u001b[39m,\n\u001b[1;32m     13\u001b[0m    \u001b[39m\"\u001b[39m\u001b[39mexecution_count\u001b[39m\u001b[39m\"\u001b[39m: \u001b[39m13\u001b[39m,\n\u001b[1;32m     14\u001b[0m    \u001b[39m\"\u001b[39m\u001b[39mmetadata\u001b[39m\u001b[39m\"\u001b[39m: {},\n\u001b[1;32m     15\u001b[0m    \u001b[39m\"\u001b[39m\u001b[39moutputs\u001b[39m\u001b[39m\"\u001b[39m: [],\n\u001b[1;32m     16\u001b[0m    \u001b[39m\"\u001b[39m\u001b[39msource\u001b[39m\u001b[39m\"\u001b[39m: [\n\u001b[1;32m     17\u001b[0m     \u001b[39m\"\u001b[39m\u001b[39mimport pandas as pd\u001b[39m\u001b[39m\\n\u001b[39;00m\u001b[39m\"\u001b[39m,\n\u001b[1;32m     18\u001b[0m     \u001b[39m\"\u001b[39m\u001b[39m\\n\u001b[39;00m\u001b[39m\"\u001b[39m,\n\u001b[1;32m     19\u001b[0m     \u001b[39m\"\u001b[39m\u001b[39mfrom scipy.spatial.distance import jensenshannon\u001b[39m\u001b[39m\\n\u001b[39;00m\u001b[39m\"\u001b[39m,\n\u001b[1;32m     20\u001b[0m     \u001b[39m\"\u001b[39m\u001b[39m\\n\u001b[39;00m\u001b[39m\"\u001b[39m,\n\u001b[1;32m     21\u001b[0m     \u001b[39m\"\u001b[39m\u001b[39m\\n\u001b[39;00m\u001b[39m\"\u001b[39m,\n\u001b[1;32m     22\u001b[0m     \u001b[39m\"\u001b[39m\u001b[39mfrom IPython.display import HTML, display\u001b[39m\u001b[39m\\n\u001b[39;00m\u001b[39m\"\u001b[39m,\n\u001b[1;32m     23\u001b[0m     \u001b[39m\"\u001b[39m\u001b[39mfrom ipywidgets import interact, Layout, HBox, VBox, Box\u001b[39m\u001b[39m\\n\u001b[39;00m\u001b[39m\"\u001b[39m,\n\u001b[1;32m     24\u001b[0m     \u001b[39m\"\u001b[39m\u001b[39mfrom IPython.display import clear_output\u001b[39m\u001b[39m\\n\u001b[39;00m\u001b[39m\"\u001b[39m,\n\u001b[1;32m     25\u001b[0m     \u001b[39m\"\u001b[39m\u001b[39mimport sys\u001b[39m\u001b[39m\\n\u001b[39;00m\u001b[39m\"\u001b[39m,\n\u001b[1;32m     26\u001b[0m     \u001b[39m\"\u001b[39m\u001b[39mimport joblib\u001b[39m\u001b[39m\\n\u001b[39;00m\u001b[39m\"\u001b[39m,\n\u001b[1;32m     27\u001b[0m     \u001b[39m\"\u001b[39m\u001b[39mimport matplotlib.pyplot as plt\u001b[39m\u001b[39m\\n\u001b[39;00m\u001b[39m\"\u001b[39m,\n\u001b[1;32m     28\u001b[0m     \u001b[39m\"\u001b[39m\u001b[39mimport ipywidgets as widgets\u001b[39m\u001b[39m\\n\u001b[39;00m\u001b[39m\"\u001b[39m,\n\u001b[1;32m     29\u001b[0m     \u001b[39m\"\u001b[39m\u001b[39m\\n\u001b[39;00m\u001b[39m\"\u001b[39m,\n\u001b[1;32m     30\u001b[0m     \u001b[39m\"\u001b[39m\u001b[39msys.path.append(\u001b[39m\u001b[39m\\\"\u001b[39;00m\u001b[39m../datacleaning\u001b[39m\u001b[39m\\\"\u001b[39;00m\u001b[39m)\u001b[39m\u001b[39m\\n\u001b[39;00m\u001b[39m\"\u001b[39m,\n\u001b[1;32m     31\u001b[0m     \u001b[39m\"\u001b[39m\u001b[39mfrom load import load_years\u001b[39m\u001b[39m\\n\u001b[39;00m\u001b[39m\"\u001b[39m,\n\u001b[1;32m     32\u001b[0m     \u001b[39m\"\u001b[39m\u001b[39m\\n\u001b[39;00m\u001b[39m\"\u001b[39m,\n\u001b[1;32m     33\u001b[0m     \u001b[39m\"\u001b[39m\u001b[39mplt.style.use(\u001b[39m\u001b[39m\\\"\u001b[39;00m\u001b[39mdark_background\u001b[39m\u001b[39m\\\"\u001b[39;00m\u001b[39m)\u001b[39m\u001b[39m\"\u001b[39m\n\u001b[1;32m     34\u001b[0m    ]\n\u001b[1;32m     35\u001b[0m   },\n\u001b[1;32m     36\u001b[0m   {\n\u001b[1;32m     37\u001b[0m    \u001b[39m\"\u001b[39m\u001b[39mcell_type\u001b[39m\u001b[39m\"\u001b[39m: \u001b[39m\"\u001b[39m\u001b[39mcode\u001b[39m\u001b[39m\"\u001b[39m,\n\u001b[1;32m     38\u001b[0m    \u001b[39m\"\u001b[39m\u001b[39mexecution_count\u001b[39m\u001b[39m\"\u001b[39m: \u001b[39m14\u001b[39m,\n\u001b[1;32m     39\u001b[0m    \u001b[39m\"\u001b[39m\u001b[39mmetadata\u001b[39m\u001b[39m\"\u001b[39m: {},\n\u001b[1;32m     40\u001b[0m    \u001b[39m\"\u001b[39m\u001b[39moutputs\u001b[39m\u001b[39m\"\u001b[39m: [],\n\u001b[1;32m     41\u001b[0m    \u001b[39m\"\u001b[39m\u001b[39msource\u001b[39m\u001b[39m\"\u001b[39m: [\n\u001b[1;32m     42\u001b[0m     \u001b[39m\"\u001b[39m\u001b[39myears: list[int] = load_years(\u001b[39m\u001b[39m\\\"\u001b[39;00m\u001b[39m../years.txt\u001b[39m\u001b[39m\\\"\u001b[39;00m\u001b[39m)\u001b[39m\u001b[39m\"\u001b[39m\n\u001b[1;32m     43\u001b[0m    ]\n\u001b[1;32m     44\u001b[0m   },\n\u001b[1;32m     45\u001b[0m   {\n\u001b[1;32m     46\u001b[0m    \u001b[39m\"\u001b[39m\u001b[39mcell_type\u001b[39m\u001b[39m\"\u001b[39m: \u001b[39m\"\u001b[39m\u001b[39mcode\u001b[39m\u001b[39m\"\u001b[39m,\n\u001b[1;32m     47\u001b[0m    \u001b[39m\"\u001b[39m\u001b[39mexecution_count\u001b[39m\u001b[39m\"\u001b[39m: \u001b[39m15\u001b[39m,\n\u001b[1;32m     48\u001b[0m    \u001b[39m\"\u001b[39m\u001b[39mmetadata\u001b[39m\u001b[39m\"\u001b[39m: {},\n\u001b[1;32m     49\u001b[0m    \u001b[39m\"\u001b[39m\u001b[39moutputs\u001b[39m\u001b[39m\"\u001b[39m: [],\n\u001b[1;32m     50\u001b[0m    \u001b[39m\"\u001b[39m\u001b[39msource\u001b[39m\u001b[39m\"\u001b[39m: [\n\u001b[1;32m     51\u001b[0m     \u001b[39m\"\u001b[39m\u001b[39mdef load_all_files(path: str, csv_path: str, years: list[int]):\u001b[39m\u001b[39m\\n\u001b[39;00m\u001b[39m\"\u001b[39m,\n\u001b[1;32m     52\u001b[0m     \u001b[39m\"\u001b[39m\u001b[39m    lda = \u001b[39m\u001b[39m{}\u001b[39;00m\u001b[39m\\n\u001b[39;00m\u001b[39m\"\u001b[39m,\n\u001b[1;32m     53\u001b[0m     \u001b[39m\"\u001b[39m\u001b[39m    data_vectorized = \u001b[39m\u001b[39m{}\u001b[39;00m\u001b[39m\\n\u001b[39;00m\u001b[39m\"\u001b[39m,\n\u001b[1;32m     54\u001b[0m     \u001b[39m\"\u001b[39m\u001b[39m    vectorizer = \u001b[39m\u001b[39m{}\u001b[39;00m\u001b[39m\\n\u001b[39;00m\u001b[39m\"\u001b[39m,\n\u001b[1;32m     55\u001b[0m     \u001b[39m\"\u001b[39m\u001b[39m    df = \u001b[39m\u001b[39m{}\u001b[39;00m\u001b[39m\\n\u001b[39;00m\u001b[39m\"\u001b[39m,\n\u001b[1;32m     56\u001b[0m     \u001b[39m\"\u001b[39m\u001b[39m    doc_topic_dist = \u001b[39m\u001b[39m{}\u001b[39;00m\u001b[39m\\n\u001b[39;00m\u001b[39m\"\u001b[39m,\n\u001b[1;32m     57\u001b[0m     \u001b[39m\"\u001b[39m\u001b[39m\\n\u001b[39;00m\u001b[39m\"\u001b[39m,\n\u001b[1;32m     58\u001b[0m     \u001b[39m\"\u001b[39m\u001b[39m    for year in years:\u001b[39m\u001b[39m\\n\u001b[39;00m\u001b[39m\"\u001b[39m,\n\u001b[1;32m     59\u001b[0m     \u001b[39m\"\u001b[39m\u001b[39m        lda.update(\u001b[39m\u001b[39m{\u001b[39m\u001b[39myear: joblib.load(f\u001b[39m\u001b[39m'\u001b[39m\u001b[39m{path}\u001b[39;00m\u001b[39m/lda_\u001b[39m\u001b[39m{year}\u001b[39;00m\u001b[39m.csv\u001b[39m\u001b[39m'\u001b[39m\u001b[39m)})\u001b[39m\u001b[39m\\n\u001b[39;00m\u001b[39m\"\u001b[39m,\n\u001b[1;32m     60\u001b[0m     \u001b[39m\"\u001b[39m\u001b[39m        data_vectorized.update(\u001b[39m\u001b[39m{\u001b[39m\u001b[39myear: joblib.load(f\u001b[39m\u001b[39m'\u001b[39m\u001b[39m{path}\u001b[39;00m\u001b[39m/data_vectorized_\u001b[39m\u001b[39m{year}\u001b[39;00m\u001b[39m.csv\u001b[39m\u001b[39m'\u001b[39m\u001b[39m)})\u001b[39m\u001b[39m\\n\u001b[39;00m\u001b[39m\"\u001b[39m,\n\u001b[1;32m     61\u001b[0m     \u001b[39m\"\u001b[39m\u001b[39m        vectorizer.update(\u001b[39m\u001b[39m{\u001b[39m\u001b[39myear: joblib.load(f\u001b[39m\u001b[39m'\u001b[39m\u001b[39m{path}\u001b[39;00m\u001b[39m/vectorizer_\u001b[39m\u001b[39m{year}\u001b[39;00m\u001b[39m.csv\u001b[39m\u001b[39m'\u001b[39m\u001b[39m)})\u001b[39m\u001b[39m\\n\u001b[39;00m\u001b[39m\"\u001b[39m,\n\u001b[1;32m     62\u001b[0m     \u001b[39m\"\u001b[39m\u001b[39m        df.update(\u001b[39m\u001b[39m{\u001b[39m\u001b[39myear: pd.read_csv(f\u001b[39m\u001b[39m\\\"\u001b[39;00m\u001b[39m{csv_path}\u001b[39;00m\u001b[39m/\u001b[39m\u001b[39m{year}\u001b[39;00m\u001b[39m_03.csv\u001b[39m\u001b[39m\\\"\u001b[39;00m\u001b[39m)})\u001b[39m\u001b[39m\\n\u001b[39;00m\u001b[39m\"\u001b[39m,\n\u001b[1;32m     63\u001b[0m     \u001b[39m\"\u001b[39m\u001b[39m        doc_topic_dist.update(\u001b[39m\u001b[39m{\u001b[39m\u001b[39myear: joblib.load(f\u001b[39m\u001b[39m\\\"\u001b[39;00m\u001b[39m{path}\u001b[39;00m\u001b[39m/doc_topic_dist_\u001b[39m\u001b[39m{year}\u001b[39;00m\u001b[39m.csv\u001b[39m\u001b[39m\\\"\u001b[39;00m\u001b[39m)})\u001b[39m\u001b[39m\\n\u001b[39;00m\u001b[39m\"\u001b[39m,\n\u001b[1;32m     64\u001b[0m     \u001b[39m\"\u001b[39m\u001b[39m        print(f\u001b[39m\u001b[39m\\\"\u001b[39;00m\u001b[39m{year}\u001b[39;00m\u001b[39m done.\u001b[39m\u001b[39m\\\"\u001b[39;00m\u001b[39m)\u001b[39m\u001b[39m\\n\u001b[39;00m\u001b[39m\"\u001b[39m,\n\u001b[1;32m     65\u001b[0m     \u001b[39m\"\u001b[39m\u001b[39m\\n\u001b[39;00m\u001b[39m\"\u001b[39m,\n\u001b[0;32m---> 66\u001b[0m     \u001b[39m\"\u001b[39m\u001b[39m    return lda, data_vectorized, vectorizer, df, doc_topic_dist\u001b[39m\u001b[39m\"\u001b[39m\n\u001b[1;32m     67\u001b[0m    ]\n\u001b[1;32m     68\u001b[0m   },\n\u001b[1;32m     69\u001b[0m   {\n\u001b[1;32m     70\u001b[0m    \u001b[39m\"\u001b[39m\u001b[39mcell_type\u001b[39m\u001b[39m\"\u001b[39m: \u001b[39m\"\u001b[39m\u001b[39mcode\u001b[39m\u001b[39m\"\u001b[39m,\n\u001b[1;32m     71\u001b[0m    \u001b[39m\"\u001b[39m\u001b[39mexecution_count\u001b[39m\u001b[39m\"\u001b[39m: \u001b[39m16\u001b[39m,\n\u001b[1;32m     72\u001b[0m    \u001b[39m\"\u001b[39m\u001b[39mmetadata\u001b[39m\u001b[39m\"\u001b[39m: {},\n\u001b[1;32m     73\u001b[0m    \u001b[39m\"\u001b[39m\u001b[39moutputs\u001b[39m\u001b[39m\"\u001b[39m: [\n\u001b[1;32m     74\u001b[0m     {\n\u001b[1;32m     75\u001b[0m      \u001b[39m\"\u001b[39m\u001b[39mname\u001b[39m\u001b[39m\"\u001b[39m: \u001b[39m\"\u001b[39m\u001b[39mstdout\u001b[39m\u001b[39m\"\u001b[39m,\n\u001b[1;32m     76\u001b[0m      \u001b[39m\"\u001b[39m\u001b[39moutput_type\u001b[39m\u001b[39m\"\u001b[39m: \u001b[39m\"\u001b[39m\u001b[39mstream\u001b[39m\u001b[39m\"\u001b[39m,\n\u001b[1;32m     77\u001b[0m      \u001b[39m\"\u001b[39m\u001b[39mtext\u001b[39m\u001b[39m\"\u001b[39m: [\n\u001b[1;32m     78\u001b[0m       \u001b[39m\"\u001b[39m\u001b[39m2016 done.\u001b[39m\u001b[39m\\n\u001b[39;00m\u001b[39m\"\u001b[39m,\n\u001b[1;32m     79\u001b[0m       \u001b[39m\"\u001b[39m\u001b[39m2017 done.\u001b[39m\u001b[39m\\n\u001b[39;00m\u001b[39m\"\u001b[39m,\n\u001b[1;32m     80\u001b[0m       \u001b[39m\"\u001b[39m\u001b[39m2018 done.\u001b[39m\u001b[39m\\n\u001b[39;00m\u001b[39m\"\u001b[39m,\n\u001b[1;32m     81\u001b[0m       \u001b[39m\"\u001b[39m\u001b[39m2019 done.\u001b[39m\u001b[39m\\n\u001b[39;00m\u001b[39m\"\u001b[39m,\n\u001b[1;32m     82\u001b[0m       \u001b[39m\"\u001b[39m\u001b[39m2020 done.\u001b[39m\u001b[39m\\n\u001b[39;00m\u001b[39m\"\u001b[39m\n\u001b[1;32m     83\u001b[0m      ]\n\u001b[1;32m     84\u001b[0m     }\n\u001b[1;32m     85\u001b[0m    ],\n\u001b[1;32m     86\u001b[0m    \u001b[39m\"\u001b[39m\u001b[39msource\u001b[39m\u001b[39m\"\u001b[39m: [\n\u001b[1;32m     87\u001b[0m     \u001b[39m\"\u001b[39m\u001b[39mlda, data_vectorized, vectorizer, df, doc_topic_dist = load_all_files(\u001b[39m\u001b[39m\\\"\u001b[39;00m\u001b[39m./csv/\u001b[39m\u001b[39m\\\"\u001b[39;00m\u001b[39m, \u001b[39m\u001b[39m\\\"\u001b[39;00m\u001b[39m../csv\u001b[39m\u001b[39m\\\"\u001b[39;00m\u001b[39m, years)\u001b[39m\u001b[39m\"\u001b[39m\n\u001b[1;32m     88\u001b[0m    ]\n\u001b[1;32m     89\u001b[0m   },\n\u001b[1;32m     90\u001b[0m   {\n\u001b[1;32m     91\u001b[0m    \u001b[39m\"\u001b[39m\u001b[39mcell_type\u001b[39m\u001b[39m\"\u001b[39m: \u001b[39m\"\u001b[39m\u001b[39mcode\u001b[39m\u001b[39m\"\u001b[39m,\n\u001b[1;32m     92\u001b[0m    \u001b[39m\"\u001b[39m\u001b[39mexecution_count\u001b[39m\u001b[39m\"\u001b[39m: \u001b[39m17\u001b[39m,\n\u001b[1;32m     93\u001b[0m    \u001b[39m\"\u001b[39m\u001b[39mmetadata\u001b[39m\u001b[39m\"\u001b[39m: {},\n\u001b[1;32m     94\u001b[0m    \u001b[39m\"\u001b[39m\u001b[39moutputs\u001b[39m\u001b[39m\"\u001b[39m: [],\n\u001b[1;32m     95\u001b[0m    \u001b[39m\"\u001b[39m\u001b[39msource\u001b[39m\u001b[39m\"\u001b[39m: [\n\u001b[1;32m     96\u001b[0m     \u001b[39m\"\u001b[39m\u001b[39mdef print_top_words(model, vectorizer, n_top_words, n_topics=3):\u001b[39m\u001b[39m\\n\u001b[39;00m\u001b[39m\"\u001b[39m,\n\u001b[1;32m     97\u001b[0m     \u001b[39m\"\u001b[39m\u001b[39m    feature_names = vectorizer.get_feature_names_out()\u001b[39m\u001b[39m\\n\u001b[39;00m\u001b[39m\"\u001b[39m,\n\u001b[1;32m     98\u001b[0m     \u001b[39m\"\u001b[39m\u001b[39m    dist = list(enumerate(model.components_))\u001b[39m\u001b[39m\\n\u001b[39;00m\u001b[39m\"\u001b[39m,\n\u001b[1;32m     99\u001b[0m     \u001b[39m\"\u001b[39m\u001b[39m    for topic_id, topic in dist[:n_topics]:\u001b[39m\u001b[39m\\n\u001b[39;00m\u001b[39m\"\u001b[39m,\n\u001b[1;32m    100\u001b[0m     \u001b[39m\"\u001b[39m\u001b[39m        message = f\u001b[39m\u001b[39m\\\"\u001b[39;00m\u001b[39mTopic \u001b[39m\u001b[39m{topic_id}\u001b[39;00m\u001b[39m: \u001b[39m\u001b[39m\\\"\u001b[39;00m\u001b[39m\\n\u001b[39;00m\u001b[39m\"\u001b[39m,\n\u001b[1;32m    101\u001b[0m     \u001b[39m\"\u001b[39m\u001b[39m        message += \u001b[39m\u001b[39m\\\"\u001b[39;00m\u001b[39m \u001b[39m\u001b[39m\\\"\u001b[39;00m\u001b[39m.join([feature_names[i] for i in topic.argsort()[:-n_top_words - 1:-1]])\u001b[39m\u001b[39m\\n\u001b[39;00m\u001b[39m\"\u001b[39m,\n\u001b[1;32m    102\u001b[0m     \u001b[39m\"\u001b[39m\u001b[39m        print(message)\u001b[39m\u001b[39m\\n\u001b[39;00m\u001b[39m\"\u001b[39m,\n\u001b[1;32m    103\u001b[0m     \u001b[39m\"\u001b[39m\u001b[39m    print()\u001b[39m\u001b[39m\"\u001b[39m\n\u001b[1;32m    104\u001b[0m    ]\n\u001b[1;32m    105\u001b[0m   },\n\u001b[1;32m    106\u001b[0m   {\n\u001b[1;32m    107\u001b[0m    \u001b[39m\"\u001b[39m\u001b[39mcell_type\u001b[39m\u001b[39m\"\u001b[39m: \u001b[39m\"\u001b[39m\u001b[39mcode\u001b[39m\u001b[39m\"\u001b[39m,\n\u001b[1;32m    108\u001b[0m    \u001b[39m\"\u001b[39m\u001b[39mexecution_count\u001b[39m\u001b[39m\"\u001b[39m: \u001b[39m18\u001b[39m,\n\u001b[1;32m    109\u001b[0m    \u001b[39m\"\u001b[39m\u001b[39mmetadata\u001b[39m\u001b[39m\"\u001b[39m: {},\n\u001b[1;32m    110\u001b[0m    \u001b[39m\"\u001b[39m\u001b[39moutputs\u001b[39m\u001b[39m\"\u001b[39m: [\n\u001b[1;32m    111\u001b[0m     {\n\u001b[1;32m    112\u001b[0m      \u001b[39m\"\u001b[39m\u001b[39mname\u001b[39m\u001b[39m\"\u001b[39m: \u001b[39m\"\u001b[39m\u001b[39mstdout\u001b[39m\u001b[39m\"\u001b[39m,\n\u001b[1;32m    113\u001b[0m      \u001b[39m\"\u001b[39m\u001b[39moutput_type\u001b[39m\u001b[39m\"\u001b[39m: \u001b[39m\"\u001b[39m\u001b[39mstream\u001b[39m\u001b[39m\"\u001b[39m,\n\u001b[1;32m    114\u001b[0m      \u001b[39m\"\u001b[39m\u001b[39mtext\u001b[39m\u001b[39m\"\u001b[39m: [\n\u001b[1;32m    115\u001b[0m       \u001b[39m\"\u001b[39m\u001b[39mTopic 0: use like make new not technology one also design camera get work app look system vr you device well car google even video build way\u001b[39m\u001b[39m\\n\u001b[39;00m\u001b[39m\"\u001b[39m,\n\u001b[1;32m    116\u001b[0m       \u001b[39m\"\u001b[39m\u001b[39mTopic 1: say police court case officer charge judge report law arrest lawyer crime justice attorney accord lawsuit tell prosecutor claim file investigation statement prison trial department\u001b[39m\u001b[39m\\n\u001b[39;00m\u001b[39m\"\u001b[39m,\n\u001b[1;32m    117\u001b[0m       \u001b[39m\"\u001b[39m\u001b[39mTopic 2: song music album band record space release year new track time not first one video last show make singer take fight like go fan tour\u001b[39m\u001b[39m\\n\u001b[39;00m\u001b[39m\"\u001b[39m,\n\u001b[1;32m    118\u001b[0m       \u001b[39m\"\u001b[39m\u001b[39mTopic 3: health say drug study patient use medical people dr care research doctor find one year also not disease researcher cancer treatment new may percent would\u001b[39m\u001b[39m\\n\u001b[39;00m\u001b[39m\"\u001b[39m,\n\u001b[1;32m    119\u001b[0m       \u001b[39m\"\u001b[39m\u001b[39mTopic 4: zika option next section indicate icon previous menu sometimes virus chevron navigation expandable case outbreak mosquito say health spread pregnant disease woman infection microcephaly infect\u001b[39m\u001b[39m\\n\u001b[39;00m\u001b[39m\"\u001b[39m,\n\u001b[1;32m    120\u001b[0m       \u001b[39m\"\u001b[39m\u001b[39m\\n\u001b[39;00m\u001b[39m\"\u001b[39m,\n\u001b[1;32m    121\u001b[0m       \u001b[39m\"\u001b[39m\u001b[39mTopic 0: like not make get one go do good music sound time say come know play well you thing he new back re la way song\u001b[39m\u001b[39m\\n\u001b[39;00m\u001b[39m\"\u001b[39m,\n\u001b[1;32m    122\u001b[0m       \u001b[39m\"\u001b[39m\u001b[39mTopic 1: percent price stock say high oil rise market north we report fall year korea index low analyst week gain month barrel since crude last us\u001b[39m\u001b[39m\\n\u001b[39;00m\u001b[39m\"\u001b[39m,\n\u001b[1;32m    123\u001b[0m       \u001b[39m\"\u001b[39m\u001b[39mTopic 2: 2017 music song album band singer release year video record fan new twitter perform artist swift rock pop anthem tour performance one concert post take\u001b[39m\u001b[39m\\n\u001b[39;00m\u001b[39m\"\u001b[39m,\n\u001b[1;32m    124\u001b[0m       \u001b[39m\"\u001b[39m\u001b[39mTopic 3: court judge order case law ban say justice legal supreme immigration federal rule lawyer right decision appeal state would executive country us immigrant states lawsuit\u001b[39m\u001b[39m\\n\u001b[39;00m\u001b[39m\"\u001b[39m,\n\u001b[1;32m    125\u001b[0m       \u001b[39m\"\u001b[39m\u001b[39mTopic 4: trump say president we north senate nuclear would state administration korea united military secretary house states senator defense us republican trumps washington sen leader official\u001b[39m\u001b[39m\\n\u001b[39;00m\u001b[39m\"\u001b[39m,\n\u001b[1;32m    126\u001b[0m       \u001b[39m\"\u001b[39m\u001b[39m\\n\u001b[39;00m\u001b[39m\"\u001b[39m,\n\u001b[1;32m    127\u001b[0m       \u001b[39m\"\u001b[39m\u001b[39mTopic 0: woman man people one not sex many say study find make sexual work change black female even also university way white often young experience gender\u001b[39m\u001b[39m\\n\u001b[39;00m\u001b[39m\"\u001b[39m,\n\u001b[1;32m    128\u001b[0m       \u001b[39m\"\u001b[39m\u001b[39mTopic 1: not do get go like think people say re know thing make want one you really that would time well ve way see good they\u001b[39m\u001b[39m\\n\u001b[39;00m\u001b[39m\"\u001b[39m,\n\u001b[1;32m    129\u001b[0m       \u001b[39m\"\u001b[39m\u001b[39mTopic 2: 2018 get star year not good film show award like time one movie make go fan new video actor song music say look hollywood first\u001b[39m\u001b[39m\\n\u001b[39;00m\u001b[39m\"\u001b[39m,\n\u001b[1;32m    130\u001b[0m       \u001b[39m\"\u001b[39m\u001b[39mTopic 3: game player season team play first point two score lead run second league hit win three field make one last coach third four year leave\u001b[39m\u001b[39m\\n\u001b[39;00m\u001b[39m\"\u001b[39m,\n\u001b[1;32m    131\u001b[0m       \u001b[39m\"\u001b[39m\u001b[39mTopic 4: trump hill north say president korea we washington kim dc site news tel publishing suite corp discussion 900 communications subsidiary fax nw 1625 nuclear 20006\u001b[39m\u001b[39m\\n\u001b[39;00m\u001b[39m\"\u001b[39m,\n\u001b[1;32m    132\u001b[0m       \u001b[39m\"\u001b[39m\u001b[39m\\n\u001b[39;00m\u001b[39m\"\u001b[39m,\n\u001b[1;32m    133\u001b[0m       \u001b[39m\"\u001b[39m\u001b[39mTopic 0: year growth economy say rate percent month economic increase last job market we report cut quarter slow trade consumer show economist business low since fall\u001b[39m\u001b[39m\\n\u001b[39;00m\u001b[39m\"\u001b[39m,\n\u001b[1;32m    134\u001b[0m       \u001b[39m\"\u001b[39m\u001b[39mTopic 1: health say drug care patient medical study people use disease doctor dr hospital treatment year cancer report risk also case new find cause product researcher\u001b[39m\u001b[39m\\n\u001b[39;00m\u001b[39m\"\u001b[39m,\n\u001b[1;32m    135\u001b[0m       \u001b[39m\"\u001b[39m\u001b[39mTopic 2: woman film show black story say people book man year movie first also one write award actor gay series good make role play not star\u001b[39m\u001b[39m\\n\u001b[39;00m\u001b[39m\"\u001b[39m,\n\u001b[1;32m    136\u001b[0m       \u001b[39m\"\u001b[39m\u001b[39mTopic 3: say hotel dog one video sex find animal woman room restaurant new make photo insider post tell epstein also take man girl like see sexual\u001b[39m\u001b[39m\\n\u001b[39;00m\u001b[39m\"\u001b[39m,\n\u001b[1;32m    137\u001b[0m       \u001b[39m\"\u001b[39m\u001b[39mTopic 4: card movie credit disney film get star make one pay series marvel netflix also money year fee war new like earn not offer show time\u001b[39m\u001b[39m\\n\u001b[39;00m\u001b[39m\"\u001b[39m,\n\u001b[1;32m    138\u001b[0m       \u001b[39m\"\u001b[39m\u001b[39m\\n\u001b[39;00m\u001b[39m\"\u001b[39m,\n\u001b[1;32m    139\u001b[0m       \u001b[39m\"\u001b[39m\u001b[39mTopic 0: de la que en el los un del una se las para con por al es su más lo como le ha sus estado pero\u001b[39m\u001b[39m\\n\u001b[39;00m\u001b[39m\"\u001b[39m,\n\u001b[1;32m    140\u001b[0m       \u001b[39m\"\u001b[39m\u001b[39mTopic 1: iran we say iranian united states kill military iraq attack us strike saudi soleimani trump american force irans war missile president middle east oil report\u001b[39m\u001b[39m\\n\u001b[39;00m\u001b[39m\"\u001b[39m,\n\u001b[1;32m    141\u001b[0m       \u001b[39m\"\u001b[39m\u001b[39mTopic 2: datum company say business use technology customer access service network firm information tech consumer data digital cloud huawei privacy help work microsoft also could product\u001b[39m\u001b[39m\\n\u001b[39;00m\u001b[39m\"\u001b[39m,\n\u001b[1;32m    142\u001b[0m       \u001b[39m\"\u001b[39m\u001b[39mTopic 3: say event tokyo japan world postpone olympic space game cancel team march schedule sport would japanese international year ghosn hong race taiwan kong hold launch\u001b[39m\u001b[39m\\n\u001b[39;00m\u001b[39m\"\u001b[39m,\n\u001b[1;32m    143\u001b[0m       \u001b[39m\"\u001b[39m\u001b[39mTopic 4: company say business year investor market new make million one fund investment startup ceo also get like big well not time firm go work last\u001b[39m\u001b[39m\\n\u001b[39;00m\u001b[39m\"\u001b[39m,\n\u001b[1;32m    144\u001b[0m       \u001b[39m\"\u001b[39m\u001b[39m\\n\u001b[39;00m\u001b[39m\"\u001b[39m\n\u001b[1;32m    145\u001b[0m      ]\n\u001b[1;32m    146\u001b[0m     }\n\u001b[1;32m    147\u001b[0m    ],\n\u001b[1;32m    148\u001b[0m    \u001b[39m\"\u001b[39m\u001b[39msource\u001b[39m\u001b[39m\"\u001b[39m: [\n\u001b[1;32m    149\u001b[0m     \u001b[39m\"\u001b[39m\u001b[39mfor year in years:\u001b[39m\u001b[39m\\n\u001b[39;00m\u001b[39m\"\u001b[39m,\n\u001b[1;32m    150\u001b[0m     \u001b[39m\"\u001b[39m\u001b[39m    print_top_words(lda[year], vectorizer[year], n_top_words=25, n_topics=5)\u001b[39m\u001b[39m\"\u001b[39m\n\u001b[1;32m    151\u001b[0m    ]\n\u001b[1;32m    152\u001b[0m   },\n\u001b[1;32m    153\u001b[0m   {\n\u001b[1;32m    154\u001b[0m    \u001b[39m\"\u001b[39m\u001b[39mcell_type\u001b[39m\u001b[39m\"\u001b[39m: \u001b[39m\"\u001b[39m\u001b[39mcode\u001b[39m\u001b[39m\"\u001b[39m,\n\u001b[1;32m    155\u001b[0m    \u001b[39m\"\u001b[39m\u001b[39mexecution_count\u001b[39m\u001b[39m\"\u001b[39m: \u001b[39m19\u001b[39m,\n\u001b[1;32m    156\u001b[0m    \u001b[39m\"\u001b[39m\u001b[39mmetadata\u001b[39m\u001b[39m\"\u001b[39m: {},\n\u001b[1;32m    157\u001b[0m    \u001b[39m\"\u001b[39m\u001b[39moutputs\u001b[39m\u001b[39m\"\u001b[39m: [],\n\u001b[1;32m    158\u001b[0m    \u001b[39m\"\u001b[39m\u001b[39msource\u001b[39m\u001b[39m\"\u001b[39m: [\n\u001b[1;32m    159\u001b[0m     \u001b[39m\"\u001b[39m\u001b[39mdef get_k_nearest_docs(doc_dist, k=5, get_dist=False):\u001b[39m\u001b[39m\\n\u001b[39;00m\u001b[39m\"\u001b[39m,\n\u001b[1;32m    160\u001b[0m     \u001b[39m\"\u001b[39m\u001b[39m    \u001b[39m\u001b[39m'\u001b[39m\u001b[39m'\u001b[39m\u001b[39m'\u001b[39m\u001b[39m\\n\u001b[39;00m\u001b[39m\"\u001b[39m,\n\u001b[1;32m    161\u001b[0m     \u001b[39m\"\u001b[39m\u001b[39m    doc_dist: topic distribution (sums to 1) of one article\u001b[39m\u001b[39m\\n\u001b[39;00m\u001b[39m\"\u001b[39m,\n\u001b[1;32m    162\u001b[0m     \u001b[39m\"\u001b[39m\u001b[39m    \u001b[39m\u001b[39m\\n\u001b[39;00m\u001b[39m\"\u001b[39m,\n\u001b[1;32m    163\u001b[0m     \u001b[39m\"\u001b[39m\u001b[39m    Returns the index of the k nearest articles (as by Jensen–Shannon divergence in topic space). \u001b[39m\u001b[39m\\n\u001b[39;00m\u001b[39m\"\u001b[39m,\n\u001b[1;32m    164\u001b[0m     \u001b[39m\"\u001b[39m\u001b[39m    \u001b[39m\u001b[39m'\u001b[39m\u001b[39m'\u001b[39m\u001b[39m'\u001b[39m\u001b[39m\\n\u001b[39;00m\u001b[39m\"\u001b[39m,\n\u001b[1;32m    165\u001b[0m     \u001b[39m\"\u001b[39m\u001b[39m    temp = doc_topic_dist[year]\u001b[39m\u001b[39m\\n\u001b[39;00m\u001b[39m\"\u001b[39m,\n\u001b[1;32m    166\u001b[0m     \u001b[39m\"\u001b[39m\u001b[39m         \u001b[39m\u001b[39m\\n\u001b[39;00m\u001b[39m\"\u001b[39m,\n\u001b[1;32m    167\u001b[0m     \u001b[39m\"\u001b[39m\u001b[39m    distances = temp.apply(lambda x: jensenshannon(x, doc_dist), axis=1)\u001b[39m\u001b[39m\\n\u001b[39;00m\u001b[39m\"\u001b[39m,\n\u001b[1;32m    168\u001b[0m     \u001b[39m\"\u001b[39m\u001b[39m    k_nearest = distances[distances != 0].nsmallest(n=k).index\u001b[39m\u001b[39m\\n\u001b[39;00m\u001b[39m\"\u001b[39m,\n\u001b[1;32m    169\u001b[0m     \u001b[39m\"\u001b[39m\u001b[39m    \u001b[39m\u001b[39m\\n\u001b[39;00m\u001b[39m\"\u001b[39m,\n\u001b[1;32m    170\u001b[0m     \u001b[39m\"\u001b[39m\u001b[39m    if get_dist:\u001b[39m\u001b[39m\\n\u001b[39;00m\u001b[39m\"\u001b[39m,\n\u001b[1;32m    171\u001b[0m     \u001b[39m\"\u001b[39m\u001b[39m        k_distances = distances[distances != 0].nsmallest(n=k)\u001b[39m\u001b[39m\\n\u001b[39;00m\u001b[39m\"\u001b[39m,\n\u001b[1;32m    172\u001b[0m     \u001b[39m\"\u001b[39m\u001b[39m        return k_nearest, k_distances\u001b[39m\u001b[39m\\n\u001b[39;00m\u001b[39m\"\u001b[39m,\n\u001b[1;32m    173\u001b[0m     \u001b[39m\"\u001b[39m\u001b[39m    else:\u001b[39m\u001b[39m\\n\u001b[39;00m\u001b[39m\"\u001b[39m,\n\u001b[1;32m    174\u001b[0m     \u001b[39m\"\u001b[39m\u001b[39m        return k_nearest\u001b[39m\u001b[39m\"\u001b[39m\n\u001b[1;32m    175\u001b[0m    ]\n\u001b[1;32m    176\u001b[0m   },\n\u001b[1;32m    177\u001b[0m   {\n\u001b[1;32m    178\u001b[0m    \u001b[39m\"\u001b[39m\u001b[39mcell_type\u001b[39m\u001b[39m\"\u001b[39m: \u001b[39m\"\u001b[39m\u001b[39mcode\u001b[39m\u001b[39m\"\u001b[39m,\n\u001b[1;32m    179\u001b[0m    \u001b[39m\"\u001b[39m\u001b[39mexecution_count\u001b[39m\u001b[39m\"\u001b[39m: \u001b[39m20\u001b[39m,\n\u001b[1;32m    180\u001b[0m    \u001b[39m\"\u001b[39m\u001b[39mmetadata\u001b[39m\u001b[39m\"\u001b[39m: {},\n\u001b[1;32m    181\u001b[0m    \u001b[39m\"\u001b[39m\u001b[39moutputs\u001b[39m\u001b[39m\"\u001b[39m: [],\n\u001b[1;32m    182\u001b[0m    \u001b[39m\"\u001b[39m\u001b[39msource\u001b[39m\u001b[39m\"\u001b[39m: [\n\u001b[1;32m    183\u001b[0m     \u001b[39m\"\u001b[39m\u001b[39mdef compare_dnas(title, year, recommendation_title, width=20):\u001b[39m\u001b[39m\\n\u001b[39;00m\u001b[39m\"\u001b[39m,\n\u001b[1;32m    184\u001b[0m     \u001b[39m\"\u001b[39m\u001b[39m    t = df[year][df[year][\u001b[39m\u001b[39m'\u001b[39m\u001b[39mtitle\u001b[39m\u001b[39m'\u001b[39m\u001b[39m] == recommendation_title].title.values[0]\u001b[39m\u001b[39m\\n\u001b[39;00m\u001b[39m\"\u001b[39m,\n\u001b[1;32m    185\u001b[0m     \u001b[39m\"\u001b[39m\u001b[39m    temp = doc_topic_dist[year][df[year][\u001b[39m\u001b[39m'\u001b[39m\u001b[39mtitle\u001b[39m\u001b[39m'\u001b[39m\u001b[39m] == title]\u001b[39m\u001b[39m\\n\u001b[39;00m\u001b[39m\"\u001b[39m,\n\u001b[1;32m    186\u001b[0m     \u001b[39m\"\u001b[39m\u001b[39m    ymax = temp.max(axis=1).values[0]*1.25\u001b[39m\u001b[39m\\n\u001b[39;00m\u001b[39m\"\u001b[39m,\n\u001b[1;32m    187\u001b[0m     \u001b[39m\"\u001b[39m\u001b[39m    temp = pd.concat([temp, doc_topic_dist[year][df[year][\u001b[39m\u001b[39m'\u001b[39m\u001b[39mtitle\u001b[39m\u001b[39m'\u001b[39m\u001b[39m] == recommendation_title]])\u001b[39m\u001b[39m\\n\u001b[39;00m\u001b[39m\"\u001b[39m,\n\u001b[1;32m    188\u001b[0m     \u001b[39m\"\u001b[39m\u001b[39m    temp.T.plot(kind=\u001b[39m\u001b[39m'\u001b[39m\u001b[39mbar\u001b[39m\u001b[39m'\u001b[39m\u001b[39m, title=t, figsize=(width, 4), ylim= [0, ymax])\u001b[39m\u001b[39m\\n\u001b[39;00m\u001b[39m\"\u001b[39m,\n\u001b[1;32m    189\u001b[0m     \u001b[39m\"\u001b[39m\u001b[39m    plt.xlabel(\u001b[39m\u001b[39m'\u001b[39m\u001b[39mTopic\u001b[39m\u001b[39m'\u001b[39m\u001b[39m)\u001b[39m\u001b[39m\\n\u001b[39;00m\u001b[39m\"\u001b[39m,\n\u001b[1;32m    190\u001b[0m     \u001b[39m\"\u001b[39m\u001b[39m    plt.legend([\u001b[39m\u001b[39m'\u001b[39m\u001b[39mSelection\u001b[39m\u001b[39m'\u001b[39m\u001b[39m, \u001b[39m\u001b[39m'\u001b[39m\u001b[39mRecommendation\u001b[39m\u001b[39m'\u001b[39m\u001b[39m])\u001b[39m\u001b[39m\\n\u001b[39;00m\u001b[39m\"\u001b[39m,\n\u001b[1;32m    191\u001b[0m     \u001b[39m\"\u001b[39m\u001b[39m\\n\u001b[39;00m\u001b[39m\"\u001b[39m,\n\u001b[1;32m    192\u001b[0m     \u001b[39m\"\u001b[39m\u001b[39mdef compare_tabs(title, year, recommendation_ids):\u001b[39m\u001b[39m\\n\u001b[39;00m\u001b[39m\"\u001b[39m,\n\u001b[1;32m    193\u001b[0m     \u001b[39m\"\u001b[39m\u001b[39m    k = len(recommendation_ids)\u001b[39m\u001b[39m\\n\u001b[39;00m\u001b[39m\"\u001b[39m,\n\u001b[1;32m    194\u001b[0m     \u001b[39m\"\u001b[39m\u001b[39m    outs = [widgets.Output() for i in range(k)]\u001b[39m\u001b[39m\\n\u001b[39;00m\u001b[39m\"\u001b[39m,\n\u001b[1;32m    195\u001b[0m     \u001b[39m\"\u001b[39m\u001b[39m\\n\u001b[39;00m\u001b[39m\"\u001b[39m,\n\u001b[1;32m    196\u001b[0m     \u001b[39m\"\u001b[39m\u001b[39m    tab = widgets.Tab(children = outs)\u001b[39m\u001b[39m\\n\u001b[39;00m\u001b[39m\"\u001b[39m,\n\u001b[1;32m    197\u001b[0m     \u001b[39m\"\u001b[39m\u001b[39m    tab_titles = [\u001b[39m\u001b[39m'\u001b[39m\u001b[39mPaper \u001b[39m\u001b[39m'\u001b[39m\u001b[39m + str(i+1) for i in range(k)]\u001b[39m\u001b[39m\\n\u001b[39;00m\u001b[39m\"\u001b[39m,\n\u001b[1;32m    198\u001b[0m     \u001b[39m\"\u001b[39m\u001b[39m    for i, t in enumerate(tab_titles):\u001b[39m\u001b[39m\\n\u001b[39;00m\u001b[39m\"\u001b[39m,\n\u001b[1;32m    199\u001b[0m     \u001b[39m\"\u001b[39m\u001b[39m        tab.set_title(i, t)\u001b[39m\u001b[39m\\n\u001b[39;00m\u001b[39m\"\u001b[39m,\n\u001b[1;32m    200\u001b[0m     \u001b[39m\"\u001b[39m\u001b[39m    display(tab)\u001b[39m\u001b[39m\\n\u001b[39;00m\u001b[39m\"\u001b[39m,\n\u001b[1;32m    201\u001b[0m     \u001b[39m\"\u001b[39m\u001b[39m\\n\u001b[39;00m\u001b[39m\"\u001b[39m,\n\u001b[1;32m    202\u001b[0m     \u001b[39m\"\u001b[39m\u001b[39m    for i, t in enumerate(tab_titles):\u001b[39m\u001b[39m\\n\u001b[39;00m\u001b[39m\"\u001b[39m,\n\u001b[1;32m    203\u001b[0m     \u001b[39m\"\u001b[39m\u001b[39m        with outs[i]:\u001b[39m\u001b[39m\\n\u001b[39;00m\u001b[39m\"\u001b[39m,\n\u001b[1;32m    204\u001b[0m     \u001b[39m\"\u001b[39m\u001b[39m            ax = compare_dnas(title, year, recommendation_ids[i])\u001b[39m\u001b[39m\\n\u001b[39;00m\u001b[39m\"\u001b[39m,\n\u001b[1;32m    205\u001b[0m     \u001b[39m\"\u001b[39m\u001b[39m            plt.show(ax)\u001b[39m\u001b[39m\\n\u001b[39;00m\u001b[39m\"\u001b[39m,\n\u001b[1;32m    206\u001b[0m     \u001b[39m\"\u001b[39m\u001b[39m\\n\u001b[39;00m\u001b[39m\"\u001b[39m\n\u001b[1;32m    207\u001b[0m    ]\n\u001b[1;32m    208\u001b[0m   },\n\u001b[1;32m    209\u001b[0m   {\n\u001b[1;32m    210\u001b[0m    \u001b[39m\"\u001b[39m\u001b[39mcell_type\u001b[39m\u001b[39m\"\u001b[39m: \u001b[39m\"\u001b[39m\u001b[39mcode\u001b[39m\u001b[39m\"\u001b[39m,\n\u001b[1;32m    211\u001b[0m    \u001b[39m\"\u001b[39m\u001b[39mexecution_count\u001b[39m\u001b[39m\"\u001b[39m: \u001b[39m23\u001b[39m,\n\u001b[1;32m    212\u001b[0m    \u001b[39m\"\u001b[39m\u001b[39mmetadata\u001b[39m\u001b[39m\"\u001b[39m: {},\n\u001b[1;32m    213\u001b[0m    \u001b[39m\"\u001b[39m\u001b[39moutputs\u001b[39m\u001b[39m\"\u001b[39m: [],\n\u001b[1;32m    214\u001b[0m    \u001b[39m\"\u001b[39m\u001b[39msource\u001b[39m\u001b[39m\"\u001b[39m: [\n\u001b[1;32m    215\u001b[0m     \u001b[39m\"\u001b[39m\u001b[39mdef recommendation(df, doc_topic_dist, title: str, year: int, k: int=5, plot_dna=False):\u001b[39m\u001b[39m\\n\u001b[39;00m\u001b[39m\"\u001b[39m,\n\u001b[1;32m    216\u001b[0m     \u001b[39m\"\u001b[39m\u001b[39m    \u001b[39m\u001b[39m'\u001b[39m\u001b[39m'\u001b[39m\u001b[39m'\u001b[39m\u001b[39m\\n\u001b[39;00m\u001b[39m\"\u001b[39m,\n\u001b[1;32m    217\u001b[0m     \u001b[39m\"\u001b[39m\u001b[39m    Returns the title of the k papers that are closest (topic-wise) to the paper given through title.\u001b[39m\u001b[39m\\n\u001b[39;00m\u001b[39m\"\u001b[39m,\n\u001b[1;32m    218\u001b[0m     \u001b[39m\"\u001b[39m\u001b[39m    \u001b[39m\u001b[39m'\u001b[39m\u001b[39m'\u001b[39m\u001b[39m'\u001b[39m\u001b[39m\\n\u001b[39;00m\u001b[39m\"\u001b[39m,\n\u001b[1;32m    219\u001b[0m     \u001b[39m\"\u001b[39m\u001b[39m    display(df[year][df[year][\u001b[39m\u001b[39m'\u001b[39m\u001b[39mtitle\u001b[39m\u001b[39m'\u001b[39m\u001b[39m] == title])\u001b[39m\u001b[39m\\n\u001b[39;00m\u001b[39m\"\u001b[39m,\n\u001b[1;32m    220\u001b[0m     \u001b[39m\"\u001b[39m\u001b[39m\\n\u001b[39;00m\u001b[39m\"\u001b[39m,\n\u001b[1;32m    221\u001b[0m     \u001b[39m\"\u001b[39m\u001b[39m    recommended, dist = get_k_nearest_docs(doc_topic_dist[year][df[year][\u001b[39m\u001b[39m'\u001b[39m\u001b[39mtitle\u001b[39m\u001b[39m'\u001b[39m\u001b[39m] == title].iloc[0], k, get_dist=True)\u001b[39m\u001b[39m\\n\u001b[39;00m\u001b[39m\"\u001b[39m,\n\u001b[1;32m    222\u001b[0m     \u001b[39m\"\u001b[39m\u001b[39m    print(\u001b[39m\u001b[39m\\\"\u001b[39;00m\u001b[39mnot crashing at line 7\u001b[39m\u001b[39m\\\"\u001b[39;00m\u001b[39m)\u001b[39m\u001b[39m\\n\u001b[39;00m\u001b[39m\"\u001b[39m,\n\u001b[1;32m    223\u001b[0m     \u001b[39m\"\u001b[39m\u001b[39m    recommended = df[year].iloc[recommended].copy()\u001b[39m\u001b[39m\\n\u001b[39;00m\u001b[39m\"\u001b[39m,\n\u001b[1;32m    224\u001b[0m     \u001b[39m\"\u001b[39m\u001b[39m    recommended[\u001b[39m\u001b[39m'\u001b[39m\u001b[39msimilarity\u001b[39m\u001b[39m'\u001b[39m\u001b[39m] = 1 - dist \u001b[39m\u001b[39m\\n\u001b[39;00m\u001b[39m\"\u001b[39m,\n\u001b[1;32m    225\u001b[0m     \u001b[39m\"\u001b[39m\u001b[39m    \u001b[39m\u001b[39m\\n\u001b[39;00m\u001b[39m\"\u001b[39m,\n\u001b[1;32m    226\u001b[0m     \u001b[39m\"\u001b[39m\u001b[39m    h = \u001b[39m\u001b[39m'\u001b[39m\u001b[39m<br/>\u001b[39m\u001b[39m'\u001b[39m\u001b[39m.join([\u001b[39m\u001b[39m'\u001b[39m\u001b[39m<a href=\u001b[39m\u001b[39m\\\"\u001b[39;00m\u001b[39m'\u001b[39m\u001b[39m + l + \u001b[39m\u001b[39m'\u001b[39m\u001b[39m\\\"\u001b[39;00m\u001b[39m target=\u001b[39m\u001b[39m\\\"\u001b[39;00m\u001b[39m_blank\u001b[39m\u001b[39m\\\"\u001b[39;00m\u001b[39m>\u001b[39m\u001b[39m'\u001b[39m\u001b[39m+ n + \u001b[39m\u001b[39m'\u001b[39m\u001b[39m</a>\u001b[39m\u001b[39m'\u001b[39m\u001b[39m +\u001b[39m\u001b[39m'\u001b[39m\u001b[39m (Similarity: \u001b[39m\u001b[39m'\u001b[39m\u001b[39m + \u001b[39m\u001b[39m\\\"\u001b[39;00m\u001b[39m{:.2f}\u001b[39;00m\u001b[39m\\\"\u001b[39;00m\u001b[39m.format(s) + \u001b[39m\u001b[39m'\u001b[39m\u001b[39m)\u001b[39m\u001b[39m'\u001b[39m\u001b[39m for l, n, s in recommended[[\u001b[39m\u001b[39m'\u001b[39m\u001b[39murl\u001b[39m\u001b[39m'\u001b[39m\u001b[39m,\u001b[39m\u001b[39m'\u001b[39m\u001b[39mtitle\u001b[39m\u001b[39m'\u001b[39m\u001b[39m, \u001b[39m\u001b[39m'\u001b[39m\u001b[39msimilarity\u001b[39m\u001b[39m'\u001b[39m\u001b[39m]].values])\u001b[39m\u001b[39m\\n\u001b[39;00m\u001b[39m\"\u001b[39m,\n\u001b[1;32m    227\u001b[0m     \u001b[39m\"\u001b[39m\u001b[39m    display(HTML(h))\u001b[39m\u001b[39m\\n\u001b[39;00m\u001b[39m\"\u001b[39m,\n\u001b[1;32m    228\u001b[0m     \u001b[39m\"\u001b[39m\u001b[39m    \u001b[39m\u001b[39m\\n\u001b[39;00m\u001b[39m\"\u001b[39m,\n\u001b[1;32m    229\u001b[0m     \u001b[39m\"\u001b[39m\u001b[39m    if plot_dna:\u001b[39m\u001b[39m\\n\u001b[39;00m\u001b[39m\"\u001b[39m,\n\u001b[1;32m    230\u001b[0m     \u001b[39m\"\u001b[39m\u001b[39m        compare_tabs(title, year, recommended[\u001b[39m\u001b[39m'\u001b[39m\u001b[39mtitle\u001b[39m\u001b[39m'\u001b[39m\u001b[39m].values)\u001b[39m\u001b[39m\"\u001b[39m\n\u001b[1;32m    231\u001b[0m    ]\n\u001b[1;32m    232\u001b[0m   },\n\u001b[1;32m    233\u001b[0m   {\n\u001b[1;32m    234\u001b[0m    \u001b[39m\"\u001b[39m\u001b[39mcell_type\u001b[39m\u001b[39m\"\u001b[39m: \u001b[39m\"\u001b[39m\u001b[39mcode\u001b[39m\u001b[39m\"\u001b[39m,\n\u001b[1;32m    235\u001b[0m    \u001b[39m\"\u001b[39m\u001b[39mexecution_count\u001b[39m\u001b[39m\"\u001b[39m: \u001b[39m24\u001b[39m,\n\u001b[1;32m    236\u001b[0m    \u001b[39m\"\u001b[39m\u001b[39mmetadata\u001b[39m\u001b[39m\"\u001b[39m: {},\n\u001b[1;32m    237\u001b[0m    \u001b[39m\"\u001b[39m\u001b[39moutputs\u001b[39m\u001b[39m\"\u001b[39m: [\n\u001b[1;32m    238\u001b[0m     {\n\u001b[1;32m    239\u001b[0m      \u001b[39m\"\u001b[39m\u001b[39mdata\u001b[39m\u001b[39m\"\u001b[39m: {\n\u001b[1;32m    240\u001b[0m       \u001b[39m\"\u001b[39m\u001b[39mtext/html\u001b[39m\u001b[39m\"\u001b[39m: [\n\u001b[1;32m    241\u001b[0m        \u001b[39m\"\u001b[39m\u001b[39m<div>\u001b[39m\u001b[39m\\n\u001b[39;00m\u001b[39m\"\u001b[39m,\n\u001b[1;32m    242\u001b[0m        \u001b[39m\"\u001b[39m\u001b[39m<style scoped>\u001b[39m\u001b[39m\\n\u001b[39;00m\u001b[39m\"\u001b[39m,\n\u001b[1;32m    243\u001b[0m        \u001b[39m\"\u001b[39m\u001b[39m    .dataframe tbody tr th:only-of-type \u001b[39m\u001b[39m{\u001b[39m\u001b[39m\\n\u001b[39;00m\u001b[39m\"\u001b[39m,\n\u001b[1;32m    244\u001b[0m        \u001b[39m\"\u001b[39m\u001b[39m        vertical-align: middle;\u001b[39m\u001b[39m\\n\u001b[39;00m\u001b[39m\"\u001b[39m,\n\u001b[1;32m    245\u001b[0m        \u001b[39m\"\u001b[39m\u001b[39m    }\u001b[39m\u001b[39m\\n\u001b[39;00m\u001b[39m\"\u001b[39m,\n\u001b[1;32m    246\u001b[0m        \u001b[39m\"\u001b[39m\u001b[39m\\n\u001b[39;00m\u001b[39m\"\u001b[39m,\n\u001b[1;32m    247\u001b[0m        \u001b[39m\"\u001b[39m\u001b[39m    .dataframe tbody tr th \u001b[39m\u001b[39m{\u001b[39m\u001b[39m\\n\u001b[39;00m\u001b[39m\"\u001b[39m,\n\u001b[1;32m    248\u001b[0m        \u001b[39m\"\u001b[39m\u001b[39m        vertical-align: top;\u001b[39m\u001b[39m\\n\u001b[39;00m\u001b[39m\"\u001b[39m,\n\u001b[1;32m    249\u001b[0m        \u001b[39m\"\u001b[39m\u001b[39m    }\u001b[39m\u001b[39m\\n\u001b[39;00m\u001b[39m\"\u001b[39m,\n\u001b[1;32m    250\u001b[0m        \u001b[39m\"\u001b[39m\u001b[39m\\n\u001b[39;00m\u001b[39m\"\u001b[39m,\n\u001b[1;32m    251\u001b[0m        \u001b[39m\"\u001b[39m\u001b[39m    .dataframe thead th \u001b[39m\u001b[39m{\u001b[39m\u001b[39m\\n\u001b[39;00m\u001b[39m\"\u001b[39m,\n\u001b[1;32m    252\u001b[0m        \u001b[39m\"\u001b[39m\u001b[39m        text-align: right;\u001b[39m\u001b[39m\\n\u001b[39;00m\u001b[39m\"\u001b[39m,\n\u001b[1;32m    253\u001b[0m        \u001b[39m\"\u001b[39m\u001b[39m    }\u001b[39m\u001b[39m\\n\u001b[39;00m\u001b[39m\"\u001b[39m,\n\u001b[1;32m    254\u001b[0m        \u001b[39m\"\u001b[39m\u001b[39m</style>\u001b[39m\u001b[39m\\n\u001b[39;00m\u001b[39m\"\u001b[39m,\n\u001b[1;32m    255\u001b[0m        \u001b[39m\"\u001b[39m\u001b[39m<table border=\u001b[39m\u001b[39m\\\"\u001b[39;00m\u001b[39m1\u001b[39m\u001b[39m\\\"\u001b[39;00m\u001b[39m class=\u001b[39m\u001b[39m\\\"\u001b[39;00m\u001b[39mdataframe\u001b[39m\u001b[39m\\\"\u001b[39;00m\u001b[39m>\u001b[39m\u001b[39m\\n\u001b[39;00m\u001b[39m\"\u001b[39m,\n\u001b[1;32m    256\u001b[0m        \u001b[39m\"\u001b[39m\u001b[39m  <thead>\u001b[39m\u001b[39m\\n\u001b[39;00m\u001b[39m\"\u001b[39m,\n\u001b[1;32m    257\u001b[0m        \u001b[39m\"\u001b[39m\u001b[39m    <tr style=\u001b[39m\u001b[39m\\\"\u001b[39;00m\u001b[39mtext-align: right;\u001b[39m\u001b[39m\\\"\u001b[39;00m\u001b[39m>\u001b[39m\u001b[39m\\n\u001b[39;00m\u001b[39m\"\u001b[39m,\n\u001b[1;32m    258\u001b[0m        \u001b[39m\"\u001b[39m\u001b[39m      <th></th>\u001b[39m\u001b[39m\\n\u001b[39;00m\u001b[39m\"\u001b[39m,\n\u001b[1;32m    259\u001b[0m        \u001b[39m\"\u001b[39m\u001b[39m      <th>year</th>\u001b[39m\u001b[39m\\n\u001b[39;00m\u001b[39m\"\u001b[39m,\n\u001b[1;32m    260\u001b[0m        \u001b[39m\"\u001b[39m\u001b[39m      <th>date</th>\u001b[39m\u001b[39m\\n\u001b[39;00m\u001b[39m\"\u001b[39m,\n\u001b[1;32m    261\u001b[0m        \u001b[39m\"\u001b[39m\u001b[39m      <th>month</th>\u001b[39m\u001b[39m\\n\u001b[39;00m\u001b[39m\"\u001b[39m,\n\u001b[1;32m    262\u001b[0m        \u001b[39m\"\u001b[39m\u001b[39m      <th>day</th>\u001b[39m\u001b[39m\\n\u001b[39;00m\u001b[39m\"\u001b[39m,\n\u001b[1;32m    263\u001b[0m        \u001b[39m\"\u001b[39m\u001b[39m      <th>author</th>\u001b[39m\u001b[39m\\n\u001b[39;00m\u001b[39m\"\u001b[39m,\n\u001b[1;32m    264\u001b[0m        \u001b[39m\"\u001b[39m\u001b[39m      <th>title</th>\u001b[39m\u001b[39m\\n\u001b[39;00m\u001b[39m\"\u001b[39m,\n\u001b[1;32m    265\u001b[0m        \u001b[39m\"\u001b[39m\u001b[39m      <th>article</th>\u001b[39m\u001b[39m\\n\u001b[39;00m\u001b[39m\"\u001b[39m,\n\u001b[1;32m    266\u001b[0m        \u001b[39m\"\u001b[39m\u001b[39m      <th>url</th>\u001b[39m\u001b[39m\\n\u001b[39;00m\u001b[39m\"\u001b[39m,\n\u001b[1;32m    267\u001b[0m        \u001b[39m\"\u001b[39m\u001b[39m      <th>section</th>\u001b[39m\u001b[39m\\n\u001b[39;00m\u001b[39m\"\u001b[39m,\n\u001b[1;32m    268\u001b[0m        \u001b[39m\"\u001b[39m\u001b[39m      <th>publication</th>\u001b[39m\u001b[39m\\n\u001b[39;00m\u001b[39m\"\u001b[39m,\n\u001b[1;32m    269\u001b[0m        \u001b[39m\"\u001b[39m\u001b[39m    </tr>\u001b[39m\u001b[39m\\n\u001b[39;00m\u001b[39m\"\u001b[39m,\n\u001b[1;32m    270\u001b[0m        \u001b[39m\"\u001b[39m\u001b[39m  </thead>\u001b[39m\u001b[39m\\n\u001b[39;00m\u001b[39m\"\u001b[39m,\n\u001b[1;32m    271\u001b[0m        \u001b[39m\"\u001b[39m\u001b[39m  <tbody>\u001b[39m\u001b[39m\\n\u001b[39;00m\u001b[39m\"\u001b[39m,\n\u001b[1;32m    272\u001b[0m        \u001b[39m\"\u001b[39m\u001b[39m    <tr>\u001b[39m\u001b[39m\\n\u001b[39;00m\u001b[39m\"\u001b[39m,\n\u001b[1;32m    273\u001b[0m        \u001b[39m\"\u001b[39m\u001b[39m      <th>3</th>\u001b[39m\u001b[39m\\n\u001b[39;00m\u001b[39m\"\u001b[39m,\n\u001b[1;32m    274\u001b[0m        \u001b[39m\"\u001b[39m\u001b[39m      <td>2020</td>\u001b[39m\u001b[39m\\n\u001b[39;00m\u001b[39m\"\u001b[39m,\n\u001b[1;32m    275\u001b[0m        \u001b[39m\"\u001b[39m\u001b[39m      <td>2020-01-17 00:00:00</td>\u001b[39m\u001b[39m\\n\u001b[39;00m\u001b[39m\"\u001b[39m,\n\u001b[1;32m    276\u001b[0m        \u001b[39m\"\u001b[39m\u001b[39m      <td>1.0</td>\u001b[39m\u001b[39m\\n\u001b[39;00m\u001b[39m\"\u001b[39m,\n\u001b[1;32m    277\u001b[0m        \u001b[39m\"\u001b[39m\u001b[39m      <td>17</td>\u001b[39m\u001b[39m\\n\u001b[39;00m\u001b[39m\"\u001b[39m,\n\u001b[1;32m    278\u001b[0m        \u001b[39m\"\u001b[39m\u001b[39m      <td>NaN</td>\u001b[39m\u001b[39m\\n\u001b[39;00m\u001b[39m\"\u001b[39m,\n\u001b[1;32m    279\u001b[0m        \u001b[39m\"\u001b[39m\u001b[39m      <td>U.S. manufacturing output rises unexpectedly</td>\u001b[39m\u001b[39m\\n\u001b[39;00m\u001b[39m\"\u001b[39m,\n\u001b[1;32m    280\u001b[0m        \u001b[39m\"\u001b[39m\u001b[39m      <td>washington reuter we manufacture output rise u...</td>\u001b[39m\u001b[39m\\n\u001b[39;00m\u001b[39m\"\u001b[39m,\n\u001b[1;32m    281\u001b[0m        \u001b[39m\"\u001b[39m\u001b[39m      <td>https://www.reuters.com/article/us-usa-economy...</td>\u001b[39m\u001b[39m\\n\u001b[39;00m\u001b[39m\"\u001b[39m,\n\u001b[1;32m    282\u001b[0m        \u001b[39m\"\u001b[39m\u001b[39m      <td>Business News</td>\u001b[39m\u001b[39m\\n\u001b[39;00m\u001b[39m\"\u001b[39m,\n\u001b[1;32m    283\u001b[0m        \u001b[39m\"\u001b[39m\u001b[39m      <td>Reuters</td>\u001b[39m\u001b[39m\\n\u001b[39;00m\u001b[39m\"\u001b[39m,\n\u001b[1;32m    284\u001b[0m        \u001b[39m\"\u001b[39m\u001b[39m    </tr>\u001b[39m\u001b[39m\\n\u001b[39;00m\u001b[39m\"\u001b[39m,\n\u001b[1;32m    285\u001b[0m        \u001b[39m\"\u001b[39m\u001b[39m  </tbody>\u001b[39m\u001b[39m\\n\u001b[39;00m\u001b[39m\"\u001b[39m,\n\u001b[1;32m    286\u001b[0m        \u001b[39m\"\u001b[39m\u001b[39m</table>\u001b[39m\u001b[39m\\n\u001b[39;00m\u001b[39m\"\u001b[39m,\n\u001b[1;32m    287\u001b[0m        \u001b[39m\"\u001b[39m\u001b[39m</div>\u001b[39m\u001b[39m\"\u001b[39m\n\u001b[1;32m    288\u001b[0m       ],\n\u001b[1;32m    289\u001b[0m       \u001b[39m\"\u001b[39m\u001b[39mtext/plain\u001b[39m\u001b[39m\"\u001b[39m: [\n\u001b[1;32m    290\u001b[0m        \u001b[39m\"\u001b[39m\u001b[39m   year                 date  month  day author  \u001b[39m\u001b[39m\\\\\u001b[39;00m\u001b[39m\\n\u001b[39;00m\u001b[39m\"\u001b[39m,\n\u001b[1;32m    291\u001b[0m        \u001b[39m\"\u001b[39m\u001b[39m3  2020  2020-01-17 00:00:00    1.0   17    NaN   \u001b[39m\u001b[39m\\n\u001b[39;00m\u001b[39m\"\u001b[39m,\n\u001b[1;32m    292\u001b[0m        \u001b[39m\"\u001b[39m\u001b[39m\\n\u001b[39;00m\u001b[39m\"\u001b[39m,\n\u001b[1;32m    293\u001b[0m        \u001b[39m\"\u001b[39m\u001b[39m                                          title  \u001b[39m\u001b[39m\\\\\u001b[39;00m\u001b[39m\\n\u001b[39;00m\u001b[39m\"\u001b[39m,\n\u001b[1;32m    294\u001b[0m        \u001b[39m\"\u001b[39m\u001b[39m3  U.S. manufacturing output rises unexpectedly   \u001b[39m\u001b[39m\\n\u001b[39;00m\u001b[39m\"\u001b[39m,\n\u001b[1;32m    295\u001b[0m        \u001b[39m\"\u001b[39m\u001b[39m\\n\u001b[39;00m\u001b[39m\"\u001b[39m,\n\u001b[1;32m    296\u001b[0m        \u001b[39m\"\u001b[39m\u001b[39m                                             article  \u001b[39m\u001b[39m\\\\\u001b[39;00m\u001b[39m\\n\u001b[39;00m\u001b[39m\"\u001b[39m,\n\u001b[1;32m    297\u001b[0m        \u001b[39m\"\u001b[39m\u001b[39m3  washington reuter we manufacture output rise u...   \u001b[39m\u001b[39m\\n\u001b[39;00m\u001b[39m\"\u001b[39m,\n\u001b[1;32m    298\u001b[0m        \u001b[39m\"\u001b[39m\u001b[39m\\n\u001b[39;00m\u001b[39m\"\u001b[39m,\n\u001b[1;32m    299\u001b[0m        \u001b[39m\"\u001b[39m\u001b[39m                                                 url        section  \u001b[39m\u001b[39m\\\\\u001b[39;00m\u001b[39m\\n\u001b[39;00m\u001b[39m\"\u001b[39m,\n\u001b[1;32m    300\u001b[0m        \u001b[39m\"\u001b[39m\u001b[39m3  https://www.reuters.com/article/us-usa-economy...  Business News   \u001b[39m\u001b[39m\\n\u001b[39;00m\u001b[39m\"\u001b[39m,\n\u001b[1;32m    301\u001b[0m        \u001b[39m\"\u001b[39m\u001b[39m\\n\u001b[39;00m\u001b[39m\"\u001b[39m,\n\u001b[1;32m    302\u001b[0m        \u001b[39m\"\u001b[39m\u001b[39m  publication  \u001b[39m\u001b[39m\\n\u001b[39;00m\u001b[39m\"\u001b[39m,\n\u001b[1;32m    303\u001b[0m        \u001b[39m\"\u001b[39m\u001b[39m3     Reuters  \u001b[39m\u001b[39m\"\u001b[39m\n\u001b[1;32m    304\u001b[0m       ]\n\u001b[1;32m    305\u001b[0m      },\n\u001b[1;32m    306\u001b[0m      \u001b[39m\"\u001b[39m\u001b[39mmetadata\u001b[39m\u001b[39m\"\u001b[39m: {},\n\u001b[1;32m    307\u001b[0m      \u001b[39m\"\u001b[39m\u001b[39moutput_type\u001b[39m\u001b[39m\"\u001b[39m: \u001b[39m\"\u001b[39m\u001b[39mdisplay_data\u001b[39m\u001b[39m\"\u001b[39m\n\u001b[1;32m    308\u001b[0m     },\n\u001b[1;32m    309\u001b[0m     {\n\u001b[1;32m    310\u001b[0m      \u001b[39m\"\u001b[39m\u001b[39mdata\u001b[39m\u001b[39m\"\u001b[39m: {\n\u001b[1;32m    311\u001b[0m       \u001b[39m\"\u001b[39m\u001b[39mtext/html\u001b[39m\u001b[39m\"\u001b[39m: [\n\u001b[1;32m    312\u001b[0m        \u001b[39m\"\u001b[39m\u001b[39m<a href=\u001b[39m\u001b[39m\\\"\u001b[39;00m\u001b[39mhttps://www.reuters.com/article/russia-gdp-oil/russia-faces-2020-budget-deficit-of-09-of-gdp-at-current-oil-prices-idUSL8N2B708D\u001b[39m\u001b[39m\\\"\u001b[39;00m\u001b[39m target=\u001b[39m\u001b[39m\\\"\u001b[39;00m\u001b[39m_blank\u001b[39m\u001b[39m\\\"\u001b[39;00m\u001b[39m>Russia faces 2020 budget deficit of 0.9\u001b[39m\u001b[39m% o\u001b[39;00m\u001b[39mf GDP at current oil prices</a> (Similarity: 0.76)<br/><a href=\u001b[39m\u001b[39m\\\"\u001b[39;00m\u001b[39mhttps://www.reuters.com/article/mexico-inflation/update-1-mexico-inflation-in-december-was-lowest-in-more-than-3-years-idUSL1N29E0IO\u001b[39m\u001b[39m\\\"\u001b[39;00m\u001b[39m target=\u001b[39m\u001b[39m\\\"\u001b[39;00m\u001b[39m_blank\u001b[39m\u001b[39m\\\"\u001b[39;00m\u001b[39m>UPDATE 1-Mexico inflation in December was lowest in more than 3 years</a> (Similarity: 0.74)<br/><a href=\u001b[39m\u001b[39m\\\"\u001b[39;00m\u001b[39mhttps://www.cnbc.com/2020/03/16/reuters-america-world-looking-at-possible-buildup-of-the-most-extreme-oil-surplus-ever-recorded--ihs-markit.html\u001b[39m\u001b[39m\\\"\u001b[39;00m\u001b[39m target=\u001b[39m\u001b[39m\\\"\u001b[39;00m\u001b[39m_blank\u001b[39m\u001b[39m\\\"\u001b[39;00m\u001b[39m>World looking at possible buildup of the most extreme oil surplus ever recorded - IHS Markit</a> (Similarity: 0.73)<br/><a href=\u001b[39m\u001b[39m\\\"\u001b[39;00m\u001b[39mhttps://www.reuters.com/article/us-japan-economy-spending/japan-household-spending-falls-again-in-november-gloom-may-persist-idUSKBN1Z82UD\u001b[39m\u001b[39m\\\"\u001b[39;00m\u001b[39m target=\u001b[39m\u001b[39m\\\"\u001b[39;00m\u001b[39m_blank\u001b[39m\u001b[39m\\\"\u001b[39;00m\u001b[39m>Japan household spending falls again in November gloom may persist</a> (Similarity: 0.73)<br/><a href=\u001b[39m\u001b[39m\\\"\u001b[39;00m\u001b[39mhttps://www.reuters.com/article/brazil-economy-retail-sales/brazil-retail-sales-fall-1-in-january-ibge-idUSS0N2AV01U\u001b[39m\u001b[39m\\\"\u001b[39;00m\u001b[39m target=\u001b[39m\u001b[39m\\\"\u001b[39;00m\u001b[39m_blank\u001b[39m\u001b[39m\\\"\u001b[39;00m\u001b[39m>Brazil retail sales fall 1\u001b[39m\u001b[39m% i\u001b[39;00m\u001b[39mn January - IBGE</a> (Similarity: 0.73)<br/><a href=\u001b[39m\u001b[39m\\\"\u001b[39;00m\u001b[39mhttps://www.reuters.com/article/kyrgyzstan-rates/kyrgyzstans-central-bank-raises-policy-rate-to-50-idUSR4N23502A\u001b[39m\u001b[39m\\\"\u001b[39;00m\u001b[39m target=\u001b[39m\u001b[39m\\\"\u001b[39;00m\u001b[39m_blank\u001b[39m\u001b[39m\\\"\u001b[39;00m\u001b[39m>Kyrgyzstan\u001b[39m\u001b[39m'\u001b[39m\u001b[39ms central bank raises policy rate to 5.0\u001b[39m\u001b[39m%\u001b[39m\u001b[39m</a> (Similarity: 0.72)<br/><a href=\u001b[39m\u001b[39m\\\"\u001b[39;00m\u001b[39mhttps://www.reuters.com/article/saudi-economy-imf/imf-trims-2020-saudi-growth-forecast-to-19-on-lower-oil-output-idUSL8N29O0CL\u001b[39m\u001b[39m\\\"\u001b[39;00m\u001b[39m target=\u001b[39m\u001b[39m\\\"\u001b[39;00m\u001b[39m_blank\u001b[39m\u001b[39m\\\"\u001b[39;00m\u001b[39m>IMF trims 2020 Saudi growth forecast to 1.9\u001b[39m\u001b[39m% o\u001b[39;00m\u001b[39mn lower oil output</a> (Similarity: 0.72)<br/><a href=\u001b[39m\u001b[39m\\\"\u001b[39;00m\u001b[39mhttps://www.cnbc.com/2020/01/29/reuters-america-u-s-goods-trade-deficit-jumps-in-december.html\u001b[39m\u001b[39m\\\"\u001b[39;00m\u001b[39m target=\u001b[39m\u001b[39m\\\"\u001b[39;00m\u001b[39m_blank\u001b[39m\u001b[39m\\\"\u001b[39;00m\u001b[39m>U.S. goods trade deficit jumps in December</a> (Similarity: 0.71)<br/><a href=\u001b[39m\u001b[39m\\\"\u001b[39;00m\u001b[39mhttps://www.reuters.com/article/germany-economy-industrialoutput/german-industry-output-suffers-biggest-slump-since-2009-idUSL8N2A71JD\u001b[39m\u001b[39m\\\"\u001b[39;00m\u001b[39m target=\u001b[39m\u001b[39m\\\"\u001b[39;00m\u001b[39m_blank\u001b[39m\u001b[39m\\\"\u001b[39;00m\u001b[39m>German industry output suffers biggest slump since 2009</a> (Similarity: 0.71)<br/><a href=\u001b[39m\u001b[39m\\\"\u001b[39;00m\u001b[39mhttps://www.cnbc.com/2020/03/13/reuters-america-u-s-import-prices-fall-in-february.html\u001b[39m\u001b[39m\\\"\u001b[39;00m\u001b[39m target=\u001b[39m\u001b[39m\\\"\u001b[39;00m\u001b[39m_blank\u001b[39m\u001b[39m\\\"\u001b[39;00m\u001b[39m>U.S. import prices fall in February</a> (Similarity: 0.70)\u001b[39m\u001b[39m\"\u001b[39m\n\u001b[1;32m    313\u001b[0m       ],\n\u001b[1;32m    314\u001b[0m       \u001b[39m\"\u001b[39m\u001b[39mtext/plain\u001b[39m\u001b[39m\"\u001b[39m: [\n\u001b[1;32m    315\u001b[0m        \u001b[39m\"\u001b[39m\u001b[39m<IPython.core.display.HTML object>\u001b[39m\u001b[39m\"\u001b[39m\n\u001b[1;32m    316\u001b[0m       ]\n\u001b[1;32m    317\u001b[0m      },\n\u001b[1;32m    318\u001b[0m      \u001b[39m\"\u001b[39m\u001b[39mmetadata\u001b[39m\u001b[39m\"\u001b[39m: {},\n\u001b[1;32m    319\u001b[0m      \u001b[39m\"\u001b[39m\u001b[39moutput_type\u001b[39m\u001b[39m\"\u001b[39m: \u001b[39m\"\u001b[39m\u001b[39mdisplay_data\u001b[39m\u001b[39m\"\u001b[39m\n\u001b[1;32m    320\u001b[0m     },\n\u001b[1;32m    321\u001b[0m     {\n\u001b[1;32m    322\u001b[0m      \u001b[39m\"\u001b[39m\u001b[39mdata\u001b[39m\u001b[39m\"\u001b[39m: {\n\u001b[1;32m    323\u001b[0m       \u001b[39m\"\u001b[39m\u001b[39mapplication/vnd.jupyter.widget-view+json\u001b[39m\u001b[39m\"\u001b[39m: {\n\u001b[1;32m    324\u001b[0m        \u001b[39m\"\u001b[39m\u001b[39mmodel_id\u001b[39m\u001b[39m\"\u001b[39m: \u001b[39m\"\u001b[39m\u001b[39m17dd2cafd1eb4ac2b8a7456f28d2436c\u001b[39m\u001b[39m\"\u001b[39m,\n\u001b[1;32m    325\u001b[0m        \u001b[39m\"\u001b[39m\u001b[39mversion_major\u001b[39m\u001b[39m\"\u001b[39m: \u001b[39m2\u001b[39m,\n\u001b[1;32m    326\u001b[0m        \u001b[39m\"\u001b[39m\u001b[39mversion_minor\u001b[39m\u001b[39m\"\u001b[39m: \u001b[39m0\u001b[39m\n\u001b[1;32m    327\u001b[0m       },\n\u001b[1;32m    328\u001b[0m       \u001b[39m\"\u001b[39m\u001b[39mtext/plain\u001b[39m\u001b[39m\"\u001b[39m: [\n\u001b[1;32m    329\u001b[0m        \u001b[39m\"\u001b[39m\u001b[39mTab(children=(Output(), Output(), Output(), Output(), Output(), Output(), Output(), Output(), Output(), Output…\u001b[39m\u001b[39m\"\u001b[39m\n\u001b[1;32m    330\u001b[0m       ]\n\u001b[1;32m    331\u001b[0m      },\n\u001b[1;32m    332\u001b[0m      \u001b[39m\"\u001b[39m\u001b[39mmetadata\u001b[39m\u001b[39m\"\u001b[39m: {},\n\u001b[1;32m    333\u001b[0m      \u001b[39m\"\u001b[39m\u001b[39moutput_type\u001b[39m\u001b[39m\"\u001b[39m: \u001b[39m\"\u001b[39m\u001b[39mdisplay_data\u001b[39m\u001b[39m\"\u001b[39m\n\u001b[1;32m    334\u001b[0m     }\n\u001b[1;32m    335\u001b[0m    ],\n\u001b[1;32m    336\u001b[0m    \u001b[39m\"\u001b[39m\u001b[39msource\u001b[39m\u001b[39m\"\u001b[39m: [\n\u001b[1;32m    337\u001b[0m     \u001b[39m\"\u001b[39m\u001b[39mrecommendation(df, doc_topic_dist, \u001b[39m\u001b[39m\\\"\u001b[39;00m\u001b[39mU.S. manufacturing output rises unexpectedly\u001b[39m\u001b[39m\\\"\u001b[39;00m\u001b[39m, 2020, k=10, plot_dna=True)\u001b[39m\u001b[39m\"\u001b[39m\n\u001b[1;32m    338\u001b[0m    ]\n\u001b[1;32m    339\u001b[0m   },\n\u001b[1;32m    340\u001b[0m   {\n\u001b[1;32m    341\u001b[0m    \u001b[39m\"\u001b[39m\u001b[39mcell_type\u001b[39m\u001b[39m\"\u001b[39m: \u001b[39m\"\u001b[39m\u001b[39mcode\u001b[39m\u001b[39m\"\u001b[39m,\n\u001b[1;32m    342\u001b[0m    \u001b[39m\"\u001b[39m\u001b[39mexecution_count\u001b[39m\u001b[39m\"\u001b[39m: null,\n\u001b[1;32m    343\u001b[0m    \u001b[39m\"\u001b[39m\u001b[39mmetadata\u001b[39m\u001b[39m\"\u001b[39m: {},\n\u001b[1;32m    344\u001b[0m    \u001b[39m\"\u001b[39m\u001b[39moutputs\u001b[39m\u001b[39m\"\u001b[39m: [],\n\u001b[1;32m    345\u001b[0m    \u001b[39m\"\u001b[39m\u001b[39msource\u001b[39m\u001b[39m\"\u001b[39m: [\n\u001b[1;32m    346\u001b[0m     \u001b[39m\"\u001b[39m\u001b[39mdef relevant_articles(tasks, year, k=5):\u001b[39m\u001b[39m\\n\u001b[39;00m\u001b[39m\"\u001b[39m,\n\u001b[1;32m    347\u001b[0m     \u001b[39m\"\u001b[39m\u001b[39m    tasks = [tasks] if type(tasks) is str else tasks \u001b[39m\u001b[39m\\n\u001b[39;00m\u001b[39m\"\u001b[39m,\n\u001b[1;32m    348\u001b[0m     \u001b[39m\"\u001b[39m\u001b[39m    \u001b[39m\u001b[39m\\n\u001b[39;00m\u001b[39m\"\u001b[39m,\n\u001b[1;32m    349\u001b[0m     \u001b[39m\"\u001b[39m\u001b[39m    tasks_vectorized = vectorizer[year].transform(tasks)\u001b[39m\u001b[39m\\n\u001b[39;00m\u001b[39m\"\u001b[39m,\n\u001b[1;32m    350\u001b[0m     \u001b[39m\"\u001b[39m\u001b[39m    tasks_topic_dist = pd.DataFrame(lda[year].transform(tasks_vectorized))\u001b[39m\u001b[39m\\n\u001b[39;00m\u001b[39m\"\u001b[39m,\n\u001b[1;32m    351\u001b[0m     \u001b[39m\"\u001b[39m\u001b[39m\\n\u001b[39;00m\u001b[39m\"\u001b[39m,\n\u001b[1;32m    352\u001b[0m     \u001b[39m\"\u001b[39m\u001b[39m    for index, bullet in enumerate(tasks):\u001b[39m\u001b[39m\\n\u001b[39;00m\u001b[39m\"\u001b[39m,\n\u001b[1;32m    353\u001b[0m     \u001b[39m\"\u001b[39m\u001b[39m        print(bullet)\u001b[39m\u001b[39m\\n\u001b[39;00m\u001b[39m\"\u001b[39m,\n\u001b[1;32m    354\u001b[0m     \u001b[39m\"\u001b[39m\u001b[39m        recommended, dist = get_k_nearest_docs(tasks_topic_dist.iloc[index], k, get_dist=True)\u001b[39m\u001b[39m\\n\u001b[39;00m\u001b[39m\"\u001b[39m,\n\u001b[1;32m    355\u001b[0m     \u001b[39m\"\u001b[39m\u001b[39m        recommended = df[year].iloc[recommended].copy()\u001b[39m\u001b[39m\\n\u001b[39;00m\u001b[39m\"\u001b[39m,\n\u001b[1;32m    356\u001b[0m     \u001b[39m\"\u001b[39m\u001b[39m        recommended[\u001b[39m\u001b[39m'\u001b[39m\u001b[39msimilarity\u001b[39m\u001b[39m'\u001b[39m\u001b[39m] = 1 - dist \u001b[39m\u001b[39m\\n\u001b[39;00m\u001b[39m\"\u001b[39m,\n\u001b[1;32m    357\u001b[0m     \u001b[39m\"\u001b[39m\u001b[39m\\n\u001b[39;00m\u001b[39m\"\u001b[39m,\n\u001b[1;32m    358\u001b[0m     \u001b[39m\"\u001b[39m\u001b[39m        h = \u001b[39m\u001b[39m'\u001b[39m\u001b[39m<br/>\u001b[39m\u001b[39m'\u001b[39m\u001b[39m.join([\u001b[39m\u001b[39m'\u001b[39m\u001b[39m<a href=\u001b[39m\u001b[39m\\\"\u001b[39;00m\u001b[39m'\u001b[39m\u001b[39m + l + \u001b[39m\u001b[39m'\u001b[39m\u001b[39m\\\"\u001b[39;00m\u001b[39m target=\u001b[39m\u001b[39m\\\"\u001b[39;00m\u001b[39m_blank\u001b[39m\u001b[39m\\\"\u001b[39;00m\u001b[39m>\u001b[39m\u001b[39m'\u001b[39m\u001b[39m+ n + \u001b[39m\u001b[39m'\u001b[39m\u001b[39m</a>\u001b[39m\u001b[39m'\u001b[39m\u001b[39m +\u001b[39m\u001b[39m'\u001b[39m\u001b[39m (Similarity: \u001b[39m\u001b[39m'\u001b[39m\u001b[39m + \u001b[39m\u001b[39m\\\"\u001b[39;00m\u001b[39m{:.2f}\u001b[39;00m\u001b[39m\\\"\u001b[39;00m\u001b[39m.format(s) + \u001b[39m\u001b[39m'\u001b[39m\u001b[39m)\u001b[39m\u001b[39m'\u001b[39m\u001b[39m for l, n, s in recommended[[\u001b[39m\u001b[39m'\u001b[39m\u001b[39murl\u001b[39m\u001b[39m'\u001b[39m\u001b[39m,\u001b[39m\u001b[39m'\u001b[39m\u001b[39mtitle\u001b[39m\u001b[39m'\u001b[39m\u001b[39m, \u001b[39m\u001b[39m'\u001b[39m\u001b[39msimilarity\u001b[39m\u001b[39m'\u001b[39m\u001b[39m]].values])\u001b[39m\u001b[39m\\n\u001b[39;00m\u001b[39m\"\u001b[39m,\n\u001b[1;32m    359\u001b[0m     \u001b[39m\"\u001b[39m\u001b[39m        display(HTML(h))\u001b[39m\u001b[39m\"\u001b[39m\n\u001b[1;32m    360\u001b[0m    ]\n\u001b[1;32m    361\u001b[0m   },\n\u001b[1;32m    362\u001b[0m   {\n\u001b[1;32m    363\u001b[0m    \u001b[39m\"\u001b[39m\u001b[39mcell_type\u001b[39m\u001b[39m\"\u001b[39m: \u001b[39m\"\u001b[39m\u001b[39mcode\u001b[39m\u001b[39m\"\u001b[39m,\n\u001b[1;32m    364\u001b[0m    \u001b[39m\"\u001b[39m\u001b[39mexecution_count\u001b[39m\u001b[39m\"\u001b[39m: null,\n\u001b[1;32m    365\u001b[0m    \u001b[39m\"\u001b[39m\u001b[39mmetadata\u001b[39m\u001b[39m\"\u001b[39m: {},\n\u001b[1;32m    366\u001b[0m    \u001b[39m\"\u001b[39m\u001b[39moutputs\u001b[39m\u001b[39m\"\u001b[39m: [],\n\u001b[1;32m    367\u001b[0m    \u001b[39m\"\u001b[39m\u001b[39msource\u001b[39m\u001b[39m\"\u001b[39m: [\n\u001b[1;32m    368\u001b[0m     \u001b[39m\"\u001b[39m\u001b[39mdef relevant_articles_for_text():    \u001b[39m\u001b[39m\\n\u001b[39;00m\u001b[39m\"\u001b[39m,\n\u001b[1;32m    369\u001b[0m     \u001b[39m\"\u001b[39m\u001b[39m    textW = widgets.Textarea(\u001b[39m\u001b[39m\\n\u001b[39;00m\u001b[39m\"\u001b[39m,\n\u001b[1;32m    370\u001b[0m     \u001b[39m\"\u001b[39m\u001b[39m        value=\u001b[39m\u001b[39m'\u001b[39m\u001b[39m'\u001b[39m\u001b[39m,\u001b[39m\u001b[39m\\n\u001b[39;00m\u001b[39m\"\u001b[39m,\n\u001b[1;32m    371\u001b[0m     \u001b[39m\"\u001b[39m\u001b[39m        placeholder=\u001b[39m\u001b[39m'\u001b[39m\u001b[39mType something\u001b[39m\u001b[39m'\u001b[39m\u001b[39m,\u001b[39m\u001b[39m\\n\u001b[39;00m\u001b[39m\"\u001b[39m,\n\u001b[1;32m    372\u001b[0m     \u001b[39m\"\u001b[39m\u001b[39m        description=\u001b[39m\u001b[39m'\u001b[39m\u001b[39m'\u001b[39m\u001b[39m,\u001b[39m\u001b[39m\\n\u001b[39;00m\u001b[39m\"\u001b[39m,\n\u001b[1;32m    373\u001b[0m     \u001b[39m\"\u001b[39m\u001b[39m        disabled=False,\u001b[39m\u001b[39m\\n\u001b[39;00m\u001b[39m\"\u001b[39m,\n\u001b[1;32m    374\u001b[0m     \u001b[39m\"\u001b[39m\u001b[39m        layout=Layout(width=\u001b[39m\u001b[39m'\u001b[39m\u001b[39m90\u001b[39m\u001b[39m%\u001b[39m\u001b[39m'\u001b[39m\u001b[39m, height=\u001b[39m\u001b[39m'\u001b[39m\u001b[39m200px\u001b[39m\u001b[39m'\u001b[39m\u001b[39m)\u001b[39m\u001b[39m\\n\u001b[39;00m\u001b[39m\"\u001b[39m,\n\u001b[1;32m    375\u001b[0m     \u001b[39m\"\u001b[39m\u001b[39m    )\u001b[39m\u001b[39m\\n\u001b[39;00m\u001b[39m\"\u001b[39m,\n\u001b[1;32m    376\u001b[0m     \u001b[39m\"\u001b[39m\u001b[39m\\n\u001b[39;00m\u001b[39m\"\u001b[39m,\n\u001b[1;32m    377\u001b[0m     \u001b[39m\"\u001b[39m\u001b[39m    yearW = widgets.IntSlider(value=2018, description=\u001b[39m\u001b[39m'\u001b[39m\u001b[39mYear\u001b[39m\u001b[39m'\u001b[39m\u001b[39m, max=2020, min=2016, layout=Layout(width=\u001b[39m\u001b[39m'\u001b[39m\u001b[39m40\u001b[39m\u001b[39m%\u001b[39m\u001b[39m'\u001b[39m\u001b[39m))\u001b[39m\u001b[39m\\n\u001b[39;00m\u001b[39m\"\u001b[39m,\n\u001b[1;32m    378\u001b[0m     \u001b[39m\"\u001b[39m\u001b[39m\\n\u001b[39;00m\u001b[39m\"\u001b[39m,\n\u001b[1;32m    379\u001b[0m     \u001b[39m\"\u001b[39m\u001b[39m    kWidget = widgets.IntSlider(value=10, description=\u001b[39m\u001b[39m'\u001b[39m\u001b[39mNumber of articles\u001b[39m\u001b[39m'\u001b[39m\u001b[39m, max=50, min=1, layout=Layout(width=\u001b[39m\u001b[39m'\u001b[39m\u001b[39m40\u001b[39m\u001b[39m%\u001b[39m\u001b[39m'\u001b[39m\u001b[39m))\u001b[39m\u001b[39m\\n\u001b[39;00m\u001b[39m\"\u001b[39m,\n\u001b[1;32m    380\u001b[0m     \u001b[39m\"\u001b[39m\u001b[39m\\n\u001b[39;00m\u001b[39m\"\u001b[39m,\n\u001b[1;32m    381\u001b[0m     \u001b[39m\"\u001b[39m\u001b[39m    button = widgets.Button(description=\u001b[39m\u001b[39m\\\"\u001b[39;00m\u001b[39mSearch\u001b[39m\u001b[39m\\\"\u001b[39;00m\u001b[39m)\u001b[39m\u001b[39m\\n\u001b[39;00m\u001b[39m\"\u001b[39m,\n\u001b[1;32m    382\u001b[0m     \u001b[39m\"\u001b[39m\u001b[39m\\n\u001b[39;00m\u001b[39m\"\u001b[39m,\n\u001b[1;32m    383\u001b[0m     \u001b[39m\"\u001b[39m\u001b[39m    display(VBox([HBox([kWidget, yearW], layout=Layout(width=\u001b[39m\u001b[39m'\u001b[39m\u001b[39m90\u001b[39m\u001b[39m%\u001b[39m\u001b[39m'\u001b[39m\u001b[39m, justify_content=\u001b[39m\u001b[39m'\u001b[39m\u001b[39mspace-around\u001b[39m\u001b[39m'\u001b[39m\u001b[39m)),\u001b[39m\u001b[39m\\n\u001b[39;00m\u001b[39m\"\u001b[39m,\n\u001b[1;32m    384\u001b[0m     \u001b[39m\"\u001b[39m\u001b[39m        textW, button], layout=Layout(align_items=\u001b[39m\u001b[39m'\u001b[39m\u001b[39mcenter\u001b[39m\u001b[39m'\u001b[39m\u001b[39m)))\u001b[39m\u001b[39m\\n\u001b[39;00m\u001b[39m\"\u001b[39m,\n\u001b[1;32m    385\u001b[0m     \u001b[39m\"\u001b[39m\u001b[39m\\n\u001b[39;00m\u001b[39m\"\u001b[39m,\n\u001b[1;32m    386\u001b[0m     \u001b[39m\"\u001b[39m\u001b[39m    def on_button_clicked(b):\u001b[39m\u001b[39m\\n\u001b[39;00m\u001b[39m\"\u001b[39m,\n\u001b[1;32m    387\u001b[0m     \u001b[39m\"\u001b[39m\u001b[39m        clear_output()\u001b[39m\u001b[39m\\n\u001b[39;00m\u001b[39m\"\u001b[39m,\n\u001b[1;32m    388\u001b[0m     \u001b[39m\"\u001b[39m\u001b[39m        display(VBox([HBox([kWidget, yearW], layout=Layout(width=\u001b[39m\u001b[39m'\u001b[39m\u001b[39m90\u001b[39m\u001b[39m%\u001b[39m\u001b[39m'\u001b[39m\u001b[39m, justify_content=\u001b[39m\u001b[39m'\u001b[39m\u001b[39mspace-around\u001b[39m\u001b[39m'\u001b[39m\u001b[39m)),\u001b[39m\u001b[39m\\n\u001b[39;00m\u001b[39m\"\u001b[39m,\n\u001b[1;32m    389\u001b[0m     \u001b[39m\"\u001b[39m\u001b[39m            textW, button], layout=Layout(align_items=\u001b[39m\u001b[39m'\u001b[39m\u001b[39mcenter\u001b[39m\u001b[39m'\u001b[39m\u001b[39m)))        \u001b[39m\u001b[39m\\n\u001b[39;00m\u001b[39m\"\u001b[39m,\n\u001b[1;32m    390\u001b[0m     \u001b[39m\"\u001b[39m\u001b[39m        relevant_articles(textW.value, yearW.value, kWidget.value)\u001b[39m\u001b[39m\\n\u001b[39;00m\u001b[39m\"\u001b[39m,\n\u001b[1;32m    391\u001b[0m     \u001b[39m\"\u001b[39m\u001b[39m\\n\u001b[39;00m\u001b[39m\"\u001b[39m,\n\u001b[1;32m    392\u001b[0m     \u001b[39m\"\u001b[39m\u001b[39m    button.on_click(on_button_clicked)\u001b[39m\u001b[39m\"\u001b[39m\n\u001b[1;32m    393\u001b[0m    ]\n\u001b[1;32m    394\u001b[0m   },\n\u001b[1;32m    395\u001b[0m   {\n\u001b[1;32m    396\u001b[0m    \u001b[39m\"\u001b[39m\u001b[39mcell_type\u001b[39m\u001b[39m\"\u001b[39m: \u001b[39m\"\u001b[39m\u001b[39mcode\u001b[39m\u001b[39m\"\u001b[39m,\n\u001b[1;32m    397\u001b[0m    \u001b[39m\"\u001b[39m\u001b[39mexecution_count\u001b[39m\u001b[39m\"\u001b[39m: null,\n\u001b[1;32m    398\u001b[0m    \u001b[39m\"\u001b[39m\u001b[39mmetadata\u001b[39m\u001b[39m\"\u001b[39m: {},\n\u001b[1;32m    399\u001b[0m    \u001b[39m\"\u001b[39m\u001b[39moutputs\u001b[39m\u001b[39m\"\u001b[39m: [\n\u001b[1;32m    400\u001b[0m     {\n\u001b[1;32m    401\u001b[0m      \u001b[39m\"\u001b[39m\u001b[39mdata\u001b[39m\u001b[39m\"\u001b[39m: {\n\u001b[1;32m    402\u001b[0m       \u001b[39m\"\u001b[39m\u001b[39mapplication/vnd.jupyter.widget-view+json\u001b[39m\u001b[39m\"\u001b[39m: {\n\u001b[1;32m    403\u001b[0m        \u001b[39m\"\u001b[39m\u001b[39mmodel_id\u001b[39m\u001b[39m\"\u001b[39m: \u001b[39m\"\u001b[39m\u001b[39m3c8f374b950148c9be380b25cb24d7e9\u001b[39m\u001b[39m\"\u001b[39m,\n\u001b[1;32m    404\u001b[0m        \u001b[39m\"\u001b[39m\u001b[39mversion_major\u001b[39m\u001b[39m\"\u001b[39m: \u001b[39m2\u001b[39m,\n\u001b[1;32m    405\u001b[0m        \u001b[39m\"\u001b[39m\u001b[39mversion_minor\u001b[39m\u001b[39m\"\u001b[39m: \u001b[39m0\u001b[39m\n\u001b[1;32m    406\u001b[0m       },\n\u001b[1;32m    407\u001b[0m       \u001b[39m\"\u001b[39m\u001b[39mtext/plain\u001b[39m\u001b[39m\"\u001b[39m: [\n\u001b[1;32m    408\u001b[0m        \u001b[39m\"\u001b[39m\u001b[39mVBox(children=(HBox(children=(IntSlider(value=10, description=\u001b[39m\u001b[39m'\u001b[39m\u001b[39mNumber of articles\u001b[39m\u001b[39m'\u001b[39m\u001b[39m, layout=Layout(width=\u001b[39m\u001b[39m'\u001b[39m\u001b[39m40\u001b[39m\u001b[39m%\u001b[39m\u001b[39m'\u001b[39m\u001b[39m)…\u001b[39m\u001b[39m\"\u001b[39m\n\u001b[1;32m    409\u001b[0m       ]\n\u001b[1;32m    410\u001b[0m      },\n\u001b[1;32m    411\u001b[0m      \u001b[39m\"\u001b[39m\u001b[39mmetadata\u001b[39m\u001b[39m\"\u001b[39m: {},\n\u001b[1;32m    412\u001b[0m      \u001b[39m\"\u001b[39m\u001b[39moutput_type\u001b[39m\u001b[39m\"\u001b[39m: \u001b[39m\"\u001b[39m\u001b[39mdisplay_data\u001b[39m\u001b[39m\"\u001b[39m\n\u001b[1;32m    413\u001b[0m     },\n\u001b[1;32m    414\u001b[0m     {\n\u001b[1;32m    415\u001b[0m      \u001b[39m\"\u001b[39m\u001b[39mname\u001b[39m\u001b[39m\"\u001b[39m: \u001b[39m\"\u001b[39m\u001b[39mstdout\u001b[39m\u001b[39m\"\u001b[39m,\n\u001b[1;32m    416\u001b[0m      \u001b[39m\"\u001b[39m\u001b[39moutput_type\u001b[39m\u001b[39m\"\u001b[39m: \u001b[39m\"\u001b[39m\u001b[39mstream\u001b[39m\u001b[39m\"\u001b[39m,\n\u001b[1;32m    417\u001b[0m      \u001b[39m\"\u001b[39m\u001b[39mtext\u001b[39m\u001b[39m\"\u001b[39m: [\n\u001b[1;32m    418\u001b[0m       \u001b[39m\"\u001b[39m\u001b[39mcovid19\u001b[39m\u001b[39m\\n\u001b[39;00m\u001b[39m\"\u001b[39m\n\u001b[1;32m    419\u001b[0m      ]\n\u001b[1;32m    420\u001b[0m     },\n\u001b[1;32m    421\u001b[0m     {\n\u001b[1;32m    422\u001b[0m      \u001b[39m\"\u001b[39m\u001b[39mdata\u001b[39m\u001b[39m\"\u001b[39m: {\n\u001b[1;32m    423\u001b[0m       \u001b[39m\"\u001b[39m\u001b[39mtext/html\u001b[39m\u001b[39m\"\u001b[39m: [\n\u001b[1;32m    424\u001b[0m        \u001b[39m\"\u001b[39m\u001b[39m<a href=\u001b[39m\u001b[39m\\\"\u001b[39;00m\u001b[39mhttps://techcrunch.com/2019/04/24/indian-court-lifts-ban-on-tiktok-in-india/\u001b[39m\u001b[39m\\\"\u001b[39;00m\u001b[39m target=\u001b[39m\u001b[39m\\\"\u001b[39;00m\u001b[39m_blank\u001b[39m\u001b[39m\\\"\u001b[39;00m\u001b[39m>Indian court lifts ban on TikTok in India – TechCrunch</a> (Similarity: 0.57)<br/><a href=\u001b[39m\u001b[39m\\\"\u001b[39;00m\u001b[39mhttps://www.refinery29.com/en-us/2019/05/231590/lucy-hale-zodiac-tattoo-gemini\u001b[39m\u001b[39m\\\"\u001b[39;00m\u001b[39m target=\u001b[39m\u001b[39m\\\"\u001b[39;00m\u001b[39m_blank\u001b[39m\u001b[39m\\\"\u001b[39;00m\u001b[39m>Lucy Hale Gets A Gemini Constellation Tattoo </a> (Similarity: 0.57)<br/><a href=\u001b[39m\u001b[39m\\\"\u001b[39;00m\u001b[39mhttps://www.reuters.com/article/adani-trans-investment-qatar/update-2-qatar-wealth-fund-to-invest-450-mln-in-adani-power-distribution-arm-idUSL4N28L1O3\u001b[39m\u001b[39m\\\"\u001b[39;00m\u001b[39m target=\u001b[39m\u001b[39m\\\"\u001b[39;00m\u001b[39m_blank\u001b[39m\u001b[39m\\\"\u001b[39;00m\u001b[39m>UPDATE 2-Qatar wealth fund to invest $450 mln in Adani power distribution arm</a> (Similarity: 0.57)<br/><a href=\u001b[39m\u001b[39m\\\"\u001b[39;00m\u001b[39mhttps://www.reuters.com/article/us-oil-prices/rpt-update-1-cme-plans-to-launch-e-auction-for-us-crude-oil-exports-idUSL3N1ZF1KF\u001b[39m\u001b[39m\\\"\u001b[39;00m\u001b[39m target=\u001b[39m\u001b[39m\\\"\u001b[39;00m\u001b[39m_blank\u001b[39m\u001b[39m\\\"\u001b[39;00m\u001b[39m>RPT-UPDATE 1-CME plans to launch e-auction for U.S. crude oil exports</a> (Similarity: 0.50)<br/><a href=\u001b[39m\u001b[39m\\\"\u001b[39;00m\u001b[39mhttps://www.cnbc.com/2019/03/14/reuters-america-update-2-googles-work-in-china-benefiting-chinas-military-u-s-general.html\u001b[39m\u001b[39m\\\"\u001b[39;00m\u001b[39m target=\u001b[39m\u001b[39m\\\"\u001b[39;00m\u001b[39m_blank\u001b[39m\u001b[39m\\\"\u001b[39;00m\u001b[39m>UPDATE 2-Google\u001b[39m\u001b[39m'\u001b[39m\u001b[39ms work in China benefiting China\u001b[39m\u001b[39m'\u001b[39m\u001b[39ms military -U.S. general</a> (Similarity: 0.49)<br/><a href=\u001b[39m\u001b[39m\\\"\u001b[39;00m\u001b[39mhttps://www.reuters.com/article/us-usa-trump-storch/white-house-picks-thomas-storch-as-new-senior-trade-adviser-idUSKBN1XA2PQ\u001b[39m\u001b[39m\\\"\u001b[39;00m\u001b[39m target=\u001b[39m\u001b[39m\\\"\u001b[39;00m\u001b[39m_blank\u001b[39m\u001b[39m\\\"\u001b[39;00m\u001b[39m>White House picks Thomas Storch as new senior trade adviser</a> (Similarity: 0.49)<br/><a href=\u001b[39m\u001b[39m\\\"\u001b[39;00m\u001b[39mhttps://www.cnbc.com/2019/03/28/reuters-america-analysis-no-call-for-simulators-in-new-boeing-737-max-training-proposals.html\u001b[39m\u001b[39m\\\"\u001b[39;00m\u001b[39m target=\u001b[39m\u001b[39m\\\"\u001b[39;00m\u001b[39m_blank\u001b[39m\u001b[39m\\\"\u001b[39;00m\u001b[39m>ANALYSIS-No call for simulators in new Boeing 737 MAX training proposals</a> (Similarity: 0.49)<br/><a href=\u001b[39m\u001b[39m\\\"\u001b[39;00m\u001b[39mhttps://www.reuters.com/article/malaysia-singapore-railway/malaysia-singapore-rail-link-back-on-at-lower-cost-mahathir-idUSS7N20U00Z\u001b[39m\u001b[39m\\\"\u001b[39;00m\u001b[39m target=\u001b[39m\u001b[39m\\\"\u001b[39;00m\u001b[39m_blank\u001b[39m\u001b[39m\\\"\u001b[39;00m\u001b[39m>Malaysia-Singapore rail link back on at lower cost - Mahathir</a> (Similarity: 0.49)<br/><a href=\u001b[39m\u001b[39m\\\"\u001b[39;00m\u001b[39mhttps://www.tmz.com/2019/12/19/international-soccer-player-shahdon-winchester-trinidad-tobago-dead-car-accident/\u001b[39m\u001b[39m\\\"\u001b[39;00m\u001b[39m target=\u001b[39m\u001b[39m\\\"\u001b[39;00m\u001b[39m_blank\u001b[39m\u001b[39m\\\"\u001b[39;00m\u001b[39m>International Soccer Player Shahdon Winchester Dead At 27 After Car Crash</a> (Similarity: 0.48)<br/><a href=\u001b[39m\u001b[39m\\\"\u001b[39;00m\u001b[39mhttps://www.reuters.com/article/us-wikileaks-assange/us-extradition-request-for-julian-assange-to-be-heard-on-thursday-idUSKCN1S61WG\u001b[39m\u001b[39m\\\"\u001b[39;00m\u001b[39m target=\u001b[39m\u001b[39m\\\"\u001b[39;00m\u001b[39m_blank\u001b[39m\u001b[39m\\\"\u001b[39;00m\u001b[39m>U.S. extradition request for Julian Assange to be heard on Thursday</a> (Similarity: 0.47)\u001b[39m\u001b[39m\"\u001b[39m\n\u001b[1;32m    425\u001b[0m       ],\n\u001b[1;32m    426\u001b[0m       \u001b[39m\"\u001b[39m\u001b[39mtext/plain\u001b[39m\u001b[39m\"\u001b[39m: [\n\u001b[1;32m    427\u001b[0m        \u001b[39m\"\u001b[39m\u001b[39m<IPython.core.display.HTML object>\u001b[39m\u001b[39m\"\u001b[39m\n\u001b[1;32m    428\u001b[0m       ]\n\u001b[1;32m    429\u001b[0m      },\n\u001b[1;32m    430\u001b[0m      \u001b[39m\"\u001b[39m\u001b[39mmetadata\u001b[39m\u001b[39m\"\u001b[39m: {},\n\u001b[1;32m    431\u001b[0m      \u001b[39m\"\u001b[39m\u001b[39moutput_type\u001b[39m\u001b[39m\"\u001b[39m: \u001b[39m\"\u001b[39m\u001b[39mdisplay_data\u001b[39m\u001b[39m\"\u001b[39m\n\u001b[1;32m    432\u001b[0m     }\n\u001b[1;32m    433\u001b[0m    ],\n\u001b[1;32m    434\u001b[0m    \u001b[39m\"\u001b[39m\u001b[39msource\u001b[39m\u001b[39m\"\u001b[39m: [\n\u001b[1;32m    435\u001b[0m     \u001b[39m\"\u001b[39m\u001b[39mrelevant_articles_for_text()\u001b[39m\u001b[39m\"\u001b[39m\n\u001b[1;32m    436\u001b[0m    ]\n\u001b[1;32m    437\u001b[0m   }\n\u001b[1;32m    438\u001b[0m  ],\n\u001b[1;32m    439\u001b[0m  \u001b[39m\"\u001b[39m\u001b[39mmetadata\u001b[39m\u001b[39m\"\u001b[39m: {\n\u001b[1;32m    440\u001b[0m   \u001b[39m\"\u001b[39m\u001b[39mkernelspec\u001b[39m\u001b[39m\"\u001b[39m: {\n\u001b[1;32m    441\u001b[0m    \u001b[39m\"\u001b[39m\u001b[39mdisplay_name\u001b[39m\u001b[39m\"\u001b[39m: \u001b[39m\"\u001b[39m\u001b[39mPython 3\u001b[39m\u001b[39m\"\u001b[39m,\n\u001b[1;32m    442\u001b[0m    \u001b[39m\"\u001b[39m\u001b[39mlanguage\u001b[39m\u001b[39m\"\u001b[39m: \u001b[39m\"\u001b[39m\u001b[39mpython\u001b[39m\u001b[39m\"\u001b[39m,\n\u001b[1;32m    443\u001b[0m    \u001b[39m\"\u001b[39m\u001b[39mname\u001b[39m\u001b[39m\"\u001b[39m: \u001b[39m\"\u001b[39m\u001b[39mpython3\u001b[39m\u001b[39m\"\u001b[39m\n\u001b[1;32m    444\u001b[0m   },\n\u001b[1;32m    445\u001b[0m   \u001b[39m\"\u001b[39m\u001b[39mlanguage_info\u001b[39m\u001b[39m\"\u001b[39m: {\n\u001b[1;32m    446\u001b[0m    \u001b[39m\"\u001b[39m\u001b[39mcodemirror_mode\u001b[39m\u001b[39m\"\u001b[39m: {\n\u001b[1;32m    447\u001b[0m     \u001b[39m\"\u001b[39m\u001b[39mname\u001b[39m\u001b[39m\"\u001b[39m: \u001b[39m\"\u001b[39m\u001b[39mipython\u001b[39m\u001b[39m\"\u001b[39m,\n\u001b[1;32m    448\u001b[0m     \u001b[39m\"\u001b[39m\u001b[39mversion\u001b[39m\u001b[39m\"\u001b[39m: \u001b[39m3\u001b[39m\n\u001b[1;32m    449\u001b[0m    },\n\u001b[1;32m    450\u001b[0m    \u001b[39m\"\u001b[39m\u001b[39mfile_extension\u001b[39m\u001b[39m\"\u001b[39m: \u001b[39m\"\u001b[39m\u001b[39m.py\u001b[39m\u001b[39m\"\u001b[39m,\n\u001b[1;32m    451\u001b[0m    \u001b[39m\"\u001b[39m\u001b[39mmimetype\u001b[39m\u001b[39m\"\u001b[39m: \u001b[39m\"\u001b[39m\u001b[39mtext/x-python\u001b[39m\u001b[39m\"\u001b[39m,\n\u001b[1;32m    452\u001b[0m    \u001b[39m\"\u001b[39m\u001b[39mname\u001b[39m\u001b[39m\"\u001b[39m: \u001b[39m\"\u001b[39m\u001b[39mpython\u001b[39m\u001b[39m\"\u001b[39m,\n\u001b[1;32m    453\u001b[0m    \u001b[39m\"\u001b[39m\u001b[39mnbconvert_exporter\u001b[39m\u001b[39m\"\u001b[39m: \u001b[39m\"\u001b[39m\u001b[39mpython\u001b[39m\u001b[39m\"\u001b[39m,\n\u001b[1;32m    454\u001b[0m    \u001b[39m\"\u001b[39m\u001b[39mpygments_lexer\u001b[39m\u001b[39m\"\u001b[39m: \u001b[39m\"\u001b[39m\u001b[39mipython3\u001b[39m\u001b[39m\"\u001b[39m,\n\u001b[1;32m    455\u001b[0m    \u001b[39m\"\u001b[39m\u001b[39mversion\u001b[39m\u001b[39m\"\u001b[39m: \u001b[39m\"\u001b[39m\u001b[39m3.10.6\u001b[39m\u001b[39m\"\u001b[39m\n\u001b[1;32m    456\u001b[0m   },\n\u001b[1;32m    457\u001b[0m   \u001b[39m\"\u001b[39m\u001b[39morig_nbformat\u001b[39m\u001b[39m\"\u001b[39m: \u001b[39m4\u001b[39m\n\u001b[1;32m    458\u001b[0m  },\n\u001b[1;32m    459\u001b[0m  \u001b[39m\"\u001b[39m\u001b[39mnbformat\u001b[39m\u001b[39m\"\u001b[39m: \u001b[39m4\u001b[39m,\n\u001b[1;32m    460\u001b[0m  \u001b[39m\"\u001b[39m\u001b[39mnbformat_minor\u001b[39m\u001b[39m\"\u001b[39m: \u001b[39m2\u001b[39m\n\u001b[1;32m    461\u001b[0m }\n",
      "\u001b[0;31mNameError\u001b[0m: name 'doc_topic_dist' is not defined"
     ]
    }
   ],
   "source": [
    "recommendation(df, doc_topic_dist, \"U.S. manufacturing output rises unexpectedly\", 2020, k=10, plot_dna=True)"
   ]
  },
  {
   "cell_type": "markdown",
   "metadata": {},
   "source": []
  }
 ],
 "metadata": {
  "kernelspec": {
   "display_name": "Python 3",
   "language": "python",
   "name": "python3"
  },
  "language_info": {
   "codemirror_mode": {
    "name": "ipython",
    "version": 3
   },
   "file_extension": ".py",
   "mimetype": "text/x-python",
   "name": "python",
   "nbconvert_exporter": "python",
   "pygments_lexer": "ipython3",
   "version": "3.10.6"
  },
  "orig_nbformat": 4
 },
 "nbformat": 4,
 "nbformat_minor": 2
}
